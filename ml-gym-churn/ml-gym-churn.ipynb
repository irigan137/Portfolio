{
 "cells": [
  {
   "cell_type": "markdown",
   "metadata": {},
   "source": [
    "# Project Description and Objectives\n",
    "The purpose of the project is to analyze fitness club customer questionnaires and then prepare an action plan for customer retention.\n",
    "\n",
    "\n",
    "At the end of the project the following tasks should be accomplished:\n",
    "\n",
    "    1. identify target groups of clients;\n",
    "    2. suggest measures to reduce churn;\n",
    "    3. identify other features of customer interaction.\n",
    "\n",
    "The project includes the following steps:\n",
    "\n",
    "    1. exploratory data analysis;\n",
    "    2. creation of a model for predicting customer churn;\n",
    "    3. clustering of customers;\n",
    "    4. conclusions and recommendations."
   ]
  },
  {
   "cell_type": "markdown",
   "metadata": {},
   "source": [
    "# Data upload and pre-processing"
   ]
  },
  {
   "cell_type": "code",
   "execution_count": 30,
   "metadata": {},
   "outputs": [],
   "source": [
    "# importing libraries\n",
    "\n",
    "import pandas as pd\n",
    "import matplotlib.pyplot as plt\n",
    "import seaborn as sns\n",
    "from sklearn.preprocessing import StandardScaler\n",
    "from sklearn.model_selection import train_test_split\n",
    "from sklearn.linear_model import LogisticRegression\n",
    "from sklearn.ensemble import RandomForestClassifier\n",
    "from sklearn.metrics import accuracy_score, precision_score, recall_score, f1_score\n",
    "from sklearn.cluster import KMeans\n",
    "from scipy.cluster.hierarchy import dendrogram, linkage\n",
    "from sklearn.metrics import silhouette_score"
   ]
  },
  {
   "cell_type": "code",
   "execution_count": 31,
   "metadata": {},
   "outputs": [],
   "source": [
    "# creating the dataframe\n",
    "\n",
    "df = pd.read_csv('gym_churn.csv')"
   ]
  },
  {
   "cell_type": "code",
   "execution_count": 32,
   "metadata": {
    "scrolled": true
   },
   "outputs": [
    {
     "data": {
      "text/html": [
       "<div>\n",
       "<style scoped>\n",
       "    .dataframe tbody tr th:only-of-type {\n",
       "        vertical-align: middle;\n",
       "    }\n",
       "\n",
       "    .dataframe tbody tr th {\n",
       "        vertical-align: top;\n",
       "    }\n",
       "\n",
       "    .dataframe thead th {\n",
       "        text-align: right;\n",
       "    }\n",
       "</style>\n",
       "<table border=\"1\" class=\"dataframe\">\n",
       "  <thead>\n",
       "    <tr style=\"text-align: right;\">\n",
       "      <th></th>\n",
       "      <th>gender</th>\n",
       "      <th>Near_Location</th>\n",
       "      <th>Partner</th>\n",
       "      <th>Promo_friends</th>\n",
       "      <th>Phone</th>\n",
       "      <th>Contract_period</th>\n",
       "      <th>Group_visits</th>\n",
       "      <th>Age</th>\n",
       "      <th>Avg_additional_charges_total</th>\n",
       "      <th>Month_to_end_contract</th>\n",
       "      <th>Lifetime</th>\n",
       "      <th>Avg_class_frequency_total</th>\n",
       "      <th>Avg_class_frequency_current_month</th>\n",
       "      <th>Churn</th>\n",
       "    </tr>\n",
       "  </thead>\n",
       "  <tbody>\n",
       "    <tr>\n",
       "      <th>0</th>\n",
       "      <td>1</td>\n",
       "      <td>1</td>\n",
       "      <td>1</td>\n",
       "      <td>1</td>\n",
       "      <td>0</td>\n",
       "      <td>6</td>\n",
       "      <td>1</td>\n",
       "      <td>29</td>\n",
       "      <td>14.227470</td>\n",
       "      <td>5.0</td>\n",
       "      <td>3</td>\n",
       "      <td>0.020398</td>\n",
       "      <td>0.000000</td>\n",
       "      <td>0</td>\n",
       "    </tr>\n",
       "    <tr>\n",
       "      <th>1</th>\n",
       "      <td>0</td>\n",
       "      <td>1</td>\n",
       "      <td>0</td>\n",
       "      <td>0</td>\n",
       "      <td>1</td>\n",
       "      <td>12</td>\n",
       "      <td>1</td>\n",
       "      <td>31</td>\n",
       "      <td>113.202938</td>\n",
       "      <td>12.0</td>\n",
       "      <td>7</td>\n",
       "      <td>1.922936</td>\n",
       "      <td>1.910244</td>\n",
       "      <td>0</td>\n",
       "    </tr>\n",
       "    <tr>\n",
       "      <th>2</th>\n",
       "      <td>0</td>\n",
       "      <td>1</td>\n",
       "      <td>1</td>\n",
       "      <td>0</td>\n",
       "      <td>1</td>\n",
       "      <td>1</td>\n",
       "      <td>0</td>\n",
       "      <td>28</td>\n",
       "      <td>129.448479</td>\n",
       "      <td>1.0</td>\n",
       "      <td>2</td>\n",
       "      <td>1.859098</td>\n",
       "      <td>1.736502</td>\n",
       "      <td>0</td>\n",
       "    </tr>\n",
       "    <tr>\n",
       "      <th>3</th>\n",
       "      <td>0</td>\n",
       "      <td>1</td>\n",
       "      <td>1</td>\n",
       "      <td>1</td>\n",
       "      <td>1</td>\n",
       "      <td>12</td>\n",
       "      <td>1</td>\n",
       "      <td>33</td>\n",
       "      <td>62.669863</td>\n",
       "      <td>12.0</td>\n",
       "      <td>2</td>\n",
       "      <td>3.205633</td>\n",
       "      <td>3.357215</td>\n",
       "      <td>0</td>\n",
       "    </tr>\n",
       "    <tr>\n",
       "      <th>4</th>\n",
       "      <td>1</td>\n",
       "      <td>1</td>\n",
       "      <td>1</td>\n",
       "      <td>1</td>\n",
       "      <td>1</td>\n",
       "      <td>1</td>\n",
       "      <td>0</td>\n",
       "      <td>26</td>\n",
       "      <td>198.362265</td>\n",
       "      <td>1.0</td>\n",
       "      <td>3</td>\n",
       "      <td>1.113884</td>\n",
       "      <td>1.120078</td>\n",
       "      <td>0</td>\n",
       "    </tr>\n",
       "  </tbody>\n",
       "</table>\n",
       "</div>"
      ],
      "text/plain": [
       "   gender  Near_Location  Partner  Promo_friends  Phone  Contract_period  \\\n",
       "0       1              1        1              1      0                6   \n",
       "1       0              1        0              0      1               12   \n",
       "2       0              1        1              0      1                1   \n",
       "3       0              1        1              1      1               12   \n",
       "4       1              1        1              1      1                1   \n",
       "\n",
       "   Group_visits  Age  Avg_additional_charges_total  Month_to_end_contract  \\\n",
       "0             1   29                     14.227470                    5.0   \n",
       "1             1   31                    113.202938                   12.0   \n",
       "2             0   28                    129.448479                    1.0   \n",
       "3             1   33                     62.669863                   12.0   \n",
       "4             0   26                    198.362265                    1.0   \n",
       "\n",
       "   Lifetime  Avg_class_frequency_total  Avg_class_frequency_current_month  \\\n",
       "0         3                   0.020398                           0.000000   \n",
       "1         7                   1.922936                           1.910244   \n",
       "2         2                   1.859098                           1.736502   \n",
       "3         2                   3.205633                           3.357215   \n",
       "4         3                   1.113884                           1.120078   \n",
       "\n",
       "   Churn  \n",
       "0      0  \n",
       "1      0  \n",
       "2      0  \n",
       "3      0  \n",
       "4      0  "
      ]
     },
     "execution_count": 32,
     "metadata": {},
     "output_type": "execute_result"
    }
   ],
   "source": [
    "df.head()"
   ]
  },
  {
   "cell_type": "code",
   "execution_count": 35,
   "metadata": {},
   "outputs": [
    {
     "data": {
      "text/plain": [
       "Index(['gender', 'near_location', 'partner', 'promo_friends', 'phone',\n",
       "       'contract_period', 'group_visits', 'age',\n",
       "       'avg_additional_charges_total', 'month_to_end_contract', 'lifetime',\n",
       "       'avg_class_frequency_total', 'avg_class_frequency_current_month',\n",
       "       'churn'],\n",
       "      dtype='object')"
      ]
     },
     "execution_count": 35,
     "metadata": {},
     "output_type": "execute_result"
    }
   ],
   "source": [
    "# setting the column names to lower case \n",
    "\n",
    "df.columns = df.columns.str.lower()\n",
    "df.columns"
   ]
  },
  {
   "cell_type": "markdown",
   "metadata": {},
   "source": []
  },
  {
   "cell_type": "markdown",
   "metadata": {},
   "source": [
    "# EDA"
   ]
  },
  {
   "cell_type": "markdown",
   "metadata": {},
   "source": [
    "## Data description"
   ]
  },
  {
   "cell_type": "code",
   "execution_count": 36,
   "metadata": {
    "scrolled": true
   },
   "outputs": [
    {
     "name": "stdout",
     "output_type": "stream",
     "text": [
      "<class 'pandas.core.frame.DataFrame'>\n",
      "RangeIndex: 4000 entries, 0 to 3999\n",
      "Data columns (total 14 columns):\n",
      " #   Column                             Non-Null Count  Dtype  \n",
      "---  ------                             --------------  -----  \n",
      " 0   gender                             4000 non-null   int64  \n",
      " 1   near_location                      4000 non-null   int64  \n",
      " 2   partner                            4000 non-null   int64  \n",
      " 3   promo_friends                      4000 non-null   int64  \n",
      " 4   phone                              4000 non-null   int64  \n",
      " 5   contract_period                    4000 non-null   int64  \n",
      " 6   group_visits                       4000 non-null   int64  \n",
      " 7   age                                4000 non-null   int64  \n",
      " 8   avg_additional_charges_total       4000 non-null   float64\n",
      " 9   month_to_end_contract              4000 non-null   float64\n",
      " 10  lifetime                           4000 non-null   int64  \n",
      " 11  avg_class_frequency_total          4000 non-null   float64\n",
      " 12  avg_class_frequency_current_month  4000 non-null   float64\n",
      " 13  churn                              4000 non-null   int64  \n",
      "dtypes: float64(4), int64(10)\n",
      "memory usage: 437.6 KB\n"
     ]
    }
   ],
   "source": [
    "df.info()"
   ]
  },
  {
   "cell_type": "code",
   "execution_count": 37,
   "metadata": {},
   "outputs": [
    {
     "data": {
      "text/plain": [
       "0"
      ]
     },
     "execution_count": 37,
     "metadata": {},
     "output_type": "execute_result"
    }
   ],
   "source": [
    "# checking for duplicates\n",
    "\n",
    "df.duplicated().sum()"
   ]
  },
  {
   "cell_type": "markdown",
   "metadata": {},
   "source": [
    "There are 4000 records in df, data types are specified correctly, there are no missing values and no duplicates."
   ]
  },
  {
   "cell_type": "code",
   "execution_count": 38,
   "metadata": {
    "scrolled": true
   },
   "outputs": [
    {
     "data": {
      "text/html": [
       "<div>\n",
       "<style scoped>\n",
       "    .dataframe tbody tr th:only-of-type {\n",
       "        vertical-align: middle;\n",
       "    }\n",
       "\n",
       "    .dataframe tbody tr th {\n",
       "        vertical-align: top;\n",
       "    }\n",
       "\n",
       "    .dataframe thead th {\n",
       "        text-align: right;\n",
       "    }\n",
       "</style>\n",
       "<table border=\"1\" class=\"dataframe\">\n",
       "  <thead>\n",
       "    <tr style=\"text-align: right;\">\n",
       "      <th></th>\n",
       "      <th>count</th>\n",
       "      <th>mean</th>\n",
       "      <th>std</th>\n",
       "      <th>min</th>\n",
       "      <th>25%</th>\n",
       "      <th>50%</th>\n",
       "      <th>75%</th>\n",
       "      <th>max</th>\n",
       "    </tr>\n",
       "  </thead>\n",
       "  <tbody>\n",
       "    <tr>\n",
       "      <th>gender</th>\n",
       "      <td>4000.0</td>\n",
       "      <td>0.510250</td>\n",
       "      <td>0.499957</td>\n",
       "      <td>0.000000</td>\n",
       "      <td>0.000000</td>\n",
       "      <td>1.000000</td>\n",
       "      <td>1.000000</td>\n",
       "      <td>1.000000</td>\n",
       "    </tr>\n",
       "    <tr>\n",
       "      <th>near_location</th>\n",
       "      <td>4000.0</td>\n",
       "      <td>0.845250</td>\n",
       "      <td>0.361711</td>\n",
       "      <td>0.000000</td>\n",
       "      <td>1.000000</td>\n",
       "      <td>1.000000</td>\n",
       "      <td>1.000000</td>\n",
       "      <td>1.000000</td>\n",
       "    </tr>\n",
       "    <tr>\n",
       "      <th>partner</th>\n",
       "      <td>4000.0</td>\n",
       "      <td>0.486750</td>\n",
       "      <td>0.499887</td>\n",
       "      <td>0.000000</td>\n",
       "      <td>0.000000</td>\n",
       "      <td>0.000000</td>\n",
       "      <td>1.000000</td>\n",
       "      <td>1.000000</td>\n",
       "    </tr>\n",
       "    <tr>\n",
       "      <th>promo_friends</th>\n",
       "      <td>4000.0</td>\n",
       "      <td>0.308500</td>\n",
       "      <td>0.461932</td>\n",
       "      <td>0.000000</td>\n",
       "      <td>0.000000</td>\n",
       "      <td>0.000000</td>\n",
       "      <td>1.000000</td>\n",
       "      <td>1.000000</td>\n",
       "    </tr>\n",
       "    <tr>\n",
       "      <th>phone</th>\n",
       "      <td>4000.0</td>\n",
       "      <td>0.903500</td>\n",
       "      <td>0.295313</td>\n",
       "      <td>0.000000</td>\n",
       "      <td>1.000000</td>\n",
       "      <td>1.000000</td>\n",
       "      <td>1.000000</td>\n",
       "      <td>1.000000</td>\n",
       "    </tr>\n",
       "    <tr>\n",
       "      <th>contract_period</th>\n",
       "      <td>4000.0</td>\n",
       "      <td>4.681250</td>\n",
       "      <td>4.549706</td>\n",
       "      <td>1.000000</td>\n",
       "      <td>1.000000</td>\n",
       "      <td>1.000000</td>\n",
       "      <td>6.000000</td>\n",
       "      <td>12.000000</td>\n",
       "    </tr>\n",
       "    <tr>\n",
       "      <th>group_visits</th>\n",
       "      <td>4000.0</td>\n",
       "      <td>0.412250</td>\n",
       "      <td>0.492301</td>\n",
       "      <td>0.000000</td>\n",
       "      <td>0.000000</td>\n",
       "      <td>0.000000</td>\n",
       "      <td>1.000000</td>\n",
       "      <td>1.000000</td>\n",
       "    </tr>\n",
       "    <tr>\n",
       "      <th>age</th>\n",
       "      <td>4000.0</td>\n",
       "      <td>29.184250</td>\n",
       "      <td>3.258367</td>\n",
       "      <td>18.000000</td>\n",
       "      <td>27.000000</td>\n",
       "      <td>29.000000</td>\n",
       "      <td>31.000000</td>\n",
       "      <td>41.000000</td>\n",
       "    </tr>\n",
       "    <tr>\n",
       "      <th>avg_additional_charges_total</th>\n",
       "      <td>4000.0</td>\n",
       "      <td>146.943728</td>\n",
       "      <td>96.355602</td>\n",
       "      <td>0.148205</td>\n",
       "      <td>68.868830</td>\n",
       "      <td>136.220159</td>\n",
       "      <td>210.949625</td>\n",
       "      <td>552.590740</td>\n",
       "    </tr>\n",
       "    <tr>\n",
       "      <th>month_to_end_contract</th>\n",
       "      <td>4000.0</td>\n",
       "      <td>4.322750</td>\n",
       "      <td>4.191297</td>\n",
       "      <td>1.000000</td>\n",
       "      <td>1.000000</td>\n",
       "      <td>1.000000</td>\n",
       "      <td>6.000000</td>\n",
       "      <td>12.000000</td>\n",
       "    </tr>\n",
       "    <tr>\n",
       "      <th>lifetime</th>\n",
       "      <td>4000.0</td>\n",
       "      <td>3.724750</td>\n",
       "      <td>3.749267</td>\n",
       "      <td>0.000000</td>\n",
       "      <td>1.000000</td>\n",
       "      <td>3.000000</td>\n",
       "      <td>5.000000</td>\n",
       "      <td>31.000000</td>\n",
       "    </tr>\n",
       "    <tr>\n",
       "      <th>avg_class_frequency_total</th>\n",
       "      <td>4000.0</td>\n",
       "      <td>1.879020</td>\n",
       "      <td>0.972245</td>\n",
       "      <td>0.000000</td>\n",
       "      <td>1.180875</td>\n",
       "      <td>1.832768</td>\n",
       "      <td>2.536078</td>\n",
       "      <td>6.023668</td>\n",
       "    </tr>\n",
       "    <tr>\n",
       "      <th>avg_class_frequency_current_month</th>\n",
       "      <td>4000.0</td>\n",
       "      <td>1.767052</td>\n",
       "      <td>1.052906</td>\n",
       "      <td>0.000000</td>\n",
       "      <td>0.963003</td>\n",
       "      <td>1.719574</td>\n",
       "      <td>2.510336</td>\n",
       "      <td>6.146783</td>\n",
       "    </tr>\n",
       "    <tr>\n",
       "      <th>churn</th>\n",
       "      <td>4000.0</td>\n",
       "      <td>0.265250</td>\n",
       "      <td>0.441521</td>\n",
       "      <td>0.000000</td>\n",
       "      <td>0.000000</td>\n",
       "      <td>0.000000</td>\n",
       "      <td>1.000000</td>\n",
       "      <td>1.000000</td>\n",
       "    </tr>\n",
       "  </tbody>\n",
       "</table>\n",
       "</div>"
      ],
      "text/plain": [
       "                                    count        mean        std        min  \\\n",
       "gender                             4000.0    0.510250   0.499957   0.000000   \n",
       "near_location                      4000.0    0.845250   0.361711   0.000000   \n",
       "partner                            4000.0    0.486750   0.499887   0.000000   \n",
       "promo_friends                      4000.0    0.308500   0.461932   0.000000   \n",
       "phone                              4000.0    0.903500   0.295313   0.000000   \n",
       "contract_period                    4000.0    4.681250   4.549706   1.000000   \n",
       "group_visits                       4000.0    0.412250   0.492301   0.000000   \n",
       "age                                4000.0   29.184250   3.258367  18.000000   \n",
       "avg_additional_charges_total       4000.0  146.943728  96.355602   0.148205   \n",
       "month_to_end_contract              4000.0    4.322750   4.191297   1.000000   \n",
       "lifetime                           4000.0    3.724750   3.749267   0.000000   \n",
       "avg_class_frequency_total          4000.0    1.879020   0.972245   0.000000   \n",
       "avg_class_frequency_current_month  4000.0    1.767052   1.052906   0.000000   \n",
       "churn                              4000.0    0.265250   0.441521   0.000000   \n",
       "\n",
       "                                         25%         50%         75%  \\\n",
       "gender                              0.000000    1.000000    1.000000   \n",
       "near_location                       1.000000    1.000000    1.000000   \n",
       "partner                             0.000000    0.000000    1.000000   \n",
       "promo_friends                       0.000000    0.000000    1.000000   \n",
       "phone                               1.000000    1.000000    1.000000   \n",
       "contract_period                     1.000000    1.000000    6.000000   \n",
       "group_visits                        0.000000    0.000000    1.000000   \n",
       "age                                27.000000   29.000000   31.000000   \n",
       "avg_additional_charges_total       68.868830  136.220159  210.949625   \n",
       "month_to_end_contract               1.000000    1.000000    6.000000   \n",
       "lifetime                            1.000000    3.000000    5.000000   \n",
       "avg_class_frequency_total           1.180875    1.832768    2.536078   \n",
       "avg_class_frequency_current_month   0.963003    1.719574    2.510336   \n",
       "churn                               0.000000    0.000000    1.000000   \n",
       "\n",
       "                                          max  \n",
       "gender                               1.000000  \n",
       "near_location                        1.000000  \n",
       "partner                              1.000000  \n",
       "promo_friends                        1.000000  \n",
       "phone                                1.000000  \n",
       "contract_period                     12.000000  \n",
       "group_visits                         1.000000  \n",
       "age                                 41.000000  \n",
       "avg_additional_charges_total       552.590740  \n",
       "month_to_end_contract               12.000000  \n",
       "lifetime                            31.000000  \n",
       "avg_class_frequency_total            6.023668  \n",
       "avg_class_frequency_current_month    6.146783  \n",
       "churn                                1.000000  "
      ]
     },
     "execution_count": 38,
     "metadata": {},
     "output_type": "execute_result"
    }
   ],
   "source": [
    "# dataframe description\n",
    "\n",
    "df.describe().T"
   ]
  },
  {
   "cell_type": "markdown",
   "metadata": {},
   "source": [
    "Based on the description we can see that:\n",
    "\n",
    "1. Almost 85% of customers live close to the club.\n",
    "2. Almost half of the clients (49%) are employees of the club's partner company.\n",
    "3. Approx. 30% signed up as part of a \"bring a friend\" promotion\n",
    "4. Approx. 40% of clients go to group classes.\n",
    "5. The average age of clients is 29 years old, the youngest users are 18 years old and the oldest are 41 years old.\n",
    "6. Average frequency of visits per week is about 2 visits.\n",
    "7. Average customer lifetime - approx. 4 months.\n",
    "8. Current average churn rate - 27%."
   ]
  },
  {
   "cell_type": "code",
   "execution_count": 39,
   "metadata": {
    "scrolled": true
   },
   "outputs": [
    {
     "data": {
      "text/html": [
       "<div>\n",
       "<style scoped>\n",
       "    .dataframe tbody tr th:only-of-type {\n",
       "        vertical-align: middle;\n",
       "    }\n",
       "\n",
       "    .dataframe tbody tr th {\n",
       "        vertical-align: top;\n",
       "    }\n",
       "\n",
       "    .dataframe thead th {\n",
       "        text-align: right;\n",
       "    }\n",
       "</style>\n",
       "<table border=\"1\" class=\"dataframe\">\n",
       "  <thead>\n",
       "    <tr style=\"text-align: right;\">\n",
       "      <th>churn</th>\n",
       "      <th>0</th>\n",
       "      <th>1</th>\n",
       "    </tr>\n",
       "  </thead>\n",
       "  <tbody>\n",
       "    <tr>\n",
       "      <th>gender</th>\n",
       "      <td>0.51</td>\n",
       "      <td>0.51</td>\n",
       "    </tr>\n",
       "    <tr>\n",
       "      <th>near_location</th>\n",
       "      <td>0.87</td>\n",
       "      <td>0.77</td>\n",
       "    </tr>\n",
       "    <tr>\n",
       "      <th>partner</th>\n",
       "      <td>0.53</td>\n",
       "      <td>0.36</td>\n",
       "    </tr>\n",
       "    <tr>\n",
       "      <th>promo_friends</th>\n",
       "      <td>0.35</td>\n",
       "      <td>0.18</td>\n",
       "    </tr>\n",
       "    <tr>\n",
       "      <th>phone</th>\n",
       "      <td>0.90</td>\n",
       "      <td>0.90</td>\n",
       "    </tr>\n",
       "    <tr>\n",
       "      <th>contract_period</th>\n",
       "      <td>5.75</td>\n",
       "      <td>1.73</td>\n",
       "    </tr>\n",
       "    <tr>\n",
       "      <th>group_visits</th>\n",
       "      <td>0.46</td>\n",
       "      <td>0.27</td>\n",
       "    </tr>\n",
       "    <tr>\n",
       "      <th>age</th>\n",
       "      <td>29.98</td>\n",
       "      <td>26.99</td>\n",
       "    </tr>\n",
       "    <tr>\n",
       "      <th>avg_additional_charges_total</th>\n",
       "      <td>158.45</td>\n",
       "      <td>115.08</td>\n",
       "    </tr>\n",
       "    <tr>\n",
       "      <th>month_to_end_contract</th>\n",
       "      <td>5.28</td>\n",
       "      <td>1.66</td>\n",
       "    </tr>\n",
       "    <tr>\n",
       "      <th>lifetime</th>\n",
       "      <td>4.71</td>\n",
       "      <td>0.99</td>\n",
       "    </tr>\n",
       "    <tr>\n",
       "      <th>avg_class_frequency_total</th>\n",
       "      <td>2.02</td>\n",
       "      <td>1.47</td>\n",
       "    </tr>\n",
       "    <tr>\n",
       "      <th>avg_class_frequency_current_month</th>\n",
       "      <td>2.03</td>\n",
       "      <td>1.04</td>\n",
       "    </tr>\n",
       "  </tbody>\n",
       "</table>\n",
       "</div>"
      ],
      "text/plain": [
       "churn                                   0       1\n",
       "gender                               0.51    0.51\n",
       "near_location                        0.87    0.77\n",
       "partner                              0.53    0.36\n",
       "promo_friends                        0.35    0.18\n",
       "phone                                0.90    0.90\n",
       "contract_period                      5.75    1.73\n",
       "group_visits                         0.46    0.27\n",
       "age                                 29.98   26.99\n",
       "avg_additional_charges_total       158.45  115.08\n",
       "month_to_end_contract                5.28    1.66\n",
       "lifetime                             4.71    0.99\n",
       "avg_class_frequency_total            2.02    1.47\n",
       "avg_class_frequency_current_month    2.03    1.04"
      ]
     },
     "execution_count": 39,
     "metadata": {},
     "output_type": "execute_result"
    }
   ],
   "source": [
    "# average values of customer features for groups with and without churn\n",
    "grouped_by_churn = df.groupby('churn').mean().round(2).T\n",
    "grouped_by_churn"
   ]
  },
  {
   "cell_type": "markdown",
   "metadata": {},
   "source": [
    "In the breakdown by churn, it can be noted that:\n",
    "\n",
    "1. There is no difference between men and women;\n",
    "2. Churn is slightly higher among those who live far away from the club (87% vs 77%)\n",
    "3. Churn is higher among the employees of the club's partner company (53% vs 36%).\n",
    "4. Churn rate is higher among those who came under the \"bring a friend\" campaign (35% vs 18%)\n",
    "5. Churn rate is higher among those who do not go to group classes (46% vs 27%)."
   ]
  },
  {
   "cell_type": "markdown",
   "metadata": {},
   "source": [
    "## Feature distributions"
   ]
  },
  {
   "cell_type": "code",
   "execution_count": 11,
   "metadata": {},
   "outputs": [],
   "source": [
    "# columns with categorical variables\n",
    "\n",
    "categorical_cols = ['gender', 'near_location', 'partner', 'promo_friends', \\\n",
    "                    'phone', 'contract_period', 'group_visits']"
   ]
  },
  {
   "cell_type": "code",
   "execution_count": 40,
   "metadata": {
    "scrolled": false
   },
   "outputs": [
    {
     "data": {
      "image/png": "[encoded data removed]",
      "text/plain": [
       "<Figure size 1440x1080 with 7 Axes>"
      ]
     },
     "metadata": {
      "needs_background": "light"
     },
     "output_type": "display_data"
    }
   ],
   "source": [
    "# plotting categorical variables for churn and non-churn groups\n",
    "\n",
    "plt.figure(figsize=(20, 15))\n",
    "\n",
    "for i, col in enumerate(categorical_cols):\n",
    "    sns.countplot(\n",
    "        data=df, x=col, hue ='churn',\n",
    "        ax=plt.subplot(3, 3, i + 1),\n",
    "    )\n",
    "    \n",
    "    plt.ylabel('Number of clients')\n",
    "    plt.title(f'Distribution of churn and non-churn groups for {col}')\n",
    "\n",
    "plt.tight_layout() \n",
    "plt.show()"
   ]
  },
  {
   "cell_type": "code",
   "execution_count": 41,
   "metadata": {},
   "outputs": [],
   "source": [
    "# columns with quantitative variables\n",
    "quantitative_cols = ['age',\n",
    "       'avg_additional_charges_total', 'month_to_end_contract', 'lifetime',\n",
    "       'avg_class_frequency_total', 'avg_class_frequency_current_month']"
   ]
  },
  {
   "cell_type": "code",
   "execution_count": 42,
   "metadata": {
    "scrolled": false
   },
   "outputs": [
    {
     "data": {
      "image/png": "[encoded data removed]",
      "text/plain": [
       "<Figure size 1440x1080 with 6 Axes>"
      ]
     },
     "metadata": {
      "needs_background": "light"
     },
     "output_type": "display_data"
    }
   ],
   "source": [
    "# plotting quantitative variables for churn and non-churn groups\n",
    "plt.figure(figsize=(20, 15))\n",
    "\n",
    "for i, col in enumerate(quantitative_cols):\n",
    "    sns.histplot(\n",
    "        data=df, x=col, hue ='churn',\n",
    "        ax=plt.subplot(3, 3, i + 1),\n",
    "    )\n",
    "    \n",
    "    plt.ylabel('Кол-во клиентов')\n",
    "    plt.title(f'Распределение ушедших и оставшихся для {col}')\n",
    "\n",
    "plt.tight_layout() \n",
    "plt.show()"
   ]
  },
  {
   "cell_type": "markdown",
   "metadata": {},
   "source": [
    "Based on the presented distributions, it can be assumed that churn can be related to the remoteness of the client's residence from the club, non-attendance of group classes, low activity in the current month, whether the person came to the club by promotion, whether he/she is an employee of the partner company."
   ]
  },
  {
   "cell_type": "markdown",
   "metadata": {},
   "source": [
    "## Correlation matrix and heatmap"
   ]
  },
  {
   "cell_type": "code",
   "execution_count": 43,
   "metadata": {},
   "outputs": [
    {
     "data": {
      "text/html": [
       "<div>\n",
       "<style scoped>\n",
       "    .dataframe tbody tr th:only-of-type {\n",
       "        vertical-align: middle;\n",
       "    }\n",
       "\n",
       "    .dataframe tbody tr th {\n",
       "        vertical-align: top;\n",
       "    }\n",
       "\n",
       "    .dataframe thead th {\n",
       "        text-align: right;\n",
       "    }\n",
       "</style>\n",
       "<table border=\"1\" class=\"dataframe\">\n",
       "  <thead>\n",
       "    <tr style=\"text-align: right;\">\n",
       "      <th></th>\n",
       "      <th>gender</th>\n",
       "      <th>near_location</th>\n",
       "      <th>partner</th>\n",
       "      <th>promo_friends</th>\n",
       "      <th>phone</th>\n",
       "      <th>contract_period</th>\n",
       "      <th>group_visits</th>\n",
       "      <th>age</th>\n",
       "      <th>avg_additional_charges_total</th>\n",
       "      <th>month_to_end_contract</th>\n",
       "      <th>lifetime</th>\n",
       "      <th>avg_class_frequency_total</th>\n",
       "      <th>avg_class_frequency_current_month</th>\n",
       "      <th>churn</th>\n",
       "    </tr>\n",
       "  </thead>\n",
       "  <tbody>\n",
       "    <tr>\n",
       "      <th>gender</th>\n",
       "      <td>1.000000</td>\n",
       "      <td>0.006699</td>\n",
       "      <td>-0.010463</td>\n",
       "      <td>-0.005033</td>\n",
       "      <td>-0.008542</td>\n",
       "      <td>0.001490</td>\n",
       "      <td>0.017879</td>\n",
       "      <td>0.008154</td>\n",
       "      <td>-0.001921</td>\n",
       "      <td>0.000489</td>\n",
       "      <td>0.006951</td>\n",
       "      <td>0.015634</td>\n",
       "      <td>0.009612</td>\n",
       "      <td>0.000708</td>\n",
       "    </tr>\n",
       "    <tr>\n",
       "      <th>near_location</th>\n",
       "      <td>0.006699</td>\n",
       "      <td>1.000000</td>\n",
       "      <td>-0.005119</td>\n",
       "      <td>0.210964</td>\n",
       "      <td>-0.015763</td>\n",
       "      <td>0.148445</td>\n",
       "      <td>0.154728</td>\n",
       "      <td>0.051882</td>\n",
       "      <td>0.045524</td>\n",
       "      <td>0.144131</td>\n",
       "      <td>0.080193</td>\n",
       "      <td>0.046430</td>\n",
       "      <td>0.065176</td>\n",
       "      <td>-0.128098</td>\n",
       "    </tr>\n",
       "    <tr>\n",
       "      <th>partner</th>\n",
       "      <td>-0.010463</td>\n",
       "      <td>-0.005119</td>\n",
       "      <td>1.000000</td>\n",
       "      <td>0.451960</td>\n",
       "      <td>0.009970</td>\n",
       "      <td>0.309500</td>\n",
       "      <td>0.022710</td>\n",
       "      <td>0.050663</td>\n",
       "      <td>0.020923</td>\n",
       "      <td>0.301528</td>\n",
       "      <td>0.101645</td>\n",
       "      <td>0.023851</td>\n",
       "      <td>0.045258</td>\n",
       "      <td>-0.157986</td>\n",
       "    </tr>\n",
       "    <tr>\n",
       "      <th>promo_friends</th>\n",
       "      <td>-0.005033</td>\n",
       "      <td>0.210964</td>\n",
       "      <td>0.451960</td>\n",
       "      <td>1.000000</td>\n",
       "      <td>0.001982</td>\n",
       "      <td>0.247377</td>\n",
       "      <td>0.120170</td>\n",
       "      <td>0.049558</td>\n",
       "      <td>0.042656</td>\n",
       "      <td>0.242336</td>\n",
       "      <td>0.101643</td>\n",
       "      <td>0.028184</td>\n",
       "      <td>0.055250</td>\n",
       "      <td>-0.162233</td>\n",
       "    </tr>\n",
       "    <tr>\n",
       "      <th>phone</th>\n",
       "      <td>-0.008542</td>\n",
       "      <td>-0.015763</td>\n",
       "      <td>0.009970</td>\n",
       "      <td>0.001982</td>\n",
       "      <td>1.000000</td>\n",
       "      <td>-0.008906</td>\n",
       "      <td>-0.010099</td>\n",
       "      <td>-0.008107</td>\n",
       "      <td>0.006713</td>\n",
       "      <td>-0.010445</td>\n",
       "      <td>-0.006466</td>\n",
       "      <td>0.007003</td>\n",
       "      <td>0.012735</td>\n",
       "      <td>-0.001177</td>\n",
       "    </tr>\n",
       "    <tr>\n",
       "      <th>contract_period</th>\n",
       "      <td>0.001490</td>\n",
       "      <td>0.148445</td>\n",
       "      <td>0.309500</td>\n",
       "      <td>0.247377</td>\n",
       "      <td>-0.008906</td>\n",
       "      <td>1.000000</td>\n",
       "      <td>0.168623</td>\n",
       "      <td>0.138429</td>\n",
       "      <td>0.109275</td>\n",
       "      <td>0.985563</td>\n",
       "      <td>0.234406</td>\n",
       "      <td>0.101248</td>\n",
       "      <td>0.167457</td>\n",
       "      <td>-0.402096</td>\n",
       "    </tr>\n",
       "    <tr>\n",
       "      <th>group_visits</th>\n",
       "      <td>0.017879</td>\n",
       "      <td>0.154728</td>\n",
       "      <td>0.022710</td>\n",
       "      <td>0.120170</td>\n",
       "      <td>-0.010099</td>\n",
       "      <td>0.168623</td>\n",
       "      <td>1.000000</td>\n",
       "      <td>0.077069</td>\n",
       "      <td>0.029033</td>\n",
       "      <td>0.165204</td>\n",
       "      <td>0.088342</td>\n",
       "      <td>0.055617</td>\n",
       "      <td>0.074669</td>\n",
       "      <td>-0.175325</td>\n",
       "    </tr>\n",
       "    <tr>\n",
       "      <th>age</th>\n",
       "      <td>0.008154</td>\n",
       "      <td>0.051882</td>\n",
       "      <td>0.050663</td>\n",
       "      <td>0.049558</td>\n",
       "      <td>-0.008107</td>\n",
       "      <td>0.138429</td>\n",
       "      <td>0.077069</td>\n",
       "      <td>1.000000</td>\n",
       "      <td>0.074325</td>\n",
       "      <td>0.133837</td>\n",
       "      <td>0.223819</td>\n",
       "      <td>0.114998</td>\n",
       "      <td>0.180330</td>\n",
       "      <td>-0.401664</td>\n",
       "    </tr>\n",
       "    <tr>\n",
       "      <th>avg_additional_charges_total</th>\n",
       "      <td>-0.001921</td>\n",
       "      <td>0.045524</td>\n",
       "      <td>0.020923</td>\n",
       "      <td>0.042656</td>\n",
       "      <td>0.006713</td>\n",
       "      <td>0.109275</td>\n",
       "      <td>0.029033</td>\n",
       "      <td>0.074325</td>\n",
       "      <td>1.000000</td>\n",
       "      <td>0.111858</td>\n",
       "      <td>0.104981</td>\n",
       "      <td>0.040042</td>\n",
       "      <td>0.073928</td>\n",
       "      <td>-0.191432</td>\n",
       "    </tr>\n",
       "    <tr>\n",
       "      <th>month_to_end_contract</th>\n",
       "      <td>0.000489</td>\n",
       "      <td>0.144131</td>\n",
       "      <td>0.301528</td>\n",
       "      <td>0.242336</td>\n",
       "      <td>-0.010445</td>\n",
       "      <td>0.985563</td>\n",
       "      <td>0.165204</td>\n",
       "      <td>0.133837</td>\n",
       "      <td>0.111858</td>\n",
       "      <td>1.000000</td>\n",
       "      <td>0.228381</td>\n",
       "      <td>0.095044</td>\n",
       "      <td>0.160631</td>\n",
       "      <td>-0.397513</td>\n",
       "    </tr>\n",
       "    <tr>\n",
       "      <th>lifetime</th>\n",
       "      <td>0.006951</td>\n",
       "      <td>0.080193</td>\n",
       "      <td>0.101645</td>\n",
       "      <td>0.101643</td>\n",
       "      <td>-0.006466</td>\n",
       "      <td>0.234406</td>\n",
       "      <td>0.088342</td>\n",
       "      <td>0.223819</td>\n",
       "      <td>0.104981</td>\n",
       "      <td>0.228381</td>\n",
       "      <td>1.000000</td>\n",
       "      <td>0.162062</td>\n",
       "      <td>0.253077</td>\n",
       "      <td>-0.582987</td>\n",
       "    </tr>\n",
       "    <tr>\n",
       "      <th>avg_class_frequency_total</th>\n",
       "      <td>0.015634</td>\n",
       "      <td>0.046430</td>\n",
       "      <td>0.023851</td>\n",
       "      <td>0.028184</td>\n",
       "      <td>0.007003</td>\n",
       "      <td>0.101248</td>\n",
       "      <td>0.055617</td>\n",
       "      <td>0.114998</td>\n",
       "      <td>0.040042</td>\n",
       "      <td>0.095044</td>\n",
       "      <td>0.162062</td>\n",
       "      <td>1.000000</td>\n",
       "      <td>0.947482</td>\n",
       "      <td>-0.253104</td>\n",
       "    </tr>\n",
       "    <tr>\n",
       "      <th>avg_class_frequency_current_month</th>\n",
       "      <td>0.009612</td>\n",
       "      <td>0.065176</td>\n",
       "      <td>0.045258</td>\n",
       "      <td>0.055250</td>\n",
       "      <td>0.012735</td>\n",
       "      <td>0.167457</td>\n",
       "      <td>0.074669</td>\n",
       "      <td>0.180330</td>\n",
       "      <td>0.073928</td>\n",
       "      <td>0.160631</td>\n",
       "      <td>0.253077</td>\n",
       "      <td>0.947482</td>\n",
       "      <td>1.000000</td>\n",
       "      <td>-0.420343</td>\n",
       "    </tr>\n",
       "    <tr>\n",
       "      <th>churn</th>\n",
       "      <td>0.000708</td>\n",
       "      <td>-0.128098</td>\n",
       "      <td>-0.157986</td>\n",
       "      <td>-0.162233</td>\n",
       "      <td>-0.001177</td>\n",
       "      <td>-0.402096</td>\n",
       "      <td>-0.175325</td>\n",
       "      <td>-0.401664</td>\n",
       "      <td>-0.191432</td>\n",
       "      <td>-0.397513</td>\n",
       "      <td>-0.582987</td>\n",
       "      <td>-0.253104</td>\n",
       "      <td>-0.420343</td>\n",
       "      <td>1.000000</td>\n",
       "    </tr>\n",
       "  </tbody>\n",
       "</table>\n",
       "</div>"
      ],
      "text/plain": [
       "                                     gender  near_location   partner  \\\n",
       "gender                             1.000000       0.006699 -0.010463   \n",
       "near_location                      0.006699       1.000000 -0.005119   \n",
       "partner                           -0.010463      -0.005119  1.000000   \n",
       "promo_friends                     -0.005033       0.210964  0.451960   \n",
       "phone                             -0.008542      -0.015763  0.009970   \n",
       "contract_period                    0.001490       0.148445  0.309500   \n",
       "group_visits                       0.017879       0.154728  0.022710   \n",
       "age                                0.008154       0.051882  0.050663   \n",
       "avg_additional_charges_total      -0.001921       0.045524  0.020923   \n",
       "month_to_end_contract              0.000489       0.144131  0.301528   \n",
       "lifetime                           0.006951       0.080193  0.101645   \n",
       "avg_class_frequency_total          0.015634       0.046430  0.023851   \n",
       "avg_class_frequency_current_month  0.009612       0.065176  0.045258   \n",
       "churn                              0.000708      -0.128098 -0.157986   \n",
       "\n",
       "                                   promo_friends     phone  contract_period  \\\n",
       "gender                                 -0.005033 -0.008542         0.001490   \n",
       "near_location                           0.210964 -0.015763         0.148445   \n",
       "partner                                 0.451960  0.009970         0.309500   \n",
       "promo_friends                           1.000000  0.001982         0.247377   \n",
       "phone                                   0.001982  1.000000        -0.008906   \n",
       "contract_period                         0.247377 -0.008906         1.000000   \n",
       "group_visits                            0.120170 -0.010099         0.168623   \n",
       "age                                     0.049558 -0.008107         0.138429   \n",
       "avg_additional_charges_total            0.042656  0.006713         0.109275   \n",
       "month_to_end_contract                   0.242336 -0.010445         0.985563   \n",
       "lifetime                                0.101643 -0.006466         0.234406   \n",
       "avg_class_frequency_total               0.028184  0.007003         0.101248   \n",
       "avg_class_frequency_current_month       0.055250  0.012735         0.167457   \n",
       "churn                                  -0.162233 -0.001177        -0.402096   \n",
       "\n",
       "                                   group_visits       age  \\\n",
       "gender                                 0.017879  0.008154   \n",
       "near_location                          0.154728  0.051882   \n",
       "partner                                0.022710  0.050663   \n",
       "promo_friends                          0.120170  0.049558   \n",
       "phone                                 -0.010099 -0.008107   \n",
       "contract_period                        0.168623  0.138429   \n",
       "group_visits                           1.000000  0.077069   \n",
       "age                                    0.077069  1.000000   \n",
       "avg_additional_charges_total           0.029033  0.074325   \n",
       "month_to_end_contract                  0.165204  0.133837   \n",
       "lifetime                               0.088342  0.223819   \n",
       "avg_class_frequency_total              0.055617  0.114998   \n",
       "avg_class_frequency_current_month      0.074669  0.180330   \n",
       "churn                                 -0.175325 -0.401664   \n",
       "\n",
       "                                   avg_additional_charges_total  \\\n",
       "gender                                                -0.001921   \n",
       "near_location                                          0.045524   \n",
       "partner                                                0.020923   \n",
       "promo_friends                                          0.042656   \n",
       "phone                                                  0.006713   \n",
       "contract_period                                        0.109275   \n",
       "group_visits                                           0.029033   \n",
       "age                                                    0.074325   \n",
       "avg_additional_charges_total                           1.000000   \n",
       "month_to_end_contract                                  0.111858   \n",
       "lifetime                                               0.104981   \n",
       "avg_class_frequency_total                              0.040042   \n",
       "avg_class_frequency_current_month                      0.073928   \n",
       "churn                                                 -0.191432   \n",
       "\n",
       "                                   month_to_end_contract  lifetime  \\\n",
       "gender                                          0.000489  0.006951   \n",
       "near_location                                   0.144131  0.080193   \n",
       "partner                                         0.301528  0.101645   \n",
       "promo_friends                                   0.242336  0.101643   \n",
       "phone                                          -0.010445 -0.006466   \n",
       "contract_period                                 0.985563  0.234406   \n",
       "group_visits                                    0.165204  0.088342   \n",
       "age                                             0.133837  0.223819   \n",
       "avg_additional_charges_total                    0.111858  0.104981   \n",
       "month_to_end_contract                           1.000000  0.228381   \n",
       "lifetime                                        0.228381  1.000000   \n",
       "avg_class_frequency_total                       0.095044  0.162062   \n",
       "avg_class_frequency_current_month               0.160631  0.253077   \n",
       "churn                                          -0.397513 -0.582987   \n",
       "\n",
       "                                   avg_class_frequency_total  \\\n",
       "gender                                              0.015634   \n",
       "near_location                                       0.046430   \n",
       "partner                                             0.023851   \n",
       "promo_friends                                       0.028184   \n",
       "phone                                               0.007003   \n",
       "contract_period                                     0.101248   \n",
       "group_visits                                        0.055617   \n",
       "age                                                 0.114998   \n",
       "avg_additional_charges_total                        0.040042   \n",
       "month_to_end_contract                               0.095044   \n",
       "lifetime                                            0.162062   \n",
       "avg_class_frequency_total                           1.000000   \n",
       "avg_class_frequency_current_month                   0.947482   \n",
       "churn                                              -0.253104   \n",
       "\n",
       "                                   avg_class_frequency_current_month     churn  \n",
       "gender                                                      0.009612  0.000708  \n",
       "near_location                                               0.065176 -0.128098  \n",
       "partner                                                     0.045258 -0.157986  \n",
       "promo_friends                                               0.055250 -0.162233  \n",
       "phone                                                       0.012735 -0.001177  \n",
       "contract_period                                             0.167457 -0.402096  \n",
       "group_visits                                                0.074669 -0.175325  \n",
       "age                                                         0.180330 -0.401664  \n",
       "avg_additional_charges_total                                0.073928 -0.191432  \n",
       "month_to_end_contract                                       0.160631 -0.397513  \n",
       "lifetime                                                    0.253077 -0.582987  \n",
       "avg_class_frequency_total                                   0.947482 -0.253104  \n",
       "avg_class_frequency_current_month                           1.000000 -0.420343  \n",
       "churn                                                      -0.420343  1.000000  "
      ]
     },
     "execution_count": 43,
     "metadata": {},
     "output_type": "execute_result"
    }
   ],
   "source": [
    "# Correlation matrix\n",
    "corr_m = df.corr(method='spearman')\n",
    "corr_m"
   ]
  },
  {
   "cell_type": "code",
   "execution_count": 44,
   "metadata": {},
   "outputs": [
    {
     "data": {
      "image/png": "[encoded data removed]",
      "text/plain": [
       "<Figure size 1080x1080 with 2 Axes>"
      ]
     },
     "metadata": {
      "needs_background": "light"
     },
     "output_type": "display_data"
    }
   ],
   "source": [
    "# heatmap based on correlation matrix\n",
    "\n",
    "plt.figure(figsize=(15,15))\n",
    "sns.heatmap(corr_m, annot=True, cmap=\"crest\")\n",
    "plt.show()"
   ]
  },
  {
   "cell_type": "markdown",
   "metadata": {},
   "source": [
    "There is moderate negative correlation between Lifetime and churn (-0.58). \n",
    "\n",
    "There is also weak negative correlation (-0.4) with churn for such criteria as season ticket duration, age, period until the end of the current valid season ticket and average number of visits for the current month."
   ]
  },
  {
   "cell_type": "markdown",
   "metadata": {},
   "source": []
  },
  {
   "cell_type": "markdown",
   "metadata": {},
   "source": [
    "# Customer churn forecasting model"
   ]
  },
  {
   "cell_type": "code",
   "execution_count": 45,
   "metadata": {},
   "outputs": [],
   "source": [
    "# splitting the data into attributes (matrix X) and target variable (y)\n",
    "X = df.drop('churn', axis=1)\n",
    "y = df['churn']\n",
    "\n",
    "# training and validation samples\n",
    "X_train, X_test, y_train, y_test = train_test_split(\n",
    "    X, y, test_size=0.2\n",
    ")"
   ]
  },
  {
   "cell_type": "markdown",
   "metadata": {},
   "source": [
    "## Logistic regression"
   ]
  },
  {
   "cell_type": "code",
   "execution_count": 48,
   "metadata": {},
   "outputs": [],
   "source": [
    "# setting the algorithm\n",
    "lr_model = LogisticRegression(random_state=0, solver='liblinear')\n",
    "\n",
    "# training the model\n",
    "lr_model.fit(X_train, y_train)\n",
    "\n",
    "# using the model to make a forecast\n",
    "lr_predictions = lr_model.predict(X_test)"
   ]
  },
  {
   "cell_type": "markdown",
   "metadata": {},
   "source": [
    "## Random forest"
   ]
  },
  {
   "cell_type": "code",
   "execution_count": 53,
   "metadata": {},
   "outputs": [],
   "source": [
    "# training StandartScaler using training sample\n",
    "scaler = StandardScaler()\n",
    "scaler.fit(X_train)\n",
    "\n",
    "# transforming the training and test samples\n",
    "X_train_st = scaler.transform(X_train)\n",
    "X_test_st = scaler.transform(X_test)\n",
    "\n",
    "# algorithm for the model based on the random forest algorithm\n",
    "rf_model = RandomForestClassifier(n_estimators = 100, random_state = 0)\n",
    "\n",
    "# train the random forest model\n",
    "rf_model.fit(X_train_st, y_train)\n",
    "\n",
    "# using the rf model to make a forecast\n",
    "rf_predictions = rf_model.predict(X_test_st)"
   ]
  },
  {
   "cell_type": "code",
   "execution_count": 54,
   "metadata": {},
   "outputs": [],
   "source": [
    "# function that will display the metrics\n",
    "\n",
    "def print_metrics(y_true, predictions, title='Classification metrics'):\n",
    "    print(title)\n",
    "    print('\\tAccuracy: {:.2f}'.format(accuracy_score(y_test, predictions)))\n",
    "    print('\\tPrecision: {:.2f}'.format(precision_score(y_test, predictions)))\n",
    "    print('\\tRecall: {:.2f}'.format(recall_score(y_test, predictions)))\n",
    "    print('\\tF1-score: {:.2f}'.format(f1_score(y_test, predictions)))"
   ]
  },
  {
   "cell_type": "code",
   "execution_count": 56,
   "metadata": {},
   "outputs": [
    {
     "name": "stdout",
     "output_type": "stream",
     "text": [
      "Metrics for the logistic regression model:\n",
      "\tAccuracy: 0.92\n",
      "\tPrecision: 0.86\n",
      "\tRecall: 0.84\n",
      "\tF1-score: 0.85\n"
     ]
    }
   ],
   "source": [
    "print_metrics(y_test, lr_predictions, title='Metrics for the logistic regression model:')"
   ]
  },
  {
   "cell_type": "code",
   "execution_count": 57,
   "metadata": {},
   "outputs": [
    {
     "name": "stdout",
     "output_type": "stream",
     "text": [
      "Metrics for the random forest model:\n",
      "\tAccuracy: 0.90\n",
      "\tPrecision: 0.85\n",
      "\tRecall: 0.76\n",
      "\tF1-score: 0.80\n"
     ]
    }
   ],
   "source": [
    "print_metrics(y_test, rf_predictions, title='Metrics for the random forest model:')\n"
   ]
  },
  {
   "cell_type": "markdown",
   "metadata": {},
   "source": [
    "The values of metrics for both models are very close, but logistic regression showed the best results."
   ]
  },
  {
   "cell_type": "markdown",
   "metadata": {},
   "source": []
  },
  {
   "cell_type": "markdown",
   "metadata": {},
   "source": [
    "# Customer clustering"
   ]
  },
  {
   "cell_type": "code",
   "execution_count": 58,
   "metadata": {},
   "outputs": [],
   "source": [
    "# data for clustering\n",
    "x = df.drop('churn', axis = 1)\n",
    "\n",
    "# standardization of data before working with algorithms\n",
    "sc = StandardScaler()\n",
    "x_sc = sc.fit_transform(x)"
   ]
  },
  {
   "cell_type": "code",
   "execution_count": 61,
   "metadata": {},
   "outputs": [],
   "source": [
    "# a table of distances between objects\n",
    "linked = linkage(x_sc, method = 'ward')"
   ]
  },
  {
   "cell_type": "code",
   "execution_count": 25,
   "metadata": {},
   "outputs": [
    {
     "data": {
      "image/png": "[encoded data removed]",
      "text/plain": [
       "<Figure size 1080x720 with 1 Axes>"
      ]
     },
     "metadata": {
      "needs_background": "light"
     },
     "output_type": "display_data"
    }
   ],
   "source": [
    "# visualizing the dendrogram\n",
    "\n",
    "plt.figure(figsize=(15, 10))  \n",
    "dendrogram(linked, orientation='top')\n",
    "plt.title('Иерархическая кластеризация пользователей')\n",
    "plt.show()"
   ]
  },
  {
   "cell_type": "markdown",
   "metadata": {},
   "source": []
  },
  {
   "cell_type": "markdown",
   "metadata": {},
   "source": [
    "The proposed optimal number of clusters is 4, with the largest cluster in purple color. Let us further use the K-Means algorithm to predict the clusters of clients. We take n=5 as the number of clusters."
   ]
  },
  {
   "cell_type": "code",
   "execution_count": 62,
   "metadata": {},
   "outputs": [],
   "source": [
    "# k_means model with 5 clusters\n",
    "km = KMeans(n_clusters=5, random_state=0)\n",
    "\n",
    "# predict clusters for observations \n",
    "labels = km.fit_predict(x_sc)"
   ]
  },
  {
   "cell_type": "code",
   "execution_count": 63,
   "metadata": {
    "scrolled": true
   },
   "outputs": [
    {
     "data": {
      "text/html": [
       "<div>\n",
       "<style scoped>\n",
       "    .dataframe tbody tr th:only-of-type {\n",
       "        vertical-align: middle;\n",
       "    }\n",
       "\n",
       "    .dataframe tbody tr th {\n",
       "        vertical-align: top;\n",
       "    }\n",
       "\n",
       "    .dataframe thead th {\n",
       "        text-align: right;\n",
       "    }\n",
       "</style>\n",
       "<table border=\"1\" class=\"dataframe\">\n",
       "  <thead>\n",
       "    <tr style=\"text-align: right;\">\n",
       "      <th>cluster_km</th>\n",
       "      <th>0</th>\n",
       "      <th>1</th>\n",
       "      <th>2</th>\n",
       "      <th>3</th>\n",
       "      <th>4</th>\n",
       "    </tr>\n",
       "  </thead>\n",
       "  <tbody>\n",
       "    <tr>\n",
       "      <th>gender</th>\n",
       "      <td>0.50</td>\n",
       "      <td>0.52</td>\n",
       "      <td>0.50</td>\n",
       "      <td>0.49</td>\n",
       "      <td>0.56</td>\n",
       "    </tr>\n",
       "    <tr>\n",
       "      <th>near_location</th>\n",
       "      <td>0.96</td>\n",
       "      <td>0.86</td>\n",
       "      <td>0.00</td>\n",
       "      <td>1.00</td>\n",
       "      <td>0.98</td>\n",
       "    </tr>\n",
       "    <tr>\n",
       "      <th>partner</th>\n",
       "      <td>0.78</td>\n",
       "      <td>0.47</td>\n",
       "      <td>0.46</td>\n",
       "      <td>0.35</td>\n",
       "      <td>0.36</td>\n",
       "    </tr>\n",
       "    <tr>\n",
       "      <th>promo_friends</th>\n",
       "      <td>0.57</td>\n",
       "      <td>0.31</td>\n",
       "      <td>0.08</td>\n",
       "      <td>0.24</td>\n",
       "      <td>0.23</td>\n",
       "    </tr>\n",
       "    <tr>\n",
       "      <th>phone</th>\n",
       "      <td>1.00</td>\n",
       "      <td>0.00</td>\n",
       "      <td>1.00</td>\n",
       "      <td>1.00</td>\n",
       "      <td>1.00</td>\n",
       "    </tr>\n",
       "    <tr>\n",
       "      <th>contract_period</th>\n",
       "      <td>10.89</td>\n",
       "      <td>4.79</td>\n",
       "      <td>2.35</td>\n",
       "      <td>1.95</td>\n",
       "      <td>2.67</td>\n",
       "    </tr>\n",
       "    <tr>\n",
       "      <th>group_visits</th>\n",
       "      <td>0.54</td>\n",
       "      <td>0.43</td>\n",
       "      <td>0.22</td>\n",
       "      <td>0.34</td>\n",
       "      <td>0.47</td>\n",
       "    </tr>\n",
       "    <tr>\n",
       "      <th>age</th>\n",
       "      <td>29.98</td>\n",
       "      <td>29.30</td>\n",
       "      <td>28.48</td>\n",
       "      <td>28.17</td>\n",
       "      <td>30.13</td>\n",
       "    </tr>\n",
       "    <tr>\n",
       "      <th>avg_additional_charges_total</th>\n",
       "      <td>160.76</td>\n",
       "      <td>143.96</td>\n",
       "      <td>135.46</td>\n",
       "      <td>131.62</td>\n",
       "      <td>161.66</td>\n",
       "    </tr>\n",
       "    <tr>\n",
       "      <th>month_to_end_contract</th>\n",
       "      <td>9.95</td>\n",
       "      <td>4.48</td>\n",
       "      <td>2.20</td>\n",
       "      <td>1.86</td>\n",
       "      <td>2.46</td>\n",
       "    </tr>\n",
       "    <tr>\n",
       "      <th>lifetime</th>\n",
       "      <td>4.74</td>\n",
       "      <td>3.92</td>\n",
       "      <td>2.81</td>\n",
       "      <td>2.44</td>\n",
       "      <td>4.90</td>\n",
       "    </tr>\n",
       "    <tr>\n",
       "      <th>avg_class_frequency_total</th>\n",
       "      <td>1.98</td>\n",
       "      <td>1.85</td>\n",
       "      <td>1.66</td>\n",
       "      <td>1.25</td>\n",
       "      <td>2.85</td>\n",
       "    </tr>\n",
       "    <tr>\n",
       "      <th>avg_class_frequency_current_month</th>\n",
       "      <td>1.97</td>\n",
       "      <td>1.72</td>\n",
       "      <td>1.48</td>\n",
       "      <td>1.01</td>\n",
       "      <td>2.85</td>\n",
       "    </tr>\n",
       "    <tr>\n",
       "      <th>churn</th>\n",
       "      <td>0.03</td>\n",
       "      <td>0.27</td>\n",
       "      <td>0.44</td>\n",
       "      <td>0.51</td>\n",
       "      <td>0.07</td>\n",
       "    </tr>\n",
       "  </tbody>\n",
       "</table>\n",
       "</div>"
      ],
      "text/plain": [
       "cluster_km                              0       1       2       3       4\n",
       "gender                               0.50    0.52    0.50    0.49    0.56\n",
       "near_location                        0.96    0.86    0.00    1.00    0.98\n",
       "partner                              0.78    0.47    0.46    0.35    0.36\n",
       "promo_friends                        0.57    0.31    0.08    0.24    0.23\n",
       "phone                                1.00    0.00    1.00    1.00    1.00\n",
       "contract_period                     10.89    4.79    2.35    1.95    2.67\n",
       "group_visits                         0.54    0.43    0.22    0.34    0.47\n",
       "age                                 29.98   29.30   28.48   28.17   30.13\n",
       "avg_additional_charges_total       160.76  143.96  135.46  131.62  161.66\n",
       "month_to_end_contract                9.95    4.48    2.20    1.86    2.46\n",
       "lifetime                             4.74    3.92    2.81    2.44    4.90\n",
       "avg_class_frequency_total            1.98    1.85    1.66    1.25    2.85\n",
       "avg_class_frequency_current_month    1.97    1.72    1.48    1.01    2.85\n",
       "churn                                0.03    0.27    0.44    0.51    0.07"
      ]
     },
     "execution_count": 63,
     "metadata": {},
     "output_type": "execute_result"
    }
   ],
   "source": [
    "# save the cluster labels in the dataset\n",
    "df['cluster_km'] = labels\n",
    "\n",
    "# statistics on the mean values of the attributes by cluster\n",
    "df.groupby('cluster_km').agg('mean').round(2).T"
   ]
  },
  {
   "cell_type": "markdown",
   "metadata": {},
   "source": [
    "Based on the clusters, the following can be noted: \n",
    "- the lowest churn rate is in clusters 0 and 4. Both of these clusters are characterized by customers living near the club, aged around 30 years old and with a lifetime of approx. 5 months, who have attended between 2 and 3 training sessions in the past month, and who go to the club with the same frequency. At the same time, in cluster 0 there are more clients who came through the affiliate program or \"bring a friend\" promotion and longer contracts.\n",
    "- The highest churn rate is in cluster 3. This cluster also includes customers living close to the club aged around 30, but they are much less likely to go to group classes and have the shortest contracts, the lowest lifetime, and attend only 1 training session per month."
   ]
  },
  {
   "cell_type": "markdown",
   "metadata": {},
   "source": []
  },
  {
   "cell_type": "code",
   "execution_count": 64,
   "metadata": {},
   "outputs": [
    {
     "data": {
      "image/png": "[encoded data removed]",
      "text/plain": [
       "<Figure size 1440x1080 with 7 Axes>"
      ]
     },
     "metadata": {
      "needs_background": "light"
     },
     "output_type": "display_data"
    }
   ],
   "source": [
    "# plotting categorical variables for clusters\n",
    "plt.figure(figsize=(20, 15))\n",
    "\n",
    "for i, col in enumerate(categorical_cols):\n",
    "    sns.countplot(\n",
    "        data=df, x=col, hue ='cluster_km',\n",
    "        ax=plt.subplot(3, 3, i + 1),\n",
    "    )\n",
    "\n",
    "plt.tight_layout() \n",
    "plt.show()"
   ]
  },
  {
   "cell_type": "code",
   "execution_count": 65,
   "metadata": {
    "scrolled": true
   },
   "outputs": [
    {
     "data": {
      "image/png": "[encoded data removed]",
      "text/plain": [
       "<Figure size 720x504 with 1 Axes>"
      ]
     },
     "metadata": {
      "needs_background": "light"
     },
     "output_type": "display_data"
    },
    {
     "data": {
      "image/png": "[encoded data removed]",
      "text/plain": [
       "<Figure size 720x504 with 1 Axes>"
      ]
     },
     "metadata": {
      "needs_background": "light"
     },
     "output_type": "display_data"
    },
    {
     "data": {
      "image/png": "[encoded data removed]",
      "text/plain": [
       "<Figure size 720x504 with 1 Axes>"
      ]
     },
     "metadata": {
      "needs_background": "light"
     },
     "output_type": "display_data"
    },
    {
     "data": {
      "image/png": "[encoded data removed]",
      "text/plain": [
       "<Figure size 720x504 with 1 Axes>"
      ]
     },
     "metadata": {
      "needs_background": "light"
     },
     "output_type": "display_data"
    },
    {
     "data": {
      "image/png": "[encoded data removed]",
      "text/plain": [
       "<Figure size 720x504 with 1 Axes>"
      ]
     },
     "metadata": {
      "needs_background": "light"
     },
     "output_type": "display_data"
    },
    {
     "data": {
      "image/png": "[encoded data removed]",
      "text/plain": [
       "<Figure size 720x504 with 1 Axes>"
      ]
     },
     "metadata": {
      "needs_background": "light"
     },
     "output_type": "display_data"
    }
   ],
   "source": [
    "# plotting quantitative variables for clusters\n",
    "for col in quantitative_cols:\n",
    "    plt.figure(figsize=(10, 7))\n",
    "    sns.kdeplot(data = df, x = col, hue='cluster_km', palette=\"crest\",\n",
    "   )\n",
    "    plt.show();"
   ]
  },
  {
   "cell_type": "markdown",
   "metadata": {},
   "source": [
    "# Conclusions and recommendations "
   ]
  },
  {
   "cell_type": "markdown",
   "metadata": {},
   "source": [
    "Based on the submitted questionnaires, 5 clusters of clients were formed, for which attributes influencing churn were identified. \n",
    "\n",
    "Among the attributes affecting churn, it is important to note the following:\n",
    "- group_visits. Those who go to group classes are less likely to stop using the gym;\n",
    "- contract_period. Clients with long contracts are less likely to stop using the gym;\n",
    "- lifetime. Clients who have been using the club for a long time are less likely to stop using the gym;\n",
    "- avg_class_frequency_current_month and avg_class_frequency_total. The more often a user went to the gym in the current month, and the more often they go to the gym in general, the less likely they are to go into churn.\n",
    "\n",
    "It can also be noted that churn is not influenced by the gender and age of the customer.\n",
    "\n",
    "On the basis of the highlighted features influencing churn we can offer the following recommendations for consideration:\n",
    "- Promote group classes more actively, form promotions / discounts for them.\n",
    "- Encourage clients to get longer contracts and offer more favorable conditions for such type of contracts.\n",
    "- Offer favorable renewal terms to increase the lifetime of customers.\n",
    "- Track users who visit the gym less than 1 time for the current month to find out the reasons, to additionally stimualte them or make a special offer."
   ]
  },
  {
   "cell_type": "code",
   "execution_count": null,
   "metadata": {},
   "outputs": [],
   "source": []
  }
 ],
 "metadata": {
  "ExecuteTimeLog": [
   {
    "duration": 360,
    "start_time": "2023-09-12T15:58:05.387Z"
   },
   {
    "duration": 71,
    "start_time": "2023-09-12T15:58:18.538Z"
   },
   {
    "duration": 18,
    "start_time": "2023-09-12T15:58:21.981Z"
   },
   {
    "duration": 41,
    "start_time": "2023-09-12T16:07:18.005Z"
   },
   {
    "duration": 10,
    "start_time": "2023-09-12T16:08:18.565Z"
   },
   {
    "duration": 12,
    "start_time": "2023-09-12T16:08:27.486Z"
   },
   {
    "duration": 11,
    "start_time": "2023-09-12T16:08:31.543Z"
   },
   {
    "duration": 9,
    "start_time": "2023-09-12T16:08:41.901Z"
   },
   {
    "duration": 6,
    "start_time": "2023-09-12T16:13:45.472Z"
   },
   {
    "duration": 16,
    "start_time": "2023-09-12T16:15:33.222Z"
   },
   {
    "duration": 14,
    "start_time": "2023-09-12T16:16:25.753Z"
   },
   {
    "duration": 6,
    "start_time": "2023-09-12T16:17:10.331Z"
   },
   {
    "duration": 18,
    "start_time": "2023-09-12T16:17:15.014Z"
   },
   {
    "duration": 1451,
    "start_time": "2023-09-12T16:17:43.854Z"
   },
   {
    "duration": 71,
    "start_time": "2023-09-12T16:24:13.508Z"
   },
   {
    "duration": 1585,
    "start_time": "2023-09-12T16:24:20.887Z"
   },
   {
    "duration": 121,
    "start_time": "2023-09-12T16:24:45.689Z"
   },
   {
    "duration": 1886,
    "start_time": "2023-09-12T16:25:36.555Z"
   },
   {
    "duration": 2468,
    "start_time": "2023-09-12T16:25:55.496Z"
   },
   {
    "duration": 1688,
    "start_time": "2023-09-12T16:26:02.556Z"
   },
   {
    "duration": 419,
    "start_time": "2023-09-12T16:29:10.478Z"
   },
   {
    "duration": 33,
    "start_time": "2023-09-12T16:29:10.899Z"
   },
   {
    "duration": 26,
    "start_time": "2023-09-12T16:29:10.934Z"
   },
   {
    "duration": 16,
    "start_time": "2023-09-12T16:29:10.962Z"
   },
   {
    "duration": 65,
    "start_time": "2023-09-12T16:29:10.980Z"
   },
   {
    "duration": 23,
    "start_time": "2023-09-12T16:29:11.047Z"
   },
   {
    "duration": 62,
    "start_time": "2023-09-12T16:34:52.611Z"
   },
   {
    "duration": 240,
    "start_time": "2023-09-12T16:35:30.665Z"
   },
   {
    "duration": 726,
    "start_time": "2023-09-12T16:40:43.419Z"
   },
   {
    "duration": 33,
    "start_time": "2023-09-12T16:40:44.147Z"
   },
   {
    "duration": 14,
    "start_time": "2023-09-12T16:40:44.182Z"
   },
   {
    "duration": 58,
    "start_time": "2023-09-12T16:40:44.198Z"
   },
   {
    "duration": 42,
    "start_time": "2023-09-12T16:40:44.258Z"
   },
   {
    "duration": 16,
    "start_time": "2023-09-12T16:40:44.302Z"
   },
   {
    "duration": 332,
    "start_time": "2023-09-12T16:40:44.320Z"
   },
   {
    "duration": 560,
    "start_time": "2023-09-12T16:42:16.900Z"
   },
   {
    "duration": 9,
    "start_time": "2023-09-12T16:43:33.783Z"
   },
   {
    "duration": 21,
    "start_time": "2023-09-12T16:43:39.257Z"
   },
   {
    "duration": 53,
    "start_time": "2023-09-12T18:16:39.998Z"
   },
   {
    "duration": 1496,
    "start_time": "2023-09-12T18:16:48.534Z"
   },
   {
    "duration": 126,
    "start_time": "2023-09-12T18:16:50.032Z"
   },
   {
    "duration": 17,
    "start_time": "2023-09-12T18:16:50.160Z"
   },
   {
    "duration": 24,
    "start_time": "2023-09-12T18:16:50.179Z"
   },
   {
    "duration": 54,
    "start_time": "2023-09-12T18:16:50.205Z"
   },
   {
    "duration": 21,
    "start_time": "2023-09-12T18:16:50.260Z"
   },
   {
    "duration": 27333,
    "start_time": "2023-09-12T18:16:50.282Z"
   },
   {
    "duration": 26,
    "start_time": "2023-09-12T18:17:17.618Z"
   },
   {
    "duration": 12,
    "start_time": "2023-09-12T18:22:46.026Z"
   },
   {
    "duration": 3,
    "start_time": "2023-09-12T18:26:45.533Z"
   },
   {
    "duration": 100,
    "start_time": "2023-09-12T18:27:16.398Z"
   },
   {
    "duration": 1725,
    "start_time": "2023-09-12T18:27:33.973Z"
   },
   {
    "duration": 1483,
    "start_time": "2023-09-12T18:27:44.550Z"
   },
   {
    "duration": 1344,
    "start_time": "2023-09-12T18:27:54.886Z"
   },
   {
    "duration": 1188,
    "start_time": "2023-09-12T18:28:05.815Z"
   },
   {
    "duration": 33,
    "start_time": "2023-09-12T18:28:07.006Z"
   },
   {
    "duration": 16,
    "start_time": "2023-09-12T18:28:07.041Z"
   },
   {
    "duration": 16,
    "start_time": "2023-09-12T18:28:07.060Z"
   },
   {
    "duration": 48,
    "start_time": "2023-09-12T18:28:07.078Z"
   },
   {
    "duration": 12,
    "start_time": "2023-09-12T18:28:07.128Z"
   },
   {
    "duration": 15,
    "start_time": "2023-09-12T18:28:07.142Z"
   },
   {
    "duration": 66,
    "start_time": "2023-09-12T18:28:07.167Z"
   },
   {
    "duration": 1510,
    "start_time": "2023-09-12T18:28:07.235Z"
   },
   {
    "duration": 1636,
    "start_time": "2023-09-12T18:29:26.774Z"
   },
   {
    "duration": 1692,
    "start_time": "2023-09-12T18:29:43.193Z"
   },
   {
    "duration": 1465,
    "start_time": "2023-09-12T18:30:09.539Z"
   },
   {
    "duration": 1465,
    "start_time": "2023-09-12T18:32:07.395Z"
   },
   {
    "duration": 1358,
    "start_time": "2023-09-17T18:13:45.434Z"
   },
   {
    "duration": 73,
    "start_time": "2023-09-17T18:13:46.794Z"
   },
   {
    "duration": 15,
    "start_time": "2023-09-17T18:13:46.869Z"
   },
   {
    "duration": 11,
    "start_time": "2023-09-17T18:13:46.886Z"
   },
   {
    "duration": 48,
    "start_time": "2023-09-17T18:13:46.899Z"
   },
   {
    "duration": 11,
    "start_time": "2023-09-17T18:13:46.949Z"
   },
   {
    "duration": 2,
    "start_time": "2023-09-17T18:13:46.961Z"
   },
   {
    "duration": 30,
    "start_time": "2023-09-17T18:13:46.965Z"
   },
   {
    "duration": 1455,
    "start_time": "2023-09-17T18:13:46.997Z"
   },
   {
    "duration": 52,
    "start_time": "2023-10-03T09:47:17.725Z"
   },
   {
    "duration": 1464,
    "start_time": "2023-10-03T09:47:24.457Z"
   },
   {
    "duration": 140,
    "start_time": "2023-10-03T09:47:25.923Z"
   },
   {
    "duration": 19,
    "start_time": "2023-10-03T09:47:26.065Z"
   },
   {
    "duration": 24,
    "start_time": "2023-10-03T09:47:26.086Z"
   },
   {
    "duration": 59,
    "start_time": "2023-10-03T09:47:26.112Z"
   },
   {
    "duration": 14,
    "start_time": "2023-10-03T09:47:26.173Z"
   },
   {
    "duration": 5,
    "start_time": "2023-10-03T09:47:26.189Z"
   },
   {
    "duration": 26,
    "start_time": "2023-10-03T09:47:26.195Z"
   },
   {
    "duration": 1645,
    "start_time": "2023-10-03T09:47:26.224Z"
   },
   {
    "duration": 3,
    "start_time": "2023-10-03T09:59:27.014Z"
   },
   {
    "duration": 1187,
    "start_time": "2023-10-03T09:59:36.309Z"
   },
   {
    "duration": 36,
    "start_time": "2023-10-03T09:59:37.499Z"
   },
   {
    "duration": 16,
    "start_time": "2023-10-03T09:59:37.537Z"
   },
   {
    "duration": 3,
    "start_time": "2023-10-03T09:59:37.555Z"
   },
   {
    "duration": 16,
    "start_time": "2023-10-03T09:59:37.560Z"
   },
   {
    "duration": 47,
    "start_time": "2023-10-03T09:59:37.577Z"
   },
   {
    "duration": 125,
    "start_time": "2023-10-03T09:59:37.626Z"
   },
   {
    "duration": 0,
    "start_time": "2023-10-03T09:59:37.756Z"
   },
   {
    "duration": 0,
    "start_time": "2023-10-03T09:59:37.758Z"
   },
   {
    "duration": 0,
    "start_time": "2023-10-03T09:59:37.759Z"
   },
   {
    "duration": 14,
    "start_time": "2023-10-03T10:03:04.084Z"
   },
   {
    "duration": 1187,
    "start_time": "2023-10-03T10:03:14.009Z"
   },
   {
    "duration": 37,
    "start_time": "2023-10-03T10:03:15.198Z"
   },
   {
    "duration": 17,
    "start_time": "2023-10-03T10:03:15.237Z"
   },
   {
    "duration": 175,
    "start_time": "2023-10-03T10:03:15.256Z"
   },
   {
    "duration": 41,
    "start_time": "2023-10-03T10:03:15.433Z"
   },
   {
    "duration": 86,
    "start_time": "2023-10-03T10:03:15.477Z"
   },
   {
    "duration": 117,
    "start_time": "2023-10-03T10:03:15.565Z"
   },
   {
    "duration": 0,
    "start_time": "2023-10-03T10:03:15.683Z"
   },
   {
    "duration": 0,
    "start_time": "2023-10-03T10:03:15.685Z"
   },
   {
    "duration": 0,
    "start_time": "2023-10-03T10:03:15.686Z"
   },
   {
    "duration": 15,
    "start_time": "2023-10-03T10:03:28.071Z"
   },
   {
    "duration": 14,
    "start_time": "2023-10-03T10:03:36.207Z"
   },
   {
    "duration": 4,
    "start_time": "2023-10-03T10:03:41.445Z"
   },
   {
    "duration": 22,
    "start_time": "2023-10-03T10:05:58.494Z"
   },
   {
    "duration": 1580,
    "start_time": "2023-10-03T10:06:01.154Z"
   },
   {
    "duration": 179,
    "start_time": "2023-10-03T10:06:10.631Z"
   },
   {
    "duration": 1467,
    "start_time": "2023-10-03T10:06:29.261Z"
   },
   {
    "duration": 22,
    "start_time": "2023-10-03T10:06:37.057Z"
   },
   {
    "duration": 28,
    "start_time": "2023-10-03T10:07:04.197Z"
   },
   {
    "duration": 1570,
    "start_time": "2023-10-03T10:07:08.589Z"
   },
   {
    "duration": 3,
    "start_time": "2023-10-03T10:15:56.621Z"
   },
   {
    "duration": 4,
    "start_time": "2023-10-03T10:16:29.971Z"
   },
   {
    "duration": 14,
    "start_time": "2023-10-03T10:17:09.991Z"
   },
   {
    "duration": 865,
    "start_time": "2023-10-03T10:17:23.708Z"
   },
   {
    "duration": 1245,
    "start_time": "2023-10-03T10:17:46.571Z"
   },
   {
    "duration": 2,
    "start_time": "2023-10-03T10:19:09.702Z"
   },
   {
    "duration": 469,
    "start_time": "2023-10-03T10:22:34.206Z"
   },
   {
    "duration": 19,
    "start_time": "2023-10-03T10:23:20.779Z"
   },
   {
    "duration": 536,
    "start_time": "2023-10-03T10:30:41.943Z"
   },
   {
    "duration": 17169,
    "start_time": "2023-10-03T10:33:03.915Z"
   },
   {
    "duration": 55,
    "start_time": "2023-10-03T10:33:52.666Z"
   },
   {
    "duration": 1336,
    "start_time": "2023-10-03T10:34:05.194Z"
   },
   {
    "duration": 3475,
    "start_time": "2023-10-03T10:34:06.532Z"
   },
   {
    "duration": 38,
    "start_time": "2023-10-03T10:34:10.010Z"
   },
   {
    "duration": 29,
    "start_time": "2023-10-03T10:34:10.049Z"
   },
   {
    "duration": 29,
    "start_time": "2023-10-03T10:34:10.081Z"
   },
   {
    "duration": 79,
    "start_time": "2023-10-03T10:34:10.112Z"
   },
   {
    "duration": 76,
    "start_time": "2023-10-03T10:34:10.193Z"
   },
   {
    "duration": 19,
    "start_time": "2023-10-03T10:34:10.270Z"
   },
   {
    "duration": 17,
    "start_time": "2023-10-03T10:34:10.291Z"
   },
   {
    "duration": 944,
    "start_time": "2023-10-03T10:34:10.310Z"
   },
   {
    "duration": 126,
    "start_time": "2023-10-03T10:34:11.258Z"
   },
   {
    "duration": 0,
    "start_time": "2023-10-03T10:34:11.387Z"
   },
   {
    "duration": 0,
    "start_time": "2023-10-03T10:34:11.389Z"
   },
   {
    "duration": 0,
    "start_time": "2023-10-03T10:34:11.390Z"
   },
   {
    "duration": 0,
    "start_time": "2023-10-03T10:34:11.392Z"
   },
   {
    "duration": 11,
    "start_time": "2023-10-03T10:35:04.973Z"
   },
   {
    "duration": 12,
    "start_time": "2023-10-03T10:35:10.876Z"
   },
   {
    "duration": 13,
    "start_time": "2023-10-03T10:35:51.483Z"
   },
   {
    "duration": 2674,
    "start_time": "2023-10-03T10:36:17.400Z"
   },
   {
    "duration": 1013,
    "start_time": "2023-10-03T10:36:35.388Z"
   },
   {
    "duration": 662,
    "start_time": "2023-10-03T10:36:43.872Z"
   },
   {
    "duration": 881,
    "start_time": "2023-10-03T10:42:21.348Z"
   },
   {
    "duration": 3,
    "start_time": "2023-10-03T11:06:27.244Z"
   },
   {
    "duration": 14,
    "start_time": "2023-10-03T11:06:31.306Z"
   },
   {
    "duration": 103,
    "start_time": "2023-10-03T11:09:27.208Z"
   },
   {
    "duration": 911,
    "start_time": "2023-10-03T11:09:46.190Z"
   },
   {
    "duration": 146,
    "start_time": "2023-10-03T11:09:50.193Z"
   },
   {
    "duration": 1497,
    "start_time": "2023-10-03T11:10:45.954Z"
   },
   {
    "duration": 147,
    "start_time": "2023-10-03T11:10:50.399Z"
   },
   {
    "duration": 10,
    "start_time": "2023-10-03T11:19:02.204Z"
   },
   {
    "duration": 725,
    "start_time": "2023-10-03T11:20:21.605Z"
   },
   {
    "duration": 695,
    "start_time": "2023-10-03T11:20:41.296Z"
   },
   {
    "duration": 1525,
    "start_time": "2023-10-03T11:21:03.991Z"
   },
   {
    "duration": 1744,
    "start_time": "2023-10-03T11:22:38.107Z"
   },
   {
    "duration": 2016,
    "start_time": "2023-10-03T11:23:03.318Z"
   },
   {
    "duration": 1977,
    "start_time": "2023-10-03T11:23:35.894Z"
   },
   {
    "duration": 1976,
    "start_time": "2023-10-03T11:25:12.549Z"
   },
   {
    "duration": 1839,
    "start_time": "2023-10-03T11:25:47.788Z"
   },
   {
    "duration": 1608,
    "start_time": "2023-10-03T11:26:26.156Z"
   },
   {
    "duration": 2097,
    "start_time": "2023-10-03T11:26:40.024Z"
   },
   {
    "duration": 1953,
    "start_time": "2023-10-03T11:31:52.186Z"
   },
   {
    "duration": 16,
    "start_time": "2023-10-03T11:32:15.934Z"
   },
   {
    "duration": 15,
    "start_time": "2023-10-03T11:32:33.715Z"
   },
   {
    "duration": 3016,
    "start_time": "2023-10-03T11:32:36.233Z"
   },
   {
    "duration": 2589,
    "start_time": "2023-10-03T11:32:47.678Z"
   },
   {
    "duration": 1956,
    "start_time": "2023-10-03T11:33:55.925Z"
   },
   {
    "duration": 2021,
    "start_time": "2023-10-03T11:35:31.184Z"
   },
   {
    "duration": 5,
    "start_time": "2023-10-03T11:38:56.760Z"
   },
   {
    "duration": 18,
    "start_time": "2023-10-03T11:39:36.108Z"
   },
   {
    "duration": 3,
    "start_time": "2023-10-03T11:39:52.652Z"
   },
   {
    "duration": 5,
    "start_time": "2023-10-03T11:39:57.217Z"
   },
   {
    "duration": 2,
    "start_time": "2023-10-03T11:40:04.991Z"
   },
   {
    "duration": 2116,
    "start_time": "2023-10-03T11:41:00.984Z"
   },
   {
    "duration": 23,
    "start_time": "2023-10-03T11:41:09.483Z"
   },
   {
    "duration": 2497,
    "start_time": "2023-10-03T11:41:14.681Z"
   },
   {
    "duration": 1463,
    "start_time": "2023-10-04T10:46:12.819Z"
   },
   {
    "duration": 3,
    "start_time": "2023-10-04T10:46:14.284Z"
   },
   {
    "duration": 84,
    "start_time": "2023-10-04T10:46:14.289Z"
   },
   {
    "duration": 17,
    "start_time": "2023-10-04T10:46:14.375Z"
   },
   {
    "duration": 3,
    "start_time": "2023-10-04T10:46:14.395Z"
   },
   {
    "duration": 9,
    "start_time": "2023-10-04T10:46:14.400Z"
   },
   {
    "duration": 25,
    "start_time": "2023-10-04T10:46:14.412Z"
   },
   {
    "duration": 49,
    "start_time": "2023-10-04T10:46:14.439Z"
   },
   {
    "duration": 36,
    "start_time": "2023-10-04T10:46:14.490Z"
   },
   {
    "duration": 4,
    "start_time": "2023-10-04T10:46:14.529Z"
   },
   {
    "duration": 1408,
    "start_time": "2023-10-04T10:46:14.535Z"
   },
   {
    "duration": 3,
    "start_time": "2023-10-04T10:46:15.945Z"
   },
   {
    "duration": 2429,
    "start_time": "2023-10-04T10:46:15.949Z"
   },
   {
    "duration": 48,
    "start_time": "2023-10-04T10:46:18.381Z"
   },
   {
    "duration": 1728,
    "start_time": "2023-10-04T10:46:18.431Z"
   },
   {
    "duration": 3,
    "start_time": "2023-10-04T17:53:28.782Z"
   },
   {
    "duration": 1912,
    "start_time": "2023-10-04T19:19:27.816Z"
   },
   {
    "duration": 3,
    "start_time": "2023-10-04T19:19:29.731Z"
   },
   {
    "duration": 89,
    "start_time": "2023-10-04T19:19:29.736Z"
   },
   {
    "duration": 20,
    "start_time": "2023-10-04T19:19:29.828Z"
   },
   {
    "duration": 7,
    "start_time": "2023-10-04T19:19:29.850Z"
   },
   {
    "duration": 17,
    "start_time": "2023-10-04T19:19:29.861Z"
   },
   {
    "duration": 17,
    "start_time": "2023-10-04T19:19:29.879Z"
   },
   {
    "duration": 62,
    "start_time": "2023-10-04T19:19:29.898Z"
   },
   {
    "duration": 21,
    "start_time": "2023-10-04T19:19:29.962Z"
   },
   {
    "duration": 6,
    "start_time": "2023-10-04T19:19:29.985Z"
   },
   {
    "duration": 1339,
    "start_time": "2023-10-04T19:19:29.992Z"
   },
   {
    "duration": 3,
    "start_time": "2023-10-04T19:19:31.333Z"
   },
   {
    "duration": 2615,
    "start_time": "2023-10-04T19:19:31.338Z"
   },
   {
    "duration": 38,
    "start_time": "2023-10-04T19:19:33.962Z"
   },
   {
    "duration": 1797,
    "start_time": "2023-10-04T19:19:34.002Z"
   },
   {
    "duration": 123,
    "start_time": "2023-10-04T19:19:35.800Z"
   },
   {
    "duration": 247,
    "start_time": "2023-10-04T19:23:11.484Z"
   },
   {
    "duration": 20,
    "start_time": "2023-10-04T19:23:15.476Z"
   },
   {
    "duration": 17,
    "start_time": "2023-10-04T19:23:57.000Z"
   },
   {
    "duration": 16,
    "start_time": "2023-10-04T19:24:00.724Z"
   },
   {
    "duration": 36,
    "start_time": "2023-10-04T19:31:23.280Z"
   },
   {
    "duration": 14,
    "start_time": "2023-10-04T19:32:40.208Z"
   },
   {
    "duration": 219,
    "start_time": "2023-10-04T19:35:23.676Z"
   },
   {
    "duration": 16,
    "start_time": "2023-10-04T19:36:34.126Z"
   },
   {
    "duration": 13,
    "start_time": "2023-10-04T19:39:31.682Z"
   },
   {
    "duration": 3,
    "start_time": "2023-10-04T19:44:19.682Z"
   },
   {
    "duration": 17,
    "start_time": "2023-10-04T19:51:32.688Z"
   },
   {
    "duration": 21,
    "start_time": "2023-10-04T19:51:38.267Z"
   },
   {
    "duration": 19,
    "start_time": "2023-10-04T19:51:38.888Z"
   },
   {
    "duration": 21,
    "start_time": "2023-10-04T19:51:49.273Z"
   },
   {
    "duration": 5,
    "start_time": "2023-10-04T19:58:38.495Z"
   },
   {
    "duration": 5,
    "start_time": "2023-10-04T19:58:49.303Z"
   },
   {
    "duration": 3,
    "start_time": "2023-10-04T19:59:00.038Z"
   },
   {
    "duration": 9,
    "start_time": "2023-10-04T20:00:02.784Z"
   },
   {
    "duration": 4,
    "start_time": "2023-10-04T20:02:34.733Z"
   },
   {
    "duration": 13,
    "start_time": "2023-10-04T20:02:35.684Z"
   },
   {
    "duration": 14,
    "start_time": "2023-10-04T20:02:45.515Z"
   },
   {
    "duration": 3,
    "start_time": "2023-10-04T20:02:55.597Z"
   },
   {
    "duration": 7,
    "start_time": "2023-10-04T20:02:56.594Z"
   },
   {
    "duration": 10,
    "start_time": "2023-10-04T20:04:06.597Z"
   },
   {
    "duration": 7,
    "start_time": "2023-10-04T20:04:11.694Z"
   },
   {
    "duration": 4,
    "start_time": "2023-10-04T20:04:33.084Z"
   },
   {
    "duration": 8,
    "start_time": "2023-10-04T20:04:35.102Z"
   },
   {
    "duration": 9,
    "start_time": "2023-10-04T20:04:35.872Z"
   },
   {
    "duration": 4,
    "start_time": "2023-10-04T20:04:45.985Z"
   },
   {
    "duration": 7,
    "start_time": "2023-10-04T20:04:47.984Z"
   },
   {
    "duration": 9,
    "start_time": "2023-10-04T20:04:49.019Z"
   },
   {
    "duration": 51,
    "start_time": "2023-10-04T20:10:42.920Z"
   },
   {
    "duration": 8,
    "start_time": "2023-10-04T20:10:52.687Z"
   },
   {
    "duration": 16,
    "start_time": "2023-10-04T20:11:16.019Z"
   },
   {
    "duration": 4,
    "start_time": "2023-10-04T20:11:26.102Z"
   },
   {
    "duration": 8,
    "start_time": "2023-10-04T20:11:26.595Z"
   },
   {
    "duration": 8,
    "start_time": "2023-10-04T20:11:27.338Z"
   },
   {
    "duration": 8,
    "start_time": "2023-10-04T20:13:39.023Z"
   },
   {
    "duration": 7,
    "start_time": "2023-10-04T20:14:01.114Z"
   },
   {
    "duration": 7,
    "start_time": "2023-10-04T20:14:30.896Z"
   },
   {
    "duration": 34,
    "start_time": "2023-10-04T20:15:07.236Z"
   },
   {
    "duration": 7,
    "start_time": "2023-10-04T20:15:10.123Z"
   },
   {
    "duration": 10,
    "start_time": "2023-10-04T20:30:09.612Z"
   },
   {
    "duration": 6,
    "start_time": "2023-10-04T20:30:40.404Z"
   },
   {
    "duration": 51,
    "start_time": "2023-10-04T20:30:50.035Z"
   },
   {
    "duration": 16,
    "start_time": "2023-10-04T20:31:29.100Z"
   },
   {
    "duration": 12,
    "start_time": "2023-10-04T20:32:15.509Z"
   },
   {
    "duration": 421,
    "start_time": "2023-10-04T20:32:23.004Z"
   },
   {
    "duration": 5,
    "start_time": "2023-10-04T20:32:26.274Z"
   },
   {
    "duration": 6,
    "start_time": "2023-10-04T20:32:26.903Z"
   },
   {
    "duration": 10,
    "start_time": "2023-10-04T20:32:27.838Z"
   },
   {
    "duration": 7,
    "start_time": "2023-10-04T20:32:52.019Z"
   },
   {
    "duration": 12,
    "start_time": "2023-10-04T20:32:54.451Z"
   },
   {
    "duration": 1682,
    "start_time": "2023-10-04T20:33:19.334Z"
   },
   {
    "duration": 2,
    "start_time": "2023-10-04T20:33:21.019Z"
   },
   {
    "duration": 104,
    "start_time": "2023-10-04T20:33:21.022Z"
   },
   {
    "duration": 28,
    "start_time": "2023-10-04T20:33:21.127Z"
   },
   {
    "duration": 27,
    "start_time": "2023-10-04T20:33:21.159Z"
   },
   {
    "duration": 8,
    "start_time": "2023-10-04T20:33:21.188Z"
   },
   {
    "duration": 14,
    "start_time": "2023-10-04T20:33:21.198Z"
   },
   {
    "duration": 71,
    "start_time": "2023-10-04T20:33:21.214Z"
   },
   {
    "duration": 14,
    "start_time": "2023-10-04T20:33:21.287Z"
   },
   {
    "duration": 3,
    "start_time": "2023-10-04T20:33:21.302Z"
   },
   {
    "duration": 1342,
    "start_time": "2023-10-04T20:33:21.307Z"
   },
   {
    "duration": 3,
    "start_time": "2023-10-04T20:33:22.652Z"
   },
   {
    "duration": 2546,
    "start_time": "2023-10-04T20:33:22.657Z"
   },
   {
    "duration": 29,
    "start_time": "2023-10-04T20:33:25.206Z"
   },
   {
    "duration": 1667,
    "start_time": "2023-10-04T20:33:25.237Z"
   },
   {
    "duration": 6,
    "start_time": "2023-10-04T20:33:26.906Z"
   },
   {
    "duration": 73,
    "start_time": "2023-10-04T20:33:26.913Z"
   },
   {
    "duration": 667,
    "start_time": "2023-10-04T20:33:26.988Z"
   },
   {
    "duration": 12,
    "start_time": "2023-10-04T20:33:27.670Z"
   },
   {
    "duration": 134,
    "start_time": "2023-10-04T20:33:27.685Z"
   },
   {
    "duration": 0,
    "start_time": "2023-10-04T20:33:27.820Z"
   },
   {
    "duration": 21,
    "start_time": "2023-10-04T20:36:20.561Z"
   },
   {
    "duration": 23,
    "start_time": "2023-10-04T20:36:26.104Z"
   },
   {
    "duration": 455,
    "start_time": "2023-10-04T20:36:30.436Z"
   },
   {
    "duration": 4,
    "start_time": "2023-10-04T20:36:30.996Z"
   },
   {
    "duration": 21,
    "start_time": "2023-10-04T20:36:32.073Z"
   },
   {
    "duration": 14,
    "start_time": "2023-10-04T20:36:37.605Z"
   },
   {
    "duration": 3,
    "start_time": "2023-10-04T20:37:31.592Z"
   },
   {
    "duration": 10,
    "start_time": "2023-10-04T20:37:32.172Z"
   },
   {
    "duration": 6,
    "start_time": "2023-10-04T20:37:33.128Z"
   },
   {
    "duration": 4,
    "start_time": "2023-10-04T20:37:47.616Z"
   },
   {
    "duration": 8,
    "start_time": "2023-10-04T20:37:48.218Z"
   },
   {
    "duration": 8,
    "start_time": "2023-10-04T20:37:48.910Z"
   },
   {
    "duration": 7,
    "start_time": "2023-10-04T20:38:15.566Z"
   },
   {
    "duration": 8,
    "start_time": "2023-10-04T20:38:17.409Z"
   },
   {
    "duration": 11,
    "start_time": "2023-10-04T20:38:18.072Z"
   },
   {
    "duration": 5,
    "start_time": "2023-10-04T20:39:14.168Z"
   },
   {
    "duration": 18,
    "start_time": "2023-10-04T20:39:14.873Z"
   },
   {
    "duration": 8,
    "start_time": "2023-10-04T20:39:15.697Z"
   },
   {
    "duration": 1777,
    "start_time": "2023-10-04T20:40:00.597Z"
   },
   {
    "duration": 4,
    "start_time": "2023-10-04T20:40:02.378Z"
   },
   {
    "duration": 97,
    "start_time": "2023-10-04T20:40:02.384Z"
   },
   {
    "duration": 24,
    "start_time": "2023-10-04T20:40:02.483Z"
   },
   {
    "duration": 57,
    "start_time": "2023-10-04T20:40:02.510Z"
   },
   {
    "duration": 35,
    "start_time": "2023-10-04T20:40:02.569Z"
   },
   {
    "duration": 82,
    "start_time": "2023-10-04T20:40:02.606Z"
   },
   {
    "duration": 193,
    "start_time": "2023-10-04T20:40:02.690Z"
   },
   {
    "duration": 15,
    "start_time": "2023-10-04T20:40:02.885Z"
   },
   {
    "duration": 72,
    "start_time": "2023-10-04T20:40:02.901Z"
   },
   {
    "duration": 1404,
    "start_time": "2023-10-04T20:40:02.974Z"
   },
   {
    "duration": 3,
    "start_time": "2023-10-04T20:40:04.380Z"
   },
   {
    "duration": 2530,
    "start_time": "2023-10-04T20:40:04.385Z"
   },
   {
    "duration": 48,
    "start_time": "2023-10-04T20:40:06.918Z"
   },
   {
    "duration": 1711,
    "start_time": "2023-10-04T20:40:06.973Z"
   },
   {
    "duration": 7,
    "start_time": "2023-10-04T20:40:08.685Z"
   },
   {
    "duration": 59,
    "start_time": "2023-10-04T20:40:08.694Z"
   },
   {
    "duration": 645,
    "start_time": "2023-10-04T20:40:08.775Z"
   },
   {
    "duration": 4,
    "start_time": "2023-10-04T20:40:09.422Z"
   },
   {
    "duration": 27,
    "start_time": "2023-10-04T20:40:09.428Z"
   },
   {
    "duration": 20,
    "start_time": "2023-10-04T20:40:09.458Z"
   },
   {
    "duration": 14,
    "start_time": "2023-10-04T20:40:55.067Z"
   },
   {
    "duration": 2427,
    "start_time": "2023-10-05T07:34:56.869Z"
   },
   {
    "duration": 3,
    "start_time": "2023-10-05T07:34:59.299Z"
   },
   {
    "duration": 132,
    "start_time": "2023-10-05T07:34:59.304Z"
   },
   {
    "duration": 33,
    "start_time": "2023-10-05T07:34:59.438Z"
   },
   {
    "duration": 6,
    "start_time": "2023-10-05T07:34:59.474Z"
   },
   {
    "duration": 29,
    "start_time": "2023-10-05T07:34:59.483Z"
   },
   {
    "duration": 56,
    "start_time": "2023-10-05T07:34:59.515Z"
   },
   {
    "duration": 61,
    "start_time": "2023-10-05T07:34:59.581Z"
   },
   {
    "duration": 16,
    "start_time": "2023-10-05T07:34:59.651Z"
   },
   {
    "duration": 3,
    "start_time": "2023-10-05T07:34:59.669Z"
   },
   {
    "duration": 1461,
    "start_time": "2023-10-05T07:34:59.674Z"
   },
   {
    "duration": 3,
    "start_time": "2023-10-05T07:35:01.137Z"
   },
   {
    "duration": 2875,
    "start_time": "2023-10-05T07:35:01.142Z"
   },
   {
    "duration": 37,
    "start_time": "2023-10-05T07:35:04.021Z"
   },
   {
    "duration": 1979,
    "start_time": "2023-10-05T07:35:04.060Z"
   },
   {
    "duration": 20,
    "start_time": "2023-10-05T07:35:06.040Z"
   },
   {
    "duration": 54,
    "start_time": "2023-10-05T07:35:06.065Z"
   },
   {
    "duration": 682,
    "start_time": "2023-10-05T07:35:06.125Z"
   },
   {
    "duration": 4,
    "start_time": "2023-10-05T07:35:06.809Z"
   },
   {
    "duration": 39,
    "start_time": "2023-10-05T07:35:06.815Z"
   },
   {
    "duration": 19,
    "start_time": "2023-10-05T07:35:06.863Z"
   },
   {
    "duration": 9,
    "start_time": "2023-10-05T07:36:19.979Z"
   },
   {
    "duration": 131,
    "start_time": "2023-10-05T07:36:29.223Z"
   },
   {
    "duration": 32,
    "start_time": "2023-10-05T07:37:21.013Z"
   },
   {
    "duration": 12,
    "start_time": "2023-10-05T07:37:27.328Z"
   },
   {
    "duration": 4,
    "start_time": "2023-10-05T07:38:00.815Z"
   },
   {
    "duration": 754,
    "start_time": "2023-10-05T07:38:05.181Z"
   },
   {
    "duration": 141989,
    "start_time": "2023-10-05T07:38:26.674Z"
   },
   {
    "duration": 882,
    "start_time": "2023-10-05T08:32:49.903Z"
   },
   {
    "duration": 13,
    "start_time": "2023-10-05T08:33:18.520Z"
   },
   {
    "duration": 33,
    "start_time": "2023-10-05T08:33:35.186Z"
   },
   {
    "duration": 30,
    "start_time": "2023-10-05T08:33:43.173Z"
   },
   {
    "duration": 8,
    "start_time": "2023-10-05T08:39:08.896Z"
   },
   {
    "duration": 33,
    "start_time": "2023-10-05T08:39:13.561Z"
   },
   {
    "duration": 33,
    "start_time": "2023-10-05T08:39:23.776Z"
   },
   {
    "duration": 16,
    "start_time": "2023-10-05T08:39:47.796Z"
   },
   {
    "duration": 38,
    "start_time": "2023-10-05T08:41:21.575Z"
   },
   {
    "duration": 18,
    "start_time": "2023-10-05T08:41:36.393Z"
   },
   {
    "duration": 14,
    "start_time": "2023-10-05T08:41:47.686Z"
   },
   {
    "duration": 14,
    "start_time": "2023-10-05T08:42:06.620Z"
   },
   {
    "duration": 24,
    "start_time": "2023-10-05T08:43:37.473Z"
   },
   {
    "duration": 20,
    "start_time": "2023-10-05T08:44:15.377Z"
   },
   {
    "duration": 17,
    "start_time": "2023-10-05T08:44:31.673Z"
   },
   {
    "duration": 19,
    "start_time": "2023-10-05T08:44:39.814Z"
   },
   {
    "duration": 25,
    "start_time": "2023-10-05T08:45:04.495Z"
   },
   {
    "duration": 16,
    "start_time": "2023-10-05T08:45:21.317Z"
   },
   {
    "duration": 10,
    "start_time": "2023-10-05T08:47:14.498Z"
   },
   {
    "duration": 5,
    "start_time": "2023-10-05T08:47:29.623Z"
   },
   {
    "duration": 477,
    "start_time": "2023-10-05T08:47:34.987Z"
   },
   {
    "duration": 461,
    "start_time": "2023-10-05T08:47:43.925Z"
   },
   {
    "duration": 157,
    "start_time": "2023-10-05T09:28:08.541Z"
   },
   {
    "duration": 401,
    "start_time": "2023-10-05T09:28:56.401Z"
   },
   {
    "duration": 424,
    "start_time": "2023-10-05T09:32:33.810Z"
   },
   {
    "duration": 525,
    "start_time": "2023-10-05T09:33:19.381Z"
   },
   {
    "duration": 27,
    "start_time": "2023-10-05T09:35:38.791Z"
   },
   {
    "duration": 37,
    "start_time": "2023-10-05T09:36:03.463Z"
   },
   {
    "duration": 30,
    "start_time": "2023-10-05T09:36:11.919Z"
   },
   {
    "duration": 49,
    "start_time": "2023-10-05T09:49:59.171Z"
   },
   {
    "duration": 757,
    "start_time": "2023-10-05T09:50:03.936Z"
   },
   {
    "duration": 1788,
    "start_time": "2023-10-05T09:50:21.733Z"
   },
   {
    "duration": 990,
    "start_time": "2023-10-05T09:50:38.263Z"
   },
   {
    "duration": 1752,
    "start_time": "2023-10-05T09:51:12.206Z"
   },
   {
    "duration": 2412,
    "start_time": "2023-10-05T09:52:26.269Z"
   },
   {
    "duration": 2477,
    "start_time": "2023-10-05T09:53:36.494Z"
   },
   {
    "duration": 2046,
    "start_time": "2023-10-05T09:54:44.104Z"
   },
   {
    "duration": 2004,
    "start_time": "2023-10-05T09:55:04.909Z"
   },
   {
    "duration": 186,
    "start_time": "2023-10-05T10:03:01.403Z"
   },
   {
    "duration": 279,
    "start_time": "2023-10-05T10:03:34.936Z"
   },
   {
    "duration": 1053,
    "start_time": "2023-10-05T10:03:47.831Z"
   },
   {
    "duration": 5682,
    "start_time": "2023-10-05T10:06:06.379Z"
   },
   {
    "duration": 7625,
    "start_time": "2023-10-05T10:07:12.303Z"
   },
   {
    "duration": 149,
    "start_time": "2023-10-05T10:16:07.708Z"
   },
   {
    "duration": 135,
    "start_time": "2023-10-05T10:16:39.066Z"
   },
   {
    "duration": 196,
    "start_time": "2023-10-05T10:16:43.628Z"
   },
   {
    "duration": 5794,
    "start_time": "2023-10-05T10:17:40.984Z"
   },
   {
    "duration": 5928,
    "start_time": "2023-10-05T10:18:00.675Z"
   },
   {
    "duration": 249,
    "start_time": "2023-10-05T10:22:59.638Z"
   },
   {
    "duration": 76,
    "start_time": "2023-10-05T10:23:33.744Z"
   },
   {
    "duration": 20,
    "start_time": "2023-10-05T10:37:59.482Z"
   },
   {
    "duration": 4,
    "start_time": "2023-10-05T11:03:12.191Z"
   },
   {
    "duration": 148905,
    "start_time": "2023-10-05T11:07:51.870Z"
   },
   {
    "duration": 1378,
    "start_time": "2023-10-05T11:10:20.783Z"
   },
   {
    "duration": 1896,
    "start_time": "2023-10-05T11:34:52.205Z"
   },
   {
    "duration": 1665,
    "start_time": "2023-10-05T11:35:13.168Z"
   },
   {
    "duration": 1983,
    "start_time": "2023-10-05T11:35:27.228Z"
   },
   {
    "duration": 1348,
    "start_time": "2023-10-05T11:35:39.624Z"
   },
   {
    "duration": 1270,
    "start_time": "2023-10-05T11:36:11.363Z"
   },
   {
    "duration": 1484,
    "start_time": "2023-10-05T11:37:13.990Z"
   },
   {
    "duration": 1280,
    "start_time": "2023-10-05T11:37:40.029Z"
   },
   {
    "duration": 1364,
    "start_time": "2023-10-05T11:37:55.374Z"
   },
   {
    "duration": 1627,
    "start_time": "2023-10-05T11:43:42.419Z"
   },
   {
    "duration": 2147,
    "start_time": "2023-10-05T11:47:35.119Z"
   },
   {
    "duration": 16933,
    "start_time": "2023-10-05T11:48:01.380Z"
   },
   {
    "duration": 3976,
    "start_time": "2023-10-05T11:48:38.430Z"
   },
   {
    "duration": 4214,
    "start_time": "2023-10-05T11:48:51.841Z"
   },
   {
    "duration": 4425,
    "start_time": "2023-10-05T11:50:29.100Z"
   },
   {
    "duration": 4953,
    "start_time": "2023-10-05T11:50:51.969Z"
   },
   {
    "duration": 180,
    "start_time": "2023-10-05T11:51:39.304Z"
   },
   {
    "duration": 204,
    "start_time": "2023-10-05T11:51:47.465Z"
   },
   {
    "duration": 2027,
    "start_time": "2023-10-05T11:52:00.242Z"
   },
   {
    "duration": 1919,
    "start_time": "2023-10-05T11:52:16.700Z"
   },
   {
    "duration": 1552,
    "start_time": "2023-10-05T11:52:24.711Z"
   },
   {
    "duration": 1391,
    "start_time": "2023-10-05T11:52:51.405Z"
   },
   {
    "duration": 1779,
    "start_time": "2023-10-05T11:53:32.516Z"
   },
   {
    "duration": 12543,
    "start_time": "2023-10-05T19:23:25.725Z"
   },
   {
    "duration": 1081,
    "start_time": "2023-10-05T19:24:01.548Z"
   },
   {
    "duration": 922,
    "start_time": "2023-10-05T19:31:29.473Z"
   },
   {
    "duration": 1494,
    "start_time": "2023-10-05T19:31:49.692Z"
   },
   {
    "duration": 543,
    "start_time": "2023-10-05T19:35:33.079Z"
   },
   {
    "duration": 111,
    "start_time": "2023-10-05T19:36:23.811Z"
   },
   {
    "duration": 16,
    "start_time": "2023-10-05T19:36:53.001Z"
   },
   {
    "duration": 1516,
    "start_time": "2023-10-05T19:37:55.725Z"
   },
   {
    "duration": 1441,
    "start_time": "2023-10-05T19:38:10.784Z"
   },
   {
    "duration": 1739,
    "start_time": "2023-10-05T19:45:02.486Z"
   },
   {
    "duration": 19,
    "start_time": "2023-10-05T19:55:21.634Z"
   },
   {
    "duration": 11,
    "start_time": "2023-10-05T19:56:46.182Z"
   },
   {
    "duration": 13,
    "start_time": "2023-10-05T19:57:09.274Z"
   },
   {
    "duration": 15,
    "start_time": "2023-10-05T19:58:16.879Z"
   },
   {
    "duration": 10,
    "start_time": "2023-10-05T19:58:32.884Z"
   },
   {
    "duration": 10,
    "start_time": "2023-10-05T19:58:48.383Z"
   },
   {
    "duration": 8,
    "start_time": "2023-10-05T19:59:21.716Z"
   },
   {
    "duration": 8,
    "start_time": "2023-10-05T19:59:43.606Z"
   },
   {
    "duration": 7,
    "start_time": "2023-10-05T19:59:51.700Z"
   },
   {
    "duration": 8,
    "start_time": "2023-10-05T20:00:05.737Z"
   },
   {
    "duration": 18,
    "start_time": "2023-10-05T20:00:59.739Z"
   },
   {
    "duration": 16,
    "start_time": "2023-10-05T20:01:36.380Z"
   },
   {
    "duration": 9,
    "start_time": "2023-10-05T20:01:39.180Z"
   },
   {
    "duration": 4999,
    "start_time": "2023-10-06T13:45:56.880Z"
   },
   {
    "duration": 3,
    "start_time": "2023-10-06T13:46:01.880Z"
   },
   {
    "duration": 278,
    "start_time": "2023-10-06T13:46:01.885Z"
   },
   {
    "duration": 103,
    "start_time": "2023-10-06T13:46:02.165Z"
   },
   {
    "duration": 209,
    "start_time": "2023-10-06T13:46:02.273Z"
   },
   {
    "duration": 198,
    "start_time": "2023-10-06T13:46:02.484Z"
   },
   {
    "duration": 106,
    "start_time": "2023-10-06T13:46:02.683Z"
   },
   {
    "duration": 234,
    "start_time": "2023-10-06T13:46:02.790Z"
   },
   {
    "duration": 375,
    "start_time": "2023-10-06T13:46:03.025Z"
   },
   {
    "duration": 465,
    "start_time": "2023-10-06T13:46:03.402Z"
   },
   {
    "duration": 1499,
    "start_time": "2023-10-06T13:46:03.869Z"
   },
   {
    "duration": 2,
    "start_time": "2023-10-06T13:46:05.370Z"
   },
   {
    "duration": 2672,
    "start_time": "2023-10-06T13:46:05.374Z"
   },
   {
    "duration": 31,
    "start_time": "2023-10-06T13:46:08.049Z"
   },
   {
    "duration": 1596,
    "start_time": "2023-10-06T13:46:08.082Z"
   },
   {
    "duration": 7,
    "start_time": "2023-10-06T13:46:09.680Z"
   },
   {
    "duration": 41,
    "start_time": "2023-10-06T13:46:09.688Z"
   },
   {
    "duration": 687,
    "start_time": "2023-10-06T13:46:09.732Z"
   },
   {
    "duration": 4,
    "start_time": "2023-10-06T13:46:10.425Z"
   },
   {
    "duration": 105,
    "start_time": "2023-10-06T13:46:10.431Z"
   },
   {
    "duration": 55,
    "start_time": "2023-10-06T13:46:10.538Z"
   },
   {
    "duration": 43,
    "start_time": "2023-10-06T13:46:10.594Z"
   },
   {
    "duration": 695,
    "start_time": "2023-10-06T13:46:10.639Z"
   },
   {
    "duration": 108621,
    "start_time": "2023-10-06T13:46:11.336Z"
   },
   {
    "duration": 1370,
    "start_time": "2023-10-06T13:47:59.959Z"
   },
   {
    "duration": 104,
    "start_time": "2023-10-06T13:48:01.331Z"
   },
   {
    "duration": 1335,
    "start_time": "2023-10-06T13:48:01.436Z"
   },
   {
    "duration": 1401,
    "start_time": "2023-10-06T13:48:02.773Z"
   },
   {
    "duration": 46,
    "start_time": "2023-10-06T17:20:17.483Z"
   },
   {
    "duration": 1707,
    "start_time": "2023-10-06T17:20:25.661Z"
   },
   {
    "duration": 11,
    "start_time": "2023-10-06T17:20:27.381Z"
   },
   {
    "duration": 101,
    "start_time": "2023-10-06T17:20:27.394Z"
   },
   {
    "duration": 13,
    "start_time": "2023-10-06T17:20:27.497Z"
   },
   {
    "duration": 16,
    "start_time": "2023-10-06T17:20:27.511Z"
   },
   {
    "duration": 43,
    "start_time": "2023-10-06T17:20:27.529Z"
   },
   {
    "duration": 27,
    "start_time": "2023-10-06T17:20:27.575Z"
   },
   {
    "duration": 77,
    "start_time": "2023-10-06T17:20:27.603Z"
   },
   {
    "duration": 116,
    "start_time": "2023-10-06T17:20:27.681Z"
   },
   {
    "duration": 0,
    "start_time": "2023-10-06T17:20:27.799Z"
   },
   {
    "duration": 0,
    "start_time": "2023-10-06T17:20:27.801Z"
   },
   {
    "duration": 0,
    "start_time": "2023-10-06T17:20:27.801Z"
   },
   {
    "duration": 0,
    "start_time": "2023-10-06T17:20:27.803Z"
   },
   {
    "duration": 0,
    "start_time": "2023-10-06T17:20:27.803Z"
   },
   {
    "duration": 0,
    "start_time": "2023-10-06T17:20:27.804Z"
   },
   {
    "duration": 0,
    "start_time": "2023-10-06T17:20:27.805Z"
   },
   {
    "duration": 0,
    "start_time": "2023-10-06T17:20:27.806Z"
   },
   {
    "duration": 0,
    "start_time": "2023-10-06T17:20:27.807Z"
   },
   {
    "duration": 0,
    "start_time": "2023-10-06T17:20:27.808Z"
   },
   {
    "duration": 1,
    "start_time": "2023-10-06T17:20:27.808Z"
   },
   {
    "duration": 0,
    "start_time": "2023-10-06T17:20:27.809Z"
   },
   {
    "duration": 0,
    "start_time": "2023-10-06T17:20:27.810Z"
   },
   {
    "duration": 0,
    "start_time": "2023-10-06T17:20:27.811Z"
   },
   {
    "duration": 0,
    "start_time": "2023-10-06T17:20:27.811Z"
   },
   {
    "duration": 0,
    "start_time": "2023-10-06T17:20:27.813Z"
   },
   {
    "duration": 0,
    "start_time": "2023-10-06T17:20:27.814Z"
   },
   {
    "duration": 0,
    "start_time": "2023-10-06T17:20:27.814Z"
   },
   {
    "duration": 0,
    "start_time": "2023-10-06T17:20:27.842Z"
   },
   {
    "duration": 0,
    "start_time": "2023-10-06T17:20:27.842Z"
   },
   {
    "duration": 7,
    "start_time": "2023-10-06T17:21:29.915Z"
   },
   {
    "duration": 7,
    "start_time": "2023-10-06T17:21:36.102Z"
   },
   {
    "duration": 18,
    "start_time": "2023-10-06T17:21:43.061Z"
   },
   {
    "duration": 22,
    "start_time": "2023-10-06T17:21:54.573Z"
   },
   {
    "duration": 6,
    "start_time": "2023-10-06T17:25:42.997Z"
   },
   {
    "duration": 145,
    "start_time": "2023-10-06T17:26:20.549Z"
   },
   {
    "duration": 112,
    "start_time": "2023-10-06T17:30:47.758Z"
   }
  ],
  "kernelspec": {
   "display_name": "Python 3 (ipykernel)",
   "language": "python",
   "name": "python3"
  },
  "language_info": {
   "codemirror_mode": {
    "name": "ipython",
    "version": 3
   },
   "file_extension": ".py",
   "mimetype": "text/x-python",
   "name": "python",
   "nbconvert_exporter": "python",
   "pygments_lexer": "ipython3",
   "version": "3.9.12"
  },
  "toc": {
   "base_numbering": 1,
   "nav_menu": {},
   "number_sections": true,
   "sideBar": true,
   "skip_h1_title": true,
   "title_cell": "Table of Contents",
   "title_sidebar": "Contents",
   "toc_cell": false,
   "toc_position": {},
   "toc_section_display": true,
   "toc_window_display": false
  }
 },
 "nbformat": 4,
 "nbformat_minor": 2
}
