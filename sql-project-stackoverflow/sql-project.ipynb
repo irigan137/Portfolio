{
 "cells": [
  {
   "cell_type": "markdown",
   "metadata": {
    "id": "sRW85nPMDWKb"
   },
   "source": [
    "# Exploring the Stackoverflow database\n",
    "\n",
    "The required data is in the tables of the `stackoverflow` schema. The objctive of the project is to connect to the database using SQLAlchemy and write 10 SQL queries that will allow to calculate certain metrics for the database.\n",
    "\n",
    "Project structure:\n",
    "1. Importing libraries and connecting to the database\n",
    "2. Execution of queries \n",
    "3. Visualisation of Retention Rate and number of posts by month"
   ]
  },
  {
   "cell_type": "code",
   "execution_count": 1,
   "metadata": {
    "id": "nlZBlglMDWKe"
   },
   "outputs": [],
   "source": [
    "# importing libraries\n",
    "\n",
    "import pandas as pd\n",
    "import matplotlib.pyplot as plt\n",
    "import seaborn as sns\n",
    "from sqlalchemy import create_engine, text "
   ]
  },
  {
   "cell_type": "markdown",
   "metadata": {
    "id": "XnOE3n28DWKg"
   },
   "source": [
    "# Database connection configuration"
   ]
  },
  {
   "cell_type": "code",
   "execution_count": 2,
   "metadata": {
    "id": "6p-yGp7qDWKg"
   },
   "outputs": [],
   "source": [
    "# configuring the database connection\n",
    "\n",
    "db_config = {\n",
    "    'user': ' ... ', # username\n",
    "    'pwd': ' ... ', # password\n",
    "    'host': ' ... ',\n",
    "    'port': 6432, # connection port\n",
    "    'db': 'data-analyst-advanced-sql' # database name\n",
    "}  \n",
    "\n",
    "connection_string = 'postgresql://{}:{}@{}:{}/{}'.format(\n",
    "    db_config['user'],\n",
    "    db_config['pwd'],\n",
    "    db_config['host'],\n",
    "    db_config['port'],\n",
    "    db_config['db'],\n",
    ")"
   ]
  },
  {
   "cell_type": "code",
   "execution_count": 3,
   "metadata": {
    "id": "DamCUTR6DWKi"
   },
   "outputs": [],
   "source": [
    "# connection to the database\n",
    "\n",
    "engine = create_engine(connection_string)\n",
    "conn = engine.connect()"
   ]
  },
  {
   "cell_type": "markdown",
   "metadata": {
    "id": "gnBMXkDBDWKm"
   },
   "source": [
    "# Task 1"
   ]
  },
  {
   "cell_type": "markdown",
   "metadata": {
    "id": "vHsfOrrNDWKn"
   },
   "source": [
    "Output the total sum of post views for each month of 2008. If there is no data for any month in the database, this month can be skipped. Sort the result in descending order of the total number of views."
   ]
  },
  {
   "cell_type": "code",
   "execution_count": 4,
   "metadata": {
    "id": "eWvykcXTDWKo",
    "scrolled": true
   },
   "outputs": [
    {
     "data": {
      "text/html": [
       "<div>\n",
       "<style scoped>\n",
       "    .dataframe tbody tr th:only-of-type {\n",
       "        vertical-align: middle;\n",
       "    }\n",
       "\n",
       "    .dataframe tbody tr th {\n",
       "        vertical-align: top;\n",
       "    }\n",
       "\n",
       "    .dataframe thead th {\n",
       "        text-align: right;\n",
       "    }\n",
       "</style>\n",
       "<table border=\"1\" class=\"dataframe\">\n",
       "  <thead>\n",
       "    <tr style=\"text-align: right;\">\n",
       "      <th></th>\n",
       "      <th>month_date</th>\n",
       "      <th>total_views</th>\n",
       "    </tr>\n",
       "  </thead>\n",
       "  <tbody>\n",
       "    <tr>\n",
       "      <th>0</th>\n",
       "      <td>2008-09-01</td>\n",
       "      <td>452928568</td>\n",
       "    </tr>\n",
       "    <tr>\n",
       "      <th>1</th>\n",
       "      <td>2008-10-01</td>\n",
       "      <td>365400138</td>\n",
       "    </tr>\n",
       "    <tr>\n",
       "      <th>2</th>\n",
       "      <td>2008-11-01</td>\n",
       "      <td>221759651</td>\n",
       "    </tr>\n",
       "    <tr>\n",
       "      <th>3</th>\n",
       "      <td>2008-12-01</td>\n",
       "      <td>197792841</td>\n",
       "    </tr>\n",
       "    <tr>\n",
       "      <th>4</th>\n",
       "      <td>2008-08-01</td>\n",
       "      <td>131367083</td>\n",
       "    </tr>\n",
       "    <tr>\n",
       "      <th>5</th>\n",
       "      <td>2008-07-01</td>\n",
       "      <td>669895</td>\n",
       "    </tr>\n",
       "  </tbody>\n",
       "</table>\n",
       "</div>"
      ],
      "text/plain": [
       "  month_date  total_views\n",
       "0 2008-09-01    452928568\n",
       "1 2008-10-01    365400138\n",
       "2 2008-11-01    221759651\n",
       "3 2008-12-01    197792841\n",
       "4 2008-08-01    131367083\n",
       "5 2008-07-01       669895"
      ]
     },
     "execution_count": 4,
     "metadata": {},
     "output_type": "execute_result"
    }
   ],
   "source": [
    "# sql query\n",
    "query = text('''\n",
    "SELECT\n",
    "    DATE_TRUNC('MONTH', creation_date) AS month_date,\n",
    "    SUM(views_count) AS total_views\n",
    "FROM stackoverflow.posts\n",
    "WHERE EXTRACT(YEAR FROM creation_date) = 2008\n",
    "GROUP BY month_date\n",
    "ORDER BY total_views DESC\n",
    "''')\n",
    "\n",
    "# query output\n",
    "df1 = pd.read_sql_query(query, conn) \n",
    "df1"
   ]
  },
  {
   "cell_type": "markdown",
   "metadata": {
    "id": "luxSj17oDWKq"
   },
   "source": [
    "The data is different across the presented months. In the summer months, as well as in December, there are significantly fewer requests. Considering that Stackoverflow is a platform for discussing issues related to development and other IT topics, it seems logical to assume that the number of requests drops during the holiday season and December. "
   ]
  },
  {
   "cell_type": "markdown",
   "metadata": {
    "id": "FziIXkn5DWKr"
   },
   "source": [
    "# Task 2"
   ]
  },
  {
   "cell_type": "markdown",
   "metadata": {
    "id": "fTGESZvYDWKr"
   },
   "source": [
    "Display the names of the most active users who gave more than 100 answers in the first month after registration (including the day of registration). Do not take into account the questions asked by users. For each user name display the number of unique `user_id` values. Sort the result by the field with names in lexicographic order."
   ]
  },
  {
   "cell_type": "code",
   "execution_count": 5,
   "metadata": {
    "id": "fIO-y-YjDWKt",
    "scrolled": true
   },
   "outputs": [
    {
     "data": {
      "text/html": [
       "<div>\n",
       "<style scoped>\n",
       "    .dataframe tbody tr th:only-of-type {\n",
       "        vertical-align: middle;\n",
       "    }\n",
       "\n",
       "    .dataframe tbody tr th {\n",
       "        vertical-align: top;\n",
       "    }\n",
       "\n",
       "    .dataframe thead th {\n",
       "        text-align: right;\n",
       "    }\n",
       "</style>\n",
       "<table border=\"1\" class=\"dataframe\">\n",
       "  <thead>\n",
       "    <tr style=\"text-align: right;\">\n",
       "      <th></th>\n",
       "      <th>display_name</th>\n",
       "      <th>count</th>\n",
       "    </tr>\n",
       "  </thead>\n",
       "  <tbody>\n",
       "    <tr>\n",
       "      <th>0</th>\n",
       "      <td>1800 INFORMATION</td>\n",
       "      <td>1</td>\n",
       "    </tr>\n",
       "    <tr>\n",
       "      <th>1</th>\n",
       "      <td>Adam Bellaire</td>\n",
       "      <td>1</td>\n",
       "    </tr>\n",
       "    <tr>\n",
       "      <th>2</th>\n",
       "      <td>Adam Davis</td>\n",
       "      <td>1</td>\n",
       "    </tr>\n",
       "    <tr>\n",
       "      <th>3</th>\n",
       "      <td>Adam Liss</td>\n",
       "      <td>1</td>\n",
       "    </tr>\n",
       "    <tr>\n",
       "      <th>4</th>\n",
       "      <td>Alan</td>\n",
       "      <td>8</td>\n",
       "    </tr>\n",
       "    <tr>\n",
       "      <th>...</th>\n",
       "      <td>...</td>\n",
       "      <td>...</td>\n",
       "    </tr>\n",
       "    <tr>\n",
       "      <th>71</th>\n",
       "      <td>leppie</td>\n",
       "      <td>1</td>\n",
       "    </tr>\n",
       "    <tr>\n",
       "      <th>72</th>\n",
       "      <td>lomaxx</td>\n",
       "      <td>1</td>\n",
       "    </tr>\n",
       "    <tr>\n",
       "      <th>73</th>\n",
       "      <td>mattlant</td>\n",
       "      <td>1</td>\n",
       "    </tr>\n",
       "    <tr>\n",
       "      <th>74</th>\n",
       "      <td>paxdiablo</td>\n",
       "      <td>1</td>\n",
       "    </tr>\n",
       "    <tr>\n",
       "      <th>75</th>\n",
       "      <td>tzot</td>\n",
       "      <td>1</td>\n",
       "    </tr>\n",
       "  </tbody>\n",
       "</table>\n",
       "<p>76 rows × 2 columns</p>\n",
       "</div>"
      ],
      "text/plain": [
       "        display_name  count\n",
       "0   1800 INFORMATION      1\n",
       "1      Adam Bellaire      1\n",
       "2         Adam Davis      1\n",
       "3          Adam Liss      1\n",
       "4               Alan      8\n",
       "..               ...    ...\n",
       "71            leppie      1\n",
       "72            lomaxx      1\n",
       "73          mattlant      1\n",
       "74         paxdiablo      1\n",
       "75              tzot      1\n",
       "\n",
       "[76 rows x 2 columns]"
      ]
     },
     "execution_count": 5,
     "metadata": {},
     "output_type": "execute_result"
    }
   ],
   "source": [
    "# sql query\n",
    "query = text('''\n",
    "SELECT\n",
    "    u.display_name AS display_name,\n",
    "    COUNT(DISTINCT(u.id))\n",
    "FROM\n",
    "    stackoverflow.users u JOIN stackoverflow.posts p ON u.id = p.user_id\n",
    "    JOIN stackoverflow.post_types pt ON p.post_type_id = pt.id\n",
    "WHERE p.creation_date < u.creation_date + INTERVAL '1 month' AND pt.type = 'Answer'\n",
    "GROUP BY display_name\n",
    "HAVING(COUNT(p.user_id) > 100)\n",
    "ORDER BY display_name\n",
    "''')\n",
    "\n",
    "# query output\n",
    "df2 = pd.read_sql_query(query, conn) \n",
    "df2"
   ]
  },
  {
   "cell_type": "code",
   "execution_count": 6,
   "metadata": {},
   "outputs": [
    {
     "data": {
      "text/html": [
       "<div>\n",
       "<style scoped>\n",
       "    .dataframe tbody tr th:only-of-type {\n",
       "        vertical-align: middle;\n",
       "    }\n",
       "\n",
       "    .dataframe tbody tr th {\n",
       "        vertical-align: top;\n",
       "    }\n",
       "\n",
       "    .dataframe thead th {\n",
       "        text-align: right;\n",
       "    }\n",
       "</style>\n",
       "<table border=\"1\" class=\"dataframe\">\n",
       "  <thead>\n",
       "    <tr style=\"text-align: right;\">\n",
       "      <th></th>\n",
       "      <th>display_name</th>\n",
       "      <th>count</th>\n",
       "    </tr>\n",
       "  </thead>\n",
       "  <tbody>\n",
       "    <tr>\n",
       "      <th>43</th>\n",
       "      <td>Matt</td>\n",
       "      <td>29</td>\n",
       "    </tr>\n",
       "    <tr>\n",
       "      <th>10</th>\n",
       "      <td>Chris</td>\n",
       "      <td>29</td>\n",
       "    </tr>\n",
       "    <tr>\n",
       "      <th>14</th>\n",
       "      <td>Dan</td>\n",
       "      <td>21</td>\n",
       "    </tr>\n",
       "    <tr>\n",
       "      <th>62</th>\n",
       "      <td>Tom</td>\n",
       "      <td>19</td>\n",
       "    </tr>\n",
       "    <tr>\n",
       "      <th>40</th>\n",
       "      <td>Mark</td>\n",
       "      <td>16</td>\n",
       "    </tr>\n",
       "    <tr>\n",
       "      <th>...</th>\n",
       "      <td>...</td>\n",
       "      <td>...</td>\n",
       "    </tr>\n",
       "    <tr>\n",
       "      <th>37</th>\n",
       "      <td>Konrad Rudolph</td>\n",
       "      <td>1</td>\n",
       "    </tr>\n",
       "    <tr>\n",
       "      <th>1</th>\n",
       "      <td>Adam Bellaire</td>\n",
       "      <td>1</td>\n",
       "    </tr>\n",
       "    <tr>\n",
       "      <th>39</th>\n",
       "      <td>Marc Gravell</td>\n",
       "      <td>1</td>\n",
       "    </tr>\n",
       "    <tr>\n",
       "      <th>41</th>\n",
       "      <td>Mark Cidade</td>\n",
       "      <td>1</td>\n",
       "    </tr>\n",
       "    <tr>\n",
       "      <th>75</th>\n",
       "      <td>tzot</td>\n",
       "      <td>1</td>\n",
       "    </tr>\n",
       "  </tbody>\n",
       "</table>\n",
       "<p>76 rows × 2 columns</p>\n",
       "</div>"
      ],
      "text/plain": [
       "      display_name  count\n",
       "43            Matt     29\n",
       "10           Chris     29\n",
       "14             Dan     21\n",
       "62             Tom     19\n",
       "40            Mark     16\n",
       "..             ...    ...\n",
       "37  Konrad Rudolph      1\n",
       "1    Adam Bellaire      1\n",
       "39    Marc Gravell      1\n",
       "41     Mark Cidade      1\n",
       "75            tzot      1\n",
       "\n",
       "[76 rows x 2 columns]"
      ]
     },
     "execution_count": 6,
     "metadata": {},
     "output_type": "execute_result"
    }
   ],
   "source": [
    "# Checking that values in the 'count' column\n",
    "df2.sort_values(by='count', ascending=False) "
   ]
  },
  {
   "cell_type": "markdown",
   "metadata": {
    "id": "CEIGGQ6ODWKy"
   },
   "source": [
    "There can be more than one unique user id for one username. It seems that usually when registering, services insist on a unique username so that there is no confusion, but in this database there are, for example, 29 different usernames with the same name. That's suspicious."
   ]
  },
  {
   "cell_type": "markdown",
   "metadata": {
    "id": "JhM2xXj5DWKu"
   },
   "source": [
    "# Task 3"
   ]
  },
  {
   "cell_type": "markdown",
   "metadata": {
    "id": "IS6xPqyyDWKu"
   },
   "source": [
    "Display the number of posts for 2008 by month. Select posts from users who registered in September 2008 and made at least one post in December of the same year. Sort the table by descending month value."
   ]
  },
  {
   "cell_type": "code",
   "execution_count": 7,
   "metadata": {
    "id": "kVu0FB8WDWKv"
   },
   "outputs": [
    {
     "data": {
      "text/html": [
       "<div>\n",
       "<style scoped>\n",
       "    .dataframe tbody tr th:only-of-type {\n",
       "        vertical-align: middle;\n",
       "    }\n",
       "\n",
       "    .dataframe tbody tr th {\n",
       "        vertical-align: top;\n",
       "    }\n",
       "\n",
       "    .dataframe thead th {\n",
       "        text-align: right;\n",
       "    }\n",
       "</style>\n",
       "<table border=\"1\" class=\"dataframe\">\n",
       "  <thead>\n",
       "    <tr style=\"text-align: right;\">\n",
       "      <th></th>\n",
       "      <th>month</th>\n",
       "      <th>count</th>\n",
       "    </tr>\n",
       "  </thead>\n",
       "  <tbody>\n",
       "    <tr>\n",
       "      <th>0</th>\n",
       "      <td>2008-12-01</td>\n",
       "      <td>17641</td>\n",
       "    </tr>\n",
       "    <tr>\n",
       "      <th>1</th>\n",
       "      <td>2008-11-01</td>\n",
       "      <td>18294</td>\n",
       "    </tr>\n",
       "    <tr>\n",
       "      <th>2</th>\n",
       "      <td>2008-10-01</td>\n",
       "      <td>27171</td>\n",
       "    </tr>\n",
       "    <tr>\n",
       "      <th>3</th>\n",
       "      <td>2008-09-01</td>\n",
       "      <td>24870</td>\n",
       "    </tr>\n",
       "    <tr>\n",
       "      <th>4</th>\n",
       "      <td>2008-08-01</td>\n",
       "      <td>32</td>\n",
       "    </tr>\n",
       "  </tbody>\n",
       "</table>\n",
       "</div>"
      ],
      "text/plain": [
       "        month  count\n",
       "0  2008-12-01  17641\n",
       "1  2008-11-01  18294\n",
       "2  2008-10-01  27171\n",
       "3  2008-09-01  24870\n",
       "4  2008-08-01     32"
      ]
     },
     "execution_count": 7,
     "metadata": {},
     "output_type": "execute_result"
    }
   ],
   "source": [
    "# sql query\n",
    "query = text('''\n",
    "SELECT DATE_TRUNC('month', p.creation_date)::date AS month,\n",
    "       COUNT(p.id) \n",
    "FROM stackoverflow.posts AS p\n",
    "WHERE user_id IN\n",
    "                (SELECT u.id\n",
    "                 FROM stackoverflow.posts AS p\n",
    "                 JOIN stackoverflow.users AS u ON p.user_id = u.id \n",
    "                 WHERE p.creation_date::date BETWEEN '2008-12-01' AND '2008-12-31'\n",
    "                       AND u.creation_date::date BETWEEN '2008-09-01' AND '2008-09-30'  \n",
    "                 GROUP BY u.id\n",
    "                 HAVING COUNT(p.id)>0\n",
    "                 )\n",
    "GROUP BY DATE_TRUNC('month', p.creation_date)::date\n",
    "ORDER BY DATE_TRUNC('month', p.creation_date)::date DESC;\n",
    "''')\n",
    "\n",
    "# query output\n",
    "df3 = pd.read_sql_query(query, conn) \n",
    "df3"
   ]
  },
  {
   "cell_type": "markdown",
   "metadata": {
    "id": "MMVIz4yMlKpN"
   },
   "source": [
    "The smallest number of posts is in December. Probably the reason is the same as was mentioned for the first task - people post less in the month with Christmas and New Year's Eve."
   ]
  },
  {
   "cell_type": "markdown",
   "metadata": {
    "id": "5Pcizm0DDWKz"
   },
   "source": [
    "# Task 4"
   ]
  },
  {
   "cell_type": "markdown",
   "metadata": {
    "id": "KUZPF6vHDWKz"
   },
   "source": [
    "Using the post data, output several fields:\n",
    "\n",
    "- ID of the user who wrote the post;\n",
    "- the date the post was created;\n",
    "- the number of views of the current post;\n",
    "- the sum of views of the author's posts with accumulation.\n",
    "\n",
    "The data in the table should be sorted by ascending order of user IDs, and data about the same user - by ascending order of post creation date."
   ]
  },
  {
   "cell_type": "code",
   "execution_count": 8,
   "metadata": {
    "id": "hDoJhMzfDWK0"
   },
   "outputs": [
    {
     "data": {
      "text/html": [
       "<div>\n",
       "<style scoped>\n",
       "    .dataframe tbody tr th:only-of-type {\n",
       "        vertical-align: middle;\n",
       "    }\n",
       "\n",
       "    .dataframe tbody tr th {\n",
       "        vertical-align: top;\n",
       "    }\n",
       "\n",
       "    .dataframe thead th {\n",
       "        text-align: right;\n",
       "    }\n",
       "</style>\n",
       "<table border=\"1\" class=\"dataframe\">\n",
       "  <thead>\n",
       "    <tr style=\"text-align: right;\">\n",
       "      <th></th>\n",
       "      <th>user_id</th>\n",
       "      <th>creation_date</th>\n",
       "      <th>views_count</th>\n",
       "      <th>cumulative_count</th>\n",
       "    </tr>\n",
       "  </thead>\n",
       "  <tbody>\n",
       "    <tr>\n",
       "      <th>0</th>\n",
       "      <td>1</td>\n",
       "      <td>2008-07-31 23:41:00</td>\n",
       "      <td>480476</td>\n",
       "      <td>480476</td>\n",
       "    </tr>\n",
       "    <tr>\n",
       "      <th>1</th>\n",
       "      <td>1</td>\n",
       "      <td>2008-07-31 23:55:38</td>\n",
       "      <td>136033</td>\n",
       "      <td>616509</td>\n",
       "    </tr>\n",
       "    <tr>\n",
       "      <th>2</th>\n",
       "      <td>1</td>\n",
       "      <td>2008-07-31 23:56:41</td>\n",
       "      <td>0</td>\n",
       "      <td>616509</td>\n",
       "    </tr>\n",
       "    <tr>\n",
       "      <th>3</th>\n",
       "      <td>1</td>\n",
       "      <td>2008-08-04 02:45:08</td>\n",
       "      <td>0</td>\n",
       "      <td>616509</td>\n",
       "    </tr>\n",
       "    <tr>\n",
       "      <th>4</th>\n",
       "      <td>1</td>\n",
       "      <td>2008-08-04 04:31:03</td>\n",
       "      <td>0</td>\n",
       "      <td>616509</td>\n",
       "    </tr>\n",
       "    <tr>\n",
       "      <th>...</th>\n",
       "      <td>...</td>\n",
       "      <td>...</td>\n",
       "      <td>...</td>\n",
       "      <td>...</td>\n",
       "    </tr>\n",
       "    <tr>\n",
       "      <th>243791</th>\n",
       "      <td>5696608</td>\n",
       "      <td>2008-12-23 16:00:37</td>\n",
       "      <td>0</td>\n",
       "      <td>2804</td>\n",
       "    </tr>\n",
       "    <tr>\n",
       "      <th>243792</th>\n",
       "      <td>5696608</td>\n",
       "      <td>2008-12-23 17:35:09</td>\n",
       "      <td>0</td>\n",
       "      <td>2804</td>\n",
       "    </tr>\n",
       "    <tr>\n",
       "      <th>243793</th>\n",
       "      <td>5696608</td>\n",
       "      <td>2008-12-24 01:02:48</td>\n",
       "      <td>0</td>\n",
       "      <td>2804</td>\n",
       "    </tr>\n",
       "    <tr>\n",
       "      <th>243794</th>\n",
       "      <td>5696608</td>\n",
       "      <td>2008-12-30 14:34:45</td>\n",
       "      <td>0</td>\n",
       "      <td>2804</td>\n",
       "    </tr>\n",
       "    <tr>\n",
       "      <th>243795</th>\n",
       "      <td>5696608</td>\n",
       "      <td>2008-12-30 16:32:12</td>\n",
       "      <td>0</td>\n",
       "      <td>2804</td>\n",
       "    </tr>\n",
       "  </tbody>\n",
       "</table>\n",
       "<p>243796 rows × 4 columns</p>\n",
       "</div>"
      ],
      "text/plain": [
       "        user_id       creation_date  views_count  cumulative_count\n",
       "0             1 2008-07-31 23:41:00       480476            480476\n",
       "1             1 2008-07-31 23:55:38       136033            616509\n",
       "2             1 2008-07-31 23:56:41            0            616509\n",
       "3             1 2008-08-04 02:45:08            0            616509\n",
       "4             1 2008-08-04 04:31:03            0            616509\n",
       "...         ...                 ...          ...               ...\n",
       "243791  5696608 2008-12-23 16:00:37            0              2804\n",
       "243792  5696608 2008-12-23 17:35:09            0              2804\n",
       "243793  5696608 2008-12-24 01:02:48            0              2804\n",
       "243794  5696608 2008-12-30 14:34:45            0              2804\n",
       "243795  5696608 2008-12-30 16:32:12            0              2804\n",
       "\n",
       "[243796 rows x 4 columns]"
      ]
     },
     "execution_count": 8,
     "metadata": {},
     "output_type": "execute_result"
    }
   ],
   "source": [
    "# sql query\n",
    "query = text('''\n",
    "SELECT\n",
    "    user_id,\n",
    "    creation_date,\n",
    "    views_count,\n",
    "    SUM(views_count) OVER(PARTITION BY user_id ORDER BY creation_date) AS cumulative_count\n",
    "FROM stackoverflow.posts\n",
    "GROUP BY user_id, creation_date, views_count\n",
    "ORDER BY user_id\n",
    "''')\n",
    "\n",
    "# query output\n",
    "df4 = pd.read_sql_query(query, conn) \n",
    "df4"
   ]
  },
  {
   "cell_type": "markdown",
   "metadata": {
    "id": "N0kHRHvIDWK2"
   },
   "source": [
    "# Task 5"
   ]
  },
  {
   "cell_type": "markdown",
   "metadata": {
    "id": "gBgvmPtODWK2"
   },
   "source": [
    "Find the average number of user posts per day for August 2008. Select data on users who published more than 120 posts in August. Do not count the days with no posts. \n",
    "\n",
    "Sort the results in ascending order of the average number of posts. You don't need to round the values."
   ]
  },
  {
   "cell_type": "code",
   "execution_count": 9,
   "metadata": {
    "id": "YFyPNz5GDWK3"
   },
   "outputs": [
    {
     "data": {
      "text/html": [
       "<div>\n",
       "<style scoped>\n",
       "    .dataframe tbody tr th:only-of-type {\n",
       "        vertical-align: middle;\n",
       "    }\n",
       "\n",
       "    .dataframe tbody tr th {\n",
       "        vertical-align: top;\n",
       "    }\n",
       "\n",
       "    .dataframe thead th {\n",
       "        text-align: right;\n",
       "    }\n",
       "</style>\n",
       "<table border=\"1\" class=\"dataframe\">\n",
       "  <thead>\n",
       "    <tr style=\"text-align: right;\">\n",
       "      <th></th>\n",
       "      <th>user_id</th>\n",
       "      <th>avg_daily</th>\n",
       "    </tr>\n",
       "  </thead>\n",
       "  <tbody>\n",
       "    <tr>\n",
       "      <th>0</th>\n",
       "      <td>116</td>\n",
       "      <td>4.777778</td>\n",
       "    </tr>\n",
       "    <tr>\n",
       "      <th>1</th>\n",
       "      <td>234</td>\n",
       "      <td>5.208333</td>\n",
       "    </tr>\n",
       "    <tr>\n",
       "      <th>2</th>\n",
       "      <td>91</td>\n",
       "      <td>5.681818</td>\n",
       "    </tr>\n",
       "    <tr>\n",
       "      <th>3</th>\n",
       "      <td>905</td>\n",
       "      <td>7.000000</td>\n",
       "    </tr>\n",
       "    <tr>\n",
       "      <th>4</th>\n",
       "      <td>383</td>\n",
       "      <td>7.277778</td>\n",
       "    </tr>\n",
       "  </tbody>\n",
       "</table>\n",
       "</div>"
      ],
      "text/plain": [
       "   user_id  avg_daily\n",
       "0      116   4.777778\n",
       "1      234   5.208333\n",
       "2       91   5.681818\n",
       "3      905   7.000000\n",
       "4      383   7.277778"
      ]
     },
     "execution_count": 9,
     "metadata": {},
     "output_type": "execute_result"
    }
   ],
   "source": [
    "# sql query\n",
    "query = text('''\n",
    "WITH temp2 AS (\n",
    "    SELECT\n",
    "        COUNT(id) as post_count,\n",
    "        user_id\n",
    "    FROM stackoverflow.posts\n",
    "    WHERE creation_date::date BETWEEN '2008-08-01' AND '2008-08-31' AND user_id IN (SELECT user_id\n",
    "                        FROM stackoverflow.posts\n",
    "                        WHERE creation_date::date BETWEEN '2008-08-01' AND '2008-08-31'\n",
    "                        GROUP BY user_id\n",
    "                        HAVING(COUNT(id) > 120)) \n",
    "                        GROUP BY user_id, creation_date::date\n",
    ")\n",
    "SELECT user_id,\n",
    "    AVG(post_count) AS avg_daily\n",
    "FROM temp2\n",
    "GROUP BY user_id\n",
    "ORDER BY avg_daily\n",
    "''')\n",
    "\n",
    "# query output\n",
    "df5 = pd.read_sql_query(query, conn) \n",
    "df5"
   ]
  },
  {
   "cell_type": "markdown",
   "metadata": {
    "id": "EQ0dcFH4DWK5"
   },
   "source": [
    "# Task 6"
   ]
  },
  {
   "cell_type": "markdown",
   "metadata": {
    "id": "c7flfg_hDWK5"
   },
   "source": [
    "On average, how many days between December, 1 and December, 7 2008 did users interact with the platform? For each user, select the days on which he or she published at least one post. You need to get a single integer - don't forget to round the result. "
   ]
  },
  {
   "cell_type": "code",
   "execution_count": 10,
   "metadata": {
    "id": "kZ7LXTr6DWK6"
   },
   "outputs": [
    {
     "data": {
      "text/html": [
       "<div>\n",
       "<style scoped>\n",
       "    .dataframe tbody tr th:only-of-type {\n",
       "        vertical-align: middle;\n",
       "    }\n",
       "\n",
       "    .dataframe tbody tr th {\n",
       "        vertical-align: top;\n",
       "    }\n",
       "\n",
       "    .dataframe thead th {\n",
       "        text-align: right;\n",
       "    }\n",
       "</style>\n",
       "<table border=\"1\" class=\"dataframe\">\n",
       "  <thead>\n",
       "    <tr style=\"text-align: right;\">\n",
       "      <th></th>\n",
       "      <th>result</th>\n",
       "    </tr>\n",
       "  </thead>\n",
       "  <tbody>\n",
       "    <tr>\n",
       "      <th>0</th>\n",
       "      <td>2</td>\n",
       "    </tr>\n",
       "  </tbody>\n",
       "</table>\n",
       "</div>"
      ],
      "text/plain": [
       "   result\n",
       "0       2"
      ]
     },
     "execution_count": 10,
     "metadata": {},
     "output_type": "execute_result"
    }
   ],
   "source": [
    "# sql query\n",
    "query = text('''\n",
    "with temp1 AS (SELECT\n",
    "    user_id,\n",
    "    COUNT(DISTINCT(DATE_TRUNC('day', creation_date))) AS day_count\n",
    "FROM stackoverflow.posts\n",
    "WHERE (DATE_TRUNC('day', creation_date)) BETWEEN '2008-12-01' AND '2008-12-07'\n",
    "GROUP BY user_id\n",
    "HAVING(COUNT(id) >= 1))\n",
    "SELECT ROUND(AVG(day_count))::INT AS result\n",
    "FROM temp1\n",
    "''')\n",
    "\n",
    "# query output\n",
    "df6 = pd.read_sql_query(query, conn) \n",
    "df6"
   ]
  },
  {
   "cell_type": "markdown",
   "metadata": {
    "id": "LfUuYz-1DWK8"
   },
   "source": [
    "Without additional breakdowns by days/users, we can note that on average users visited the platform about twice a week in the period under consideration. Probably due to the fact that it's a community for communicating on development and IT related issues rather than a general purpose social network, users are not interested in logging in just for fun, so they log in less frequently. And we should also take into account that we have data for 2008, when the platform was just launched, and users probably haven't had time to \"get hooked\" to it yet. "
   ]
  },
  {
   "cell_type": "markdown",
   "metadata": {
    "id": "wfOmqmfLDWK8"
   },
   "source": [
    "# Task 7"
   ]
  },
  {
   "cell_type": "markdown",
   "metadata": {
    "id": "X4ARQimADWK9"
   },
   "source": [
    "Output the activity history of each user in the following form: user ID, post creation date. Sort the output in ascending order of user IDs, and for each user - in ascending order of publication date.\n",
    "\n",
    "Add a new field to the table: for each post it will contain the name of the month of the penultimate publication of the user relative to the current one. If there is no such publication, specify `NULL`.  Python will automatically change `NULL` to `None`, but you don't need to convert `None` values additionally."
   ]
  },
  {
   "cell_type": "code",
   "execution_count": 11,
   "metadata": {
    "id": "HzI1vhaMDWK-"
   },
   "outputs": [
    {
     "data": {
      "text/html": [
       "<div>\n",
       "<style scoped>\n",
       "    .dataframe tbody tr th:only-of-type {\n",
       "        vertical-align: middle;\n",
       "    }\n",
       "\n",
       "    .dataframe tbody tr th {\n",
       "        vertical-align: top;\n",
       "    }\n",
       "\n",
       "    .dataframe thead th {\n",
       "        text-align: right;\n",
       "    }\n",
       "</style>\n",
       "<table border=\"1\" class=\"dataframe\">\n",
       "  <thead>\n",
       "    <tr style=\"text-align: right;\">\n",
       "      <th></th>\n",
       "      <th>user_id</th>\n",
       "      <th>creation_date</th>\n",
       "      <th>second_last_month</th>\n",
       "    </tr>\n",
       "  </thead>\n",
       "  <tbody>\n",
       "    <tr>\n",
       "      <th>0</th>\n",
       "      <td>1</td>\n",
       "      <td>2008-07-31 23:41:00</td>\n",
       "      <td>None</td>\n",
       "    </tr>\n",
       "    <tr>\n",
       "      <th>1</th>\n",
       "      <td>1</td>\n",
       "      <td>2008-07-31 23:55:38</td>\n",
       "      <td>None</td>\n",
       "    </tr>\n",
       "    <tr>\n",
       "      <th>2</th>\n",
       "      <td>1</td>\n",
       "      <td>2008-07-31 23:56:41</td>\n",
       "      <td>July</td>\n",
       "    </tr>\n",
       "    <tr>\n",
       "      <th>3</th>\n",
       "      <td>1</td>\n",
       "      <td>2008-08-04 02:45:08</td>\n",
       "      <td>July</td>\n",
       "    </tr>\n",
       "    <tr>\n",
       "      <th>4</th>\n",
       "      <td>1</td>\n",
       "      <td>2008-08-04 04:31:03</td>\n",
       "      <td>July</td>\n",
       "    </tr>\n",
       "    <tr>\n",
       "      <th>...</th>\n",
       "      <td>...</td>\n",
       "      <td>...</td>\n",
       "      <td>...</td>\n",
       "    </tr>\n",
       "    <tr>\n",
       "      <th>243791</th>\n",
       "      <td>5696608</td>\n",
       "      <td>2008-12-23 16:00:37</td>\n",
       "      <td>December</td>\n",
       "    </tr>\n",
       "    <tr>\n",
       "      <th>243792</th>\n",
       "      <td>5696608</td>\n",
       "      <td>2008-12-23 17:35:09</td>\n",
       "      <td>December</td>\n",
       "    </tr>\n",
       "    <tr>\n",
       "      <th>243793</th>\n",
       "      <td>5696608</td>\n",
       "      <td>2008-12-24 01:02:48</td>\n",
       "      <td>December</td>\n",
       "    </tr>\n",
       "    <tr>\n",
       "      <th>243794</th>\n",
       "      <td>5696608</td>\n",
       "      <td>2008-12-30 14:34:45</td>\n",
       "      <td>December</td>\n",
       "    </tr>\n",
       "    <tr>\n",
       "      <th>243795</th>\n",
       "      <td>5696608</td>\n",
       "      <td>2008-12-30 16:32:12</td>\n",
       "      <td>December</td>\n",
       "    </tr>\n",
       "  </tbody>\n",
       "</table>\n",
       "<p>243796 rows × 3 columns</p>\n",
       "</div>"
      ],
      "text/plain": [
       "        user_id       creation_date second_last_month\n",
       "0             1 2008-07-31 23:41:00              None\n",
       "1             1 2008-07-31 23:55:38              None\n",
       "2             1 2008-07-31 23:56:41         July     \n",
       "3             1 2008-08-04 02:45:08         July     \n",
       "4             1 2008-08-04 04:31:03         July     \n",
       "...         ...                 ...               ...\n",
       "243791  5696608 2008-12-23 16:00:37         December \n",
       "243792  5696608 2008-12-23 17:35:09         December \n",
       "243793  5696608 2008-12-24 01:02:48         December \n",
       "243794  5696608 2008-12-30 14:34:45         December \n",
       "243795  5696608 2008-12-30 16:32:12         December \n",
       "\n",
       "[243796 rows x 3 columns]"
      ]
     },
     "execution_count": 11,
     "metadata": {},
     "output_type": "execute_result"
    }
   ],
   "source": [
    "# sql query\n",
    "query = text('''\n",
    "SELECT user_id, creation_date, \n",
    "       LAG(to_char(creation_date, 'Month'), 2) OVER (PARTITION BY user_id ORDER BY creation_date) AS second_last_month\n",
    "FROM stackoverflow.posts\n",
    "ORDER BY user_id, creation_date;\n",
    "''')\n",
    "\n",
    "# query output\n",
    "df7 = pd.read_sql_query(query, conn) \n",
    "df7"
   ]
  },
  {
   "cell_type": "markdown",
   "metadata": {
    "id": "tf9qq2yzDWK_"
   },
   "source": [
    "# Task 8"
   ]
  },
  {
   "cell_type": "markdown",
   "metadata": {
    "id": "gfwLVXBYDWLA"
   },
   "source": [
    "Calculate the monthly Retention Rate analog for StackOverflow users. Group the users into cohorts based on the month of their first post. Define retention by the presence of a post in the current month."
   ]
  },
  {
   "cell_type": "markdown",
   "metadata": {
    "id": "kN2ic39WlKpl"
   },
   "source": [
    "| cohort_dt | session_date | users_cnt | cohort_users_cnt | retention_rate |\n",
    "| --- | --- | --- | --- | --- |\n",
    "| 2008-07-01 00:00:00 | 2008-07-01 00:00:00 | 3 | 3 | 100 |\n",
    "| 2008-07-01 00:00:00 | 2008-08-01 00:00:00 | 2 | 3 | 66,67 |\n",
    "| 2008-07-01 00:00:00 | 2008-09-01 00:00:00 | 1 | 3 | 33,33 |\n",
    "| 2008-07-01 00:00:00 | 2008-10-01 00:00:00 | 2 | 3 | 66,67 |\n",
    "| 2008-07-01 00:00:00 | 2008-11-01 00:00:00 | 1 | 3 | 33,33 |\n",
    "| 2008-07-01 00:00:00 | 2008-12-01 00:00:00 | 2 | 3 | 66,67 |\n",
    "| 2008-08-01 00:00:00 | 2008-08-01 00:00:00 | 2151 | 2151 | 100 |\n",
    "| ... | ... | ... | ... | ... |"
   ]
  },
  {
   "cell_type": "code",
   "execution_count": 12,
   "metadata": {
    "id": "LUgFmwmTDWLB",
    "scrolled": true
   },
   "outputs": [
    {
     "data": {
      "text/html": [
       "<div>\n",
       "<style scoped>\n",
       "    .dataframe tbody tr th:only-of-type {\n",
       "        vertical-align: middle;\n",
       "    }\n",
       "\n",
       "    .dataframe tbody tr th {\n",
       "        vertical-align: top;\n",
       "    }\n",
       "\n",
       "    .dataframe thead th {\n",
       "        text-align: right;\n",
       "    }\n",
       "</style>\n",
       "<table border=\"1\" class=\"dataframe\">\n",
       "  <thead>\n",
       "    <tr style=\"text-align: right;\">\n",
       "      <th></th>\n",
       "      <th>cohort_dt</th>\n",
       "      <th>session_date</th>\n",
       "      <th>users_cnt</th>\n",
       "      <th>cohort_users_cnt</th>\n",
       "      <th>retention_rate</th>\n",
       "    </tr>\n",
       "  </thead>\n",
       "  <tbody>\n",
       "    <tr>\n",
       "      <th>0</th>\n",
       "      <td>2008-08-01</td>\n",
       "      <td>2008-09-01</td>\n",
       "      <td>1571</td>\n",
       "      <td>2151</td>\n",
       "      <td>73.04</td>\n",
       "    </tr>\n",
       "    <tr>\n",
       "      <th>1</th>\n",
       "      <td>2008-07-01</td>\n",
       "      <td>2008-07-01</td>\n",
       "      <td>3</td>\n",
       "      <td>3</td>\n",
       "      <td>100.00</td>\n",
       "    </tr>\n",
       "    <tr>\n",
       "      <th>2</th>\n",
       "      <td>2008-11-01</td>\n",
       "      <td>2008-11-01</td>\n",
       "      <td>2852</td>\n",
       "      <td>2852</td>\n",
       "      <td>100.00</td>\n",
       "    </tr>\n",
       "    <tr>\n",
       "      <th>3</th>\n",
       "      <td>2008-08-01</td>\n",
       "      <td>2008-12-01</td>\n",
       "      <td>894</td>\n",
       "      <td>2151</td>\n",
       "      <td>41.56</td>\n",
       "    </tr>\n",
       "    <tr>\n",
       "      <th>4</th>\n",
       "      <td>2008-09-01</td>\n",
       "      <td>2008-12-01</td>\n",
       "      <td>2500</td>\n",
       "      <td>7678</td>\n",
       "      <td>32.56</td>\n",
       "    </tr>\n",
       "    <tr>\n",
       "      <th>5</th>\n",
       "      <td>2008-07-01</td>\n",
       "      <td>2008-12-01</td>\n",
       "      <td>2</td>\n",
       "      <td>3</td>\n",
       "      <td>66.67</td>\n",
       "    </tr>\n",
       "    <tr>\n",
       "      <th>6</th>\n",
       "      <td>2008-07-01</td>\n",
       "      <td>2008-11-01</td>\n",
       "      <td>1</td>\n",
       "      <td>3</td>\n",
       "      <td>33.33</td>\n",
       "    </tr>\n",
       "    <tr>\n",
       "      <th>7</th>\n",
       "      <td>2008-09-01</td>\n",
       "      <td>2008-10-01</td>\n",
       "      <td>4132</td>\n",
       "      <td>7678</td>\n",
       "      <td>53.82</td>\n",
       "    </tr>\n",
       "    <tr>\n",
       "      <th>8</th>\n",
       "      <td>2008-09-01</td>\n",
       "      <td>2008-09-01</td>\n",
       "      <td>7678</td>\n",
       "      <td>7678</td>\n",
       "      <td>100.00</td>\n",
       "    </tr>\n",
       "    <tr>\n",
       "      <th>9</th>\n",
       "      <td>2008-07-01</td>\n",
       "      <td>2008-08-01</td>\n",
       "      <td>2</td>\n",
       "      <td>3</td>\n",
       "      <td>66.67</td>\n",
       "    </tr>\n",
       "    <tr>\n",
       "      <th>10</th>\n",
       "      <td>2008-08-01</td>\n",
       "      <td>2008-08-01</td>\n",
       "      <td>2151</td>\n",
       "      <td>2151</td>\n",
       "      <td>100.00</td>\n",
       "    </tr>\n",
       "    <tr>\n",
       "      <th>11</th>\n",
       "      <td>2008-10-01</td>\n",
       "      <td>2008-11-01</td>\n",
       "      <td>1640</td>\n",
       "      <td>3629</td>\n",
       "      <td>45.19</td>\n",
       "    </tr>\n",
       "    <tr>\n",
       "      <th>12</th>\n",
       "      <td>2008-11-01</td>\n",
       "      <td>2008-12-01</td>\n",
       "      <td>1151</td>\n",
       "      <td>2852</td>\n",
       "      <td>40.36</td>\n",
       "    </tr>\n",
       "    <tr>\n",
       "      <th>13</th>\n",
       "      <td>2008-12-01</td>\n",
       "      <td>2008-12-01</td>\n",
       "      <td>2536</td>\n",
       "      <td>2536</td>\n",
       "      <td>100.00</td>\n",
       "    </tr>\n",
       "    <tr>\n",
       "      <th>14</th>\n",
       "      <td>2008-09-01</td>\n",
       "      <td>2008-11-01</td>\n",
       "      <td>2966</td>\n",
       "      <td>7678</td>\n",
       "      <td>38.63</td>\n",
       "    </tr>\n",
       "    <tr>\n",
       "      <th>15</th>\n",
       "      <td>2008-07-01</td>\n",
       "      <td>2008-10-01</td>\n",
       "      <td>2</td>\n",
       "      <td>3</td>\n",
       "      <td>66.67</td>\n",
       "    </tr>\n",
       "    <tr>\n",
       "      <th>16</th>\n",
       "      <td>2008-08-01</td>\n",
       "      <td>2008-11-01</td>\n",
       "      <td>1050</td>\n",
       "      <td>2151</td>\n",
       "      <td>48.81</td>\n",
       "    </tr>\n",
       "    <tr>\n",
       "      <th>17</th>\n",
       "      <td>2008-08-01</td>\n",
       "      <td>2008-10-01</td>\n",
       "      <td>1275</td>\n",
       "      <td>2151</td>\n",
       "      <td>59.27</td>\n",
       "    </tr>\n",
       "    <tr>\n",
       "      <th>18</th>\n",
       "      <td>2008-07-01</td>\n",
       "      <td>2008-09-01</td>\n",
       "      <td>1</td>\n",
       "      <td>3</td>\n",
       "      <td>33.33</td>\n",
       "    </tr>\n",
       "    <tr>\n",
       "      <th>19</th>\n",
       "      <td>2008-10-01</td>\n",
       "      <td>2008-12-01</td>\n",
       "      <td>1221</td>\n",
       "      <td>3629</td>\n",
       "      <td>33.65</td>\n",
       "    </tr>\n",
       "    <tr>\n",
       "      <th>20</th>\n",
       "      <td>2008-10-01</td>\n",
       "      <td>2008-10-01</td>\n",
       "      <td>3629</td>\n",
       "      <td>3629</td>\n",
       "      <td>100.00</td>\n",
       "    </tr>\n",
       "  </tbody>\n",
       "</table>\n",
       "</div>"
      ],
      "text/plain": [
       "     cohort_dt session_date  users_cnt  cohort_users_cnt  retention_rate\n",
       "0   2008-08-01   2008-09-01       1571              2151           73.04\n",
       "1   2008-07-01   2008-07-01          3                 3          100.00\n",
       "2   2008-11-01   2008-11-01       2852              2852          100.00\n",
       "3   2008-08-01   2008-12-01        894              2151           41.56\n",
       "4   2008-09-01   2008-12-01       2500              7678           32.56\n",
       "5   2008-07-01   2008-12-01          2                 3           66.67\n",
       "6   2008-07-01   2008-11-01          1                 3           33.33\n",
       "7   2008-09-01   2008-10-01       4132              7678           53.82\n",
       "8   2008-09-01   2008-09-01       7678              7678          100.00\n",
       "9   2008-07-01   2008-08-01          2                 3           66.67\n",
       "10  2008-08-01   2008-08-01       2151              2151          100.00\n",
       "11  2008-10-01   2008-11-01       1640              3629           45.19\n",
       "12  2008-11-01   2008-12-01       1151              2852           40.36\n",
       "13  2008-12-01   2008-12-01       2536              2536          100.00\n",
       "14  2008-09-01   2008-11-01       2966              7678           38.63\n",
       "15  2008-07-01   2008-10-01          2                 3           66.67\n",
       "16  2008-08-01   2008-11-01       1050              2151           48.81\n",
       "17  2008-08-01   2008-10-01       1275              2151           59.27\n",
       "18  2008-07-01   2008-09-01          1                 3           33.33\n",
       "19  2008-10-01   2008-12-01       1221              3629           33.65\n",
       "20  2008-10-01   2008-10-01       3629              3629          100.00"
      ]
     },
     "execution_count": 12,
     "metadata": {},
     "output_type": "execute_result"
    }
   ],
   "source": [
    "# sql query\n",
    "query = text('''\n",
    "WITH profile AS (\n",
    "    SELECT \n",
    "        u.id,\n",
    "        MIN(DATE_TRUNC('month', (p.creation_date)))::date AS cohort_dt,\n",
    "        COUNT(u.id) OVER(PARTITION BY DATE_TRUNC('month', min(p.creation_date))::date) AS cohort_users_cnt\n",
    "    FROM stackoverflow.users u join stackoverflow.posts p on u.id = p.user_id\n",
    "    GROUP BY u.id\n",
    "),\n",
    "sessions AS (\n",
    "    SELECT \n",
    "        p.user_id,\n",
    "        DATE_TRUNC('month', p.creation_date)::date AS session_date\n",
    "    FROM stackoverflow.posts p\n",
    "    GROUP BY p.user_id, session_date\n",
    ")\n",
    "SELECT\n",
    "    cohort_dt,\n",
    "    session_date,\n",
    "    COUNT(p.id) AS users_cnt,\n",
    "    cohort_users_cnt,\n",
    "    ROUND(COUNT(p.id) * 100.0 / cohort_users_cnt, 2) AS retention_rate\n",
    "FROM profile p JOIN sessions s ON p.id = s.user_id\n",
    "    GROUP BY p.cohort_dt, s.session_date, p.cohort_users_cnt\n",
    "''')\n",
    "\n",
    "# query output\n",
    "df8 = pd.read_sql_query(query, conn) \n",
    "df8"
   ]
  },
  {
   "cell_type": "code",
   "execution_count": 13,
   "metadata": {
    "id": "qAEJc8H1DWLC"
   },
   "outputs": [
    {
     "data": {
      "image/png": "[encoded data removed]",
      "text/plain": [
       "<Figure size 720x576 with 2 Axes>"
      ]
     },
     "metadata": {
      "needs_background": "light"
     },
     "output_type": "display_data"
    }
   ],
   "source": [
    "# Retention Rate heatmap\n",
    "retention_matrix = df8.pivot(index='cohort_dt', columns='session_date', values='retention_rate')  \n",
    "plt.figure(figsize=(10, 8))  \n",
    "sns.heatmap(retention_matrix, annot=True, cmap='YlGnBu', fmt='')\n",
    "plt.title('Retention Rate Heatmap')\n",
    "plt.xlabel('Session Date')\n",
    "plt.ylabel('Cohort Date')\n",
    "plt.show()"
   ]
  },
  {
   "cell_type": "markdown",
   "metadata": {
    "id": "EgOfIsI4DWLC"
   },
   "source": [
    "On the heatmap, the July cohort stands out because it behaves strangely – retention fluctuates between two values. However, according to the table, the size of this cohort is three people, which explains this behavior. In the other cohorts presented, retention predictably decreases gradually."
   ]
  },
  {
   "cell_type": "markdown",
   "metadata": {
    "id": "1k7oPWt5DWLK"
   },
   "source": [
    "# Task 9"
   ]
  },
  {
   "cell_type": "markdown",
   "metadata": {
    "id": "ALsYVSyRDWLM"
   },
   "source": [
    "By how much percent did the number of posts change each month from 1 September to 31 December 2008? Display a table with the following fields:\n",
    "\n",
    "- month number;\n",
    "- the number of posts for the month;\n",
    "- a percentage that shows how much the number of posts in the current month has changed from the previous month.\n",
    "\n",
    "If there are fewer posts, the percentage should be negative; if there are more posts, the percentage should be positive. Round the percentage value to two decimals."
   ]
  },
  {
   "cell_type": "code",
   "execution_count": 14,
   "metadata": {
    "id": "Mb5pShStDWLN"
   },
   "outputs": [
    {
     "data": {
      "text/html": [
       "<div>\n",
       "<style scoped>\n",
       "    .dataframe tbody tr th:only-of-type {\n",
       "        vertical-align: middle;\n",
       "    }\n",
       "\n",
       "    .dataframe tbody tr th {\n",
       "        vertical-align: top;\n",
       "    }\n",
       "\n",
       "    .dataframe thead th {\n",
       "        text-align: right;\n",
       "    }\n",
       "</style>\n",
       "<table border=\"1\" class=\"dataframe\">\n",
       "  <thead>\n",
       "    <tr style=\"text-align: right;\">\n",
       "      <th></th>\n",
       "      <th>creation_month</th>\n",
       "      <th>posts_count</th>\n",
       "      <th>percentage</th>\n",
       "    </tr>\n",
       "  </thead>\n",
       "  <tbody>\n",
       "    <tr>\n",
       "      <th>0</th>\n",
       "      <td>9</td>\n",
       "      <td>70371</td>\n",
       "      <td>NaN</td>\n",
       "    </tr>\n",
       "    <tr>\n",
       "      <th>1</th>\n",
       "      <td>10</td>\n",
       "      <td>63102</td>\n",
       "      <td>-10.33</td>\n",
       "    </tr>\n",
       "    <tr>\n",
       "      <th>2</th>\n",
       "      <td>11</td>\n",
       "      <td>46975</td>\n",
       "      <td>-25.56</td>\n",
       "    </tr>\n",
       "    <tr>\n",
       "      <th>3</th>\n",
       "      <td>12</td>\n",
       "      <td>44592</td>\n",
       "      <td>-5.07</td>\n",
       "    </tr>\n",
       "  </tbody>\n",
       "</table>\n",
       "</div>"
      ],
      "text/plain": [
       "   creation_month  posts_count  percentage\n",
       "0               9        70371         NaN\n",
       "1              10        63102      -10.33\n",
       "2              11        46975      -25.56\n",
       "3              12        44592       -5.07"
      ]
     },
     "execution_count": 14,
     "metadata": {},
     "output_type": "execute_result"
    }
   ],
   "source": [
    "# sql query\n",
    "query = text('''\n",
    "SELECT\n",
    "    (EXTRACT(MONTH FROM creation_date))::int AS creation_month,\n",
    "    COUNT(*) AS posts_count,\n",
    "    ROUND((COUNT(*) - LAG(COUNT(*)) OVER (ORDER BY EXTRACT(MONTH FROM creation_date)))::numeric / LAG(COUNT(*)) OVER (ORDER BY EXTRACT(MONTH FROM creation_date)) * 100, 2) AS percentage\n",
    "FROM\n",
    "    stackoverflow.posts\n",
    "WHERE\n",
    "    creation_date >= '2008-09-01' AND creation_date <= '2008-12-31'\n",
    "GROUP BY\n",
    "    EXTRACT(MONTH FROM creation_date)\n",
    "ORDER BY\n",
    "    EXTRACT(MONTH FROM creation_date);\n",
    "''')\n",
    "\n",
    "# query output\n",
    "df9 = pd.read_sql_query(query, conn) \n",
    "df9"
   ]
  },
  {
   "cell_type": "code",
   "execution_count": 15,
   "metadata": {
    "id": "377ABjiVDWLP"
   },
   "outputs": [
    {
     "data": {
      "image/png": "[encoded data removed]",
      "text/plain": [
       "<Figure size 576x432 with 1 Axes>"
      ]
     },
     "metadata": {},
     "output_type": "display_data"
    }
   ],
   "source": [
    "# Pie chart with month shares\n",
    "months = ['September', 'October', 'November', 'December']\n",
    "post_counts = df9['posts_count']\n",
    "\n",
    "plt.figure(figsize=(8, 6))  \n",
    "plt.pie(post_counts, labels=months, autopct='%1.1f%%', startangle=90)\n",
    "\n",
    "plt.title('Share of posts by months') \n",
    "plt.axis('equal')\n",
    "plt.show()"
   ]
  },
  {
   "cell_type": "markdown",
   "metadata": {
    "id": "uw7qMtafDWLP"
   },
   "source": [
    "# Task 10"
   ]
  },
  {
   "cell_type": "markdown",
   "metadata": {
    "id": "oRBpWKx3DWLQ"
   },
   "source": [
    "Display the activity data of the user who has published the most posts over time. Output the data for October 2008 in this form:\n",
    "\n",
    "- week number;\n",
    "- date and time of the last post published this week."
   ]
  },
  {
   "cell_type": "code",
   "execution_count": 16,
   "metadata": {
    "id": "r5F5fSkwDWLQ"
   },
   "outputs": [
    {
     "data": {
      "text/html": [
       "<div>\n",
       "<style scoped>\n",
       "    .dataframe tbody tr th:only-of-type {\n",
       "        vertical-align: middle;\n",
       "    }\n",
       "\n",
       "    .dataframe tbody tr th {\n",
       "        vertical-align: top;\n",
       "    }\n",
       "\n",
       "    .dataframe thead th {\n",
       "        text-align: right;\n",
       "    }\n",
       "</style>\n",
       "<table border=\"1\" class=\"dataframe\">\n",
       "  <thead>\n",
       "    <tr style=\"text-align: right;\">\n",
       "      <th></th>\n",
       "      <th>week_creation</th>\n",
       "      <th>creation_date</th>\n",
       "    </tr>\n",
       "  </thead>\n",
       "  <tbody>\n",
       "    <tr>\n",
       "      <th>0</th>\n",
       "      <td>40</td>\n",
       "      <td>2008-10-05 09:00:58</td>\n",
       "    </tr>\n",
       "    <tr>\n",
       "      <th>1</th>\n",
       "      <td>41</td>\n",
       "      <td>2008-10-12 21:22:23</td>\n",
       "    </tr>\n",
       "    <tr>\n",
       "      <th>2</th>\n",
       "      <td>42</td>\n",
       "      <td>2008-10-19 06:49:30</td>\n",
       "    </tr>\n",
       "    <tr>\n",
       "      <th>3</th>\n",
       "      <td>43</td>\n",
       "      <td>2008-10-26 21:44:36</td>\n",
       "    </tr>\n",
       "    <tr>\n",
       "      <th>4</th>\n",
       "      <td>44</td>\n",
       "      <td>2008-10-31 22:16:01</td>\n",
       "    </tr>\n",
       "  </tbody>\n",
       "</table>\n",
       "</div>"
      ],
      "text/plain": [
       "   week_creation       creation_date\n",
       "0             40 2008-10-05 09:00:58\n",
       "1             41 2008-10-12 21:22:23\n",
       "2             42 2008-10-19 06:49:30\n",
       "3             43 2008-10-26 21:44:36\n",
       "4             44 2008-10-31 22:16:01"
      ]
     },
     "execution_count": 16,
     "metadata": {},
     "output_type": "execute_result"
    }
   ],
   "source": [
    "# sql query\n",
    "query = text('''\n",
    "SELECT\n",
    "    EXTRACT(WEEK FROM DATE_TRUNC('week', creation_date))::int AS week_creation,\n",
    "    MAX(creation_date) AS creation_date\n",
    "FROM\n",
    "    stackoverflow.posts\n",
    "WHERE\n",
    "    EXTRACT(YEAR FROM creation_date) = 2008\n",
    "    AND EXTRACT(MONTH FROM creation_date) = 10\n",
    "    AND user_id = (\n",
    "        SELECT\n",
    "            user_id\n",
    "        FROM\n",
    "            stackoverflow.posts\n",
    "        GROUP BY\n",
    "            user_id\n",
    "        ORDER BY\n",
    "            COUNT(*) DESC\n",
    "        LIMIT 1\n",
    "    )\n",
    "GROUP BY\n",
    "    week_creation\n",
    "ORDER BY\n",
    "    week_creation;\n",
    "''')\n",
    "\n",
    "# query output\n",
    "df10 = pd.read_sql_query(query, conn) \n",
    "df10"
   ]
  },
  {
   "cell_type": "code",
   "execution_count": null,
   "metadata": {},
   "outputs": [],
   "source": []
  }
 ],
 "metadata": {
  "ExecuteTimeLog": [
   {
    "duration": 8,
    "start_time": "2023-06-15T20:04:15.043Z"
   },
   {
    "duration": 945,
    "start_time": "2023-06-15T20:04:25.071Z"
   },
   {
    "duration": 4,
    "start_time": "2023-06-15T20:04:26.019Z"
   },
   {
    "duration": 9083,
    "start_time": "2023-06-15T20:04:26.025Z"
   },
   {
    "duration": 224,
    "start_time": "2023-06-15T20:04:35.110Z"
   },
   {
    "duration": 16,
    "start_time": "2023-06-15T20:04:35.337Z"
   },
   {
    "duration": 5,
    "start_time": "2023-06-15T20:04:35.355Z"
   },
   {
    "duration": 19,
    "start_time": "2023-06-15T20:04:35.362Z"
   },
   {
    "duration": 35,
    "start_time": "2023-06-15T20:04:35.383Z"
   },
   {
    "duration": 16,
    "start_time": "2023-06-15T20:04:35.420Z"
   },
   {
    "duration": 18,
    "start_time": "2023-06-15T20:04:35.438Z"
   },
   {
    "duration": 8,
    "start_time": "2023-06-15T20:04:35.458Z"
   },
   {
    "duration": 18,
    "start_time": "2023-06-15T20:04:35.468Z"
   },
   {
    "duration": 7,
    "start_time": "2023-06-15T20:04:35.487Z"
   },
   {
    "duration": 10,
    "start_time": "2023-06-15T20:04:35.496Z"
   },
   {
    "duration": 11,
    "start_time": "2023-06-15T20:04:35.507Z"
   },
   {
    "duration": 12,
    "start_time": "2023-06-15T20:04:35.520Z"
   },
   {
    "duration": 9,
    "start_time": "2023-06-15T20:04:35.534Z"
   },
   {
    "duration": 12,
    "start_time": "2023-06-15T20:04:35.544Z"
   },
   {
    "duration": 7,
    "start_time": "2023-06-15T20:04:35.557Z"
   },
   {
    "duration": 11,
    "start_time": "2023-06-15T20:04:35.565Z"
   },
   {
    "duration": 11,
    "start_time": "2023-06-15T20:04:35.578Z"
   },
   {
    "duration": 7,
    "start_time": "2023-06-15T20:04:35.591Z"
   },
   {
    "duration": 195,
    "start_time": "2023-06-15T20:05:24.607Z"
   },
   {
    "duration": 186,
    "start_time": "2023-06-15T20:07:28.452Z"
   },
   {
    "duration": 113,
    "start_time": "2023-06-15T20:08:50.142Z"
   },
   {
    "duration": 115,
    "start_time": "2023-06-15T20:08:56.094Z"
   },
   {
    "duration": 103,
    "start_time": "2023-06-15T20:09:40.702Z"
   },
   {
    "duration": 100,
    "start_time": "2023-06-15T20:09:54.107Z"
   },
   {
    "duration": 98,
    "start_time": "2023-06-15T20:10:08.118Z"
   },
   {
    "duration": 101,
    "start_time": "2023-06-15T20:10:23.619Z"
   },
   {
    "duration": 98,
    "start_time": "2023-06-15T20:10:48.106Z"
   },
   {
    "duration": 99,
    "start_time": "2023-06-15T20:11:16.394Z"
   },
   {
    "duration": 161,
    "start_time": "2023-06-15T20:17:00.226Z"
   },
   {
    "duration": 149,
    "start_time": "2023-06-15T20:20:45.738Z"
   },
   {
    "duration": 56,
    "start_time": "2023-06-15T20:20:57.035Z"
   },
   {
    "duration": 57,
    "start_time": "2023-06-15T20:21:19.436Z"
   },
   {
    "duration": 57,
    "start_time": "2023-06-15T20:24:48.714Z"
   },
   {
    "duration": 73,
    "start_time": "2023-06-15T20:26:13.698Z"
   },
   {
    "duration": 842,
    "start_time": "2023-06-15T20:28:20.334Z"
   },
   {
    "duration": 5,
    "start_time": "2023-06-15T20:28:21.179Z"
   },
   {
    "duration": 8084,
    "start_time": "2023-06-15T20:28:21.186Z"
   },
   {
    "duration": 210,
    "start_time": "2023-06-15T20:28:29.272Z"
   },
   {
    "duration": 17,
    "start_time": "2023-06-15T20:28:29.484Z"
   },
   {
    "duration": 96,
    "start_time": "2023-06-15T20:28:29.503Z"
   },
   {
    "duration": 250,
    "start_time": "2023-06-15T20:28:29.601Z"
   },
   {
    "duration": 2,
    "start_time": "2023-06-15T20:28:29.853Z"
   },
   {
    "duration": 13,
    "start_time": "2023-06-15T20:28:29.857Z"
   },
   {
    "duration": 8,
    "start_time": "2023-06-15T20:28:29.871Z"
   },
   {
    "duration": 16,
    "start_time": "2023-06-15T20:28:29.881Z"
   },
   {
    "duration": 17,
    "start_time": "2023-06-15T20:28:29.899Z"
   },
   {
    "duration": 15,
    "start_time": "2023-06-15T20:28:29.918Z"
   },
   {
    "duration": 8,
    "start_time": "2023-06-15T20:28:29.937Z"
   },
   {
    "duration": 10,
    "start_time": "2023-06-15T20:28:29.948Z"
   },
   {
    "duration": 22,
    "start_time": "2023-06-15T20:28:29.960Z"
   },
   {
    "duration": 8,
    "start_time": "2023-06-15T20:28:29.984Z"
   },
   {
    "duration": 18,
    "start_time": "2023-06-15T20:28:29.994Z"
   },
   {
    "duration": 35,
    "start_time": "2023-06-15T20:28:30.014Z"
   },
   {
    "duration": 38,
    "start_time": "2023-06-15T20:28:30.052Z"
   },
   {
    "duration": 22,
    "start_time": "2023-06-15T20:28:30.092Z"
   },
   {
    "duration": 8,
    "start_time": "2023-06-15T20:28:30.116Z"
   },
   {
    "duration": 4,
    "start_time": "2023-06-15T20:29:30.514Z"
   },
   {
    "duration": 65,
    "start_time": "2023-06-15T20:29:42.404Z"
   },
   {
    "duration": 68,
    "start_time": "2023-06-15T20:33:26.814Z"
   },
   {
    "duration": 3,
    "start_time": "2023-06-15T20:36:27.110Z"
   },
   {
    "duration": 4,
    "start_time": "2023-06-15T20:37:26.240Z"
   },
   {
    "duration": 2,
    "start_time": "2023-06-15T20:40:49.671Z"
   },
   {
    "duration": 123,
    "start_time": "2023-06-15T21:08:07.742Z"
   },
   {
    "duration": 271,
    "start_time": "2023-06-15T21:08:30.646Z"
   },
   {
    "duration": 1106,
    "start_time": "2023-06-15T21:10:08.354Z"
   },
   {
    "duration": 155,
    "start_time": "2023-06-15T21:10:44.146Z"
   },
   {
    "duration": 170,
    "start_time": "2023-06-15T21:11:08.867Z"
   },
   {
    "duration": 161,
    "start_time": "2023-06-15T21:13:48.606Z"
   },
   {
    "duration": 159,
    "start_time": "2023-06-15T21:14:29.898Z"
   },
   {
    "duration": 238,
    "start_time": "2023-06-15T21:15:55.164Z"
   },
   {
    "duration": 200,
    "start_time": "2023-06-15T21:16:38.310Z"
   },
   {
    "duration": 219,
    "start_time": "2023-06-15T21:16:59.543Z"
   },
   {
    "duration": 213,
    "start_time": "2023-06-15T21:19:16.068Z"
   },
   {
    "duration": 210,
    "start_time": "2023-06-15T21:19:35.307Z"
   },
   {
    "duration": 161,
    "start_time": "2023-06-15T21:20:14.410Z"
   },
   {
    "duration": 158,
    "start_time": "2023-06-15T21:21:41.244Z"
   },
   {
    "duration": 234,
    "start_time": "2023-06-15T21:22:48.931Z"
   },
   {
    "duration": 160,
    "start_time": "2023-06-15T21:22:57.395Z"
   },
   {
    "duration": 12,
    "start_time": "2023-06-15T21:23:36.838Z"
   },
   {
    "duration": 11,
    "start_time": "2023-06-15T21:23:46.110Z"
   },
   {
    "duration": 3,
    "start_time": "2023-06-15T21:53:05.381Z"
   },
   {
    "duration": 150,
    "start_time": "2023-06-15T21:53:44.527Z"
   },
   {
    "duration": 490,
    "start_time": "2023-06-15T21:55:03.055Z"
   },
   {
    "duration": 136,
    "start_time": "2023-06-15T21:55:15.623Z"
   },
   {
    "duration": 145,
    "start_time": "2023-06-15T21:55:32.755Z"
   },
   {
    "duration": 939,
    "start_time": "2023-06-16T09:26:09.851Z"
   },
   {
    "duration": 8,
    "start_time": "2023-06-16T09:26:10.792Z"
   },
   {
    "duration": 12659,
    "start_time": "2023-06-16T09:26:10.802Z"
   },
   {
    "duration": 247,
    "start_time": "2023-06-16T09:26:23.462Z"
   },
   {
    "duration": 13,
    "start_time": "2023-06-16T09:26:23.711Z"
   },
   {
    "duration": 288,
    "start_time": "2023-06-16T09:26:23.725Z"
   },
   {
    "duration": 2,
    "start_time": "2023-06-16T09:26:24.015Z"
   },
   {
    "duration": 176,
    "start_time": "2023-06-16T09:26:24.019Z"
   },
   {
    "duration": 7,
    "start_time": "2023-06-16T09:26:24.197Z"
   },
   {
    "duration": 155,
    "start_time": "2023-06-16T09:26:24.206Z"
   },
   {
    "duration": 2,
    "start_time": "2023-06-16T09:26:24.363Z"
   },
   {
    "duration": 30,
    "start_time": "2023-06-16T09:26:24.367Z"
   },
   {
    "duration": 23,
    "start_time": "2023-06-16T09:26:24.398Z"
   },
   {
    "duration": 13,
    "start_time": "2023-06-16T09:26:24.424Z"
   },
   {
    "duration": 42,
    "start_time": "2023-06-16T09:26:24.438Z"
   },
   {
    "duration": 9,
    "start_time": "2023-06-16T09:26:24.482Z"
   },
   {
    "duration": 33,
    "start_time": "2023-06-16T09:26:24.492Z"
   },
   {
    "duration": 13,
    "start_time": "2023-06-16T09:26:24.527Z"
   },
   {
    "duration": 25,
    "start_time": "2023-06-16T09:26:24.541Z"
   },
   {
    "duration": 33,
    "start_time": "2023-06-16T09:26:24.568Z"
   },
   {
    "duration": 13,
    "start_time": "2023-06-16T09:26:24.603Z"
   },
   {
    "duration": 316,
    "start_time": "2023-06-16T09:32:33.496Z"
   },
   {
    "duration": 1078,
    "start_time": "2023-06-16T09:32:41.792Z"
   },
   {
    "duration": 1092,
    "start_time": "2023-06-16T09:33:29.902Z"
   },
   {
    "duration": 593,
    "start_time": "2023-06-16T10:21:39.630Z"
   },
   {
    "duration": 218,
    "start_time": "2023-06-16T10:21:54.975Z"
   },
   {
    "duration": 1138,
    "start_time": "2023-06-16T10:22:04.865Z"
   },
   {
    "duration": 1080,
    "start_time": "2023-06-16T10:24:22.223Z"
   },
   {
    "duration": 1129,
    "start_time": "2023-06-16T10:24:48.309Z"
   },
   {
    "duration": 1152,
    "start_time": "2023-06-16T10:24:58.126Z"
   },
   {
    "duration": 159,
    "start_time": "2023-06-16T10:25:08.967Z"
   },
   {
    "duration": 1069,
    "start_time": "2023-06-16T10:25:13.117Z"
   },
   {
    "duration": 1120,
    "start_time": "2023-06-16T10:25:21.613Z"
   },
   {
    "duration": 1150,
    "start_time": "2023-06-16T10:25:56.493Z"
   },
   {
    "duration": 1058,
    "start_time": "2023-06-16T10:28:24.670Z"
   },
   {
    "duration": 1107,
    "start_time": "2023-06-16T10:28:33.721Z"
   },
   {
    "duration": 1115,
    "start_time": "2023-06-16T10:28:37.721Z"
   },
   {
    "duration": 1117,
    "start_time": "2023-06-16T10:28:49.423Z"
   },
   {
    "duration": 1084,
    "start_time": "2023-06-16T10:29:08.550Z"
   },
   {
    "duration": 1061,
    "start_time": "2023-06-16T10:29:34.575Z"
   },
   {
    "duration": 61,
    "start_time": "2023-06-16T10:43:28.603Z"
   },
   {
    "duration": 116,
    "start_time": "2023-06-16T10:57:18.159Z"
   },
   {
    "duration": 138,
    "start_time": "2023-06-16T10:58:47.314Z"
   },
   {
    "duration": 120,
    "start_time": "2023-06-16T10:59:00.047Z"
   },
   {
    "duration": 170,
    "start_time": "2023-06-16T10:59:54.347Z"
   },
   {
    "duration": 452,
    "start_time": "2023-06-16T11:00:03.803Z"
   },
   {
    "duration": 94,
    "start_time": "2023-06-16T11:00:22.415Z"
   },
   {
    "duration": 83,
    "start_time": "2023-06-16T11:02:28.956Z"
   },
   {
    "duration": 192,
    "start_time": "2023-06-16T11:02:54.957Z"
   },
   {
    "duration": 137,
    "start_time": "2023-06-16T11:03:27.207Z"
   },
   {
    "duration": 83,
    "start_time": "2023-06-16T11:03:53.515Z"
   },
   {
    "duration": 114,
    "start_time": "2023-06-16T11:04:14.872Z"
   },
   {
    "duration": 81,
    "start_time": "2023-06-16T11:04:18.819Z"
   },
   {
    "duration": 80,
    "start_time": "2023-06-16T11:06:02.827Z"
   },
   {
    "duration": 83,
    "start_time": "2023-06-16T11:06:34.369Z"
   },
   {
    "duration": 82,
    "start_time": "2023-06-16T11:07:11.934Z"
   },
   {
    "duration": 85,
    "start_time": "2023-06-16T11:07:31.332Z"
   },
   {
    "duration": 82,
    "start_time": "2023-06-16T11:08:10.440Z"
   },
   {
    "duration": 132,
    "start_time": "2023-06-16T11:35:31.247Z"
   },
   {
    "duration": 62,
    "start_time": "2023-06-16T11:38:56.455Z"
   },
   {
    "duration": 66,
    "start_time": "2023-06-16T11:39:34.316Z"
   },
   {
    "duration": 62,
    "start_time": "2023-06-16T11:40:53.836Z"
   },
   {
    "duration": 59,
    "start_time": "2023-06-16T11:41:07.831Z"
   },
   {
    "duration": 62,
    "start_time": "2023-06-16T11:46:31.050Z"
   },
   {
    "duration": 84,
    "start_time": "2023-06-16T11:47:26.691Z"
   },
   {
    "duration": 69,
    "start_time": "2023-06-16T11:48:08.960Z"
   },
   {
    "duration": 3,
    "start_time": "2023-06-16T12:06:25.227Z"
   },
   {
    "duration": 1090,
    "start_time": "2023-06-16T12:06:36.492Z"
   },
   {
    "duration": 1026,
    "start_time": "2023-06-16T12:08:23.638Z"
   },
   {
    "duration": 230,
    "start_time": "2023-06-16T14:43:48.845Z"
   },
   {
    "duration": 232,
    "start_time": "2023-06-16T14:45:08.058Z"
   },
   {
    "duration": 431,
    "start_time": "2023-06-16T14:47:47.410Z"
   },
   {
    "duration": 219,
    "start_time": "2023-06-16T14:48:10.875Z"
   },
   {
    "duration": 218,
    "start_time": "2023-06-16T14:48:52.466Z"
   },
   {
    "duration": 234,
    "start_time": "2023-06-16T14:49:14.642Z"
   },
   {
    "duration": 217,
    "start_time": "2023-06-16T14:50:45.168Z"
   },
   {
    "duration": 216,
    "start_time": "2023-06-16T14:51:08.562Z"
   },
   {
    "duration": 285,
    "start_time": "2023-06-16T14:51:16.248Z"
   },
   {
    "duration": 275,
    "start_time": "2023-06-16T14:51:23.484Z"
   },
   {
    "duration": 294,
    "start_time": "2023-06-16T14:54:00.187Z"
   },
   {
    "duration": 169,
    "start_time": "2023-06-16T14:55:45.054Z"
   },
   {
    "duration": 401,
    "start_time": "2023-06-16T14:56:00.614Z"
   },
   {
    "duration": 374,
    "start_time": "2023-06-16T14:58:29.467Z"
   },
   {
    "duration": 392,
    "start_time": "2023-06-16T14:58:52.396Z"
   },
   {
    "duration": 6,
    "start_time": "2023-06-16T15:04:32.993Z"
   },
   {
    "duration": 27,
    "start_time": "2023-06-16T15:04:55.526Z"
   },
   {
    "duration": 535,
    "start_time": "2023-06-16T15:05:11.691Z"
   },
   {
    "duration": 420,
    "start_time": "2023-06-16T15:05:27.534Z"
   },
   {
    "duration": 58,
    "start_time": "2023-06-16T15:06:15.967Z"
   },
   {
    "duration": 7,
    "start_time": "2023-06-16T15:06:20.772Z"
   },
   {
    "duration": 340,
    "start_time": "2023-06-16T15:06:36.219Z"
   },
   {
    "duration": 377,
    "start_time": "2023-06-16T15:07:28.490Z"
   },
   {
    "duration": 338,
    "start_time": "2023-06-16T15:07:34.041Z"
   },
   {
    "duration": 446,
    "start_time": "2023-06-16T15:07:51.423Z"
   },
   {
    "duration": 391,
    "start_time": "2023-06-16T15:08:25.844Z"
   },
   {
    "duration": 410,
    "start_time": "2023-06-16T15:08:35.392Z"
   },
   {
    "duration": 373,
    "start_time": "2023-06-16T15:08:41.766Z"
   },
   {
    "duration": 132,
    "start_time": "2023-06-16T15:27:24.024Z"
   },
   {
    "duration": 138,
    "start_time": "2023-06-16T15:28:30.077Z"
   },
   {
    "duration": 14,
    "start_time": "2023-06-16T15:30:49.708Z"
   },
   {
    "duration": 15,
    "start_time": "2023-06-16T15:31:12.629Z"
   },
   {
    "duration": 187,
    "start_time": "2023-06-16T15:31:29.960Z"
   },
   {
    "duration": 120,
    "start_time": "2023-06-16T15:34:10.452Z"
   },
   {
    "duration": 88,
    "start_time": "2023-06-16T15:35:04.463Z"
   },
   {
    "duration": 93,
    "start_time": "2023-06-16T15:35:11.730Z"
   },
   {
    "duration": 113,
    "start_time": "2023-06-16T15:37:04.094Z"
   },
   {
    "duration": 133,
    "start_time": "2023-06-16T15:37:18.346Z"
   },
   {
    "duration": 122,
    "start_time": "2023-06-16T15:38:03.501Z"
   },
   {
    "duration": 132,
    "start_time": "2023-06-16T15:42:30.354Z"
   },
   {
    "duration": 114,
    "start_time": "2023-06-16T15:42:40.632Z"
   },
   {
    "duration": 113,
    "start_time": "2023-06-16T15:43:15.248Z"
   },
   {
    "duration": 1418,
    "start_time": "2023-06-16T16:38:30.583Z"
   },
   {
    "duration": 3,
    "start_time": "2023-06-16T16:38:32.003Z"
   },
   {
    "duration": 13198,
    "start_time": "2023-06-16T16:38:32.007Z"
   },
   {
    "duration": 48,
    "start_time": "2023-06-16T16:38:45.208Z"
   },
   {
    "duration": 21,
    "start_time": "2023-06-16T16:38:45.257Z"
   },
   {
    "duration": 72,
    "start_time": "2023-06-16T16:38:45.281Z"
   },
   {
    "duration": 136,
    "start_time": "2023-06-16T16:38:45.356Z"
   },
   {
    "duration": 12,
    "start_time": "2023-06-16T16:38:45.494Z"
   },
   {
    "duration": 118,
    "start_time": "2023-06-16T16:38:45.507Z"
   },
   {
    "duration": 1360,
    "start_time": "2023-06-16T16:38:45.628Z"
   },
   {
    "duration": 55,
    "start_time": "2023-06-16T16:38:46.989Z"
   },
   {
    "duration": 45,
    "start_time": "2023-06-16T16:38:47.046Z"
   },
   {
    "duration": 1191,
    "start_time": "2023-06-16T16:38:47.093Z"
   },
   {
    "duration": 341,
    "start_time": "2023-06-16T16:38:48.288Z"
   },
   {
    "duration": 486,
    "start_time": "2023-06-16T16:38:48.633Z"
   },
   {
    "duration": 106,
    "start_time": "2023-06-16T16:38:49.120Z"
   },
   {
    "duration": 113,
    "start_time": "2023-06-16T16:38:49.228Z"
   },
   {
    "duration": 264,
    "start_time": "2023-06-16T16:38:49.343Z"
   },
   {
    "duration": 36,
    "start_time": "2023-06-16T16:43:29.222Z"
   },
   {
    "duration": 38,
    "start_time": "2023-06-16T16:43:35.280Z"
   },
   {
    "duration": 83,
    "start_time": "2023-06-16T16:47:35.138Z"
   },
   {
    "duration": 86,
    "start_time": "2023-06-16T16:47:39.587Z"
   },
   {
    "duration": 85,
    "start_time": "2023-06-16T16:47:40.303Z"
   },
   {
    "duration": 90,
    "start_time": "2023-06-16T16:47:40.919Z"
   },
   {
    "duration": 86,
    "start_time": "2023-06-16T16:47:41.544Z"
   },
   {
    "duration": 86,
    "start_time": "2023-06-16T16:47:42.104Z"
   },
   {
    "duration": 88,
    "start_time": "2023-06-16T16:47:42.681Z"
   },
   {
    "duration": 1242,
    "start_time": "2023-06-16T16:48:57.871Z"
   },
   {
    "duration": 4,
    "start_time": "2023-06-16T16:48:59.114Z"
   },
   {
    "duration": 12443,
    "start_time": "2023-06-16T16:48:59.119Z"
   },
   {
    "duration": 31,
    "start_time": "2023-06-16T16:49:11.564Z"
   },
   {
    "duration": 13,
    "start_time": "2023-06-16T16:49:11.598Z"
   },
   {
    "duration": 85,
    "start_time": "2023-06-16T16:49:11.612Z"
   },
   {
    "duration": 126,
    "start_time": "2023-06-16T16:49:11.699Z"
   },
   {
    "duration": 9,
    "start_time": "2023-06-16T16:49:11.827Z"
   },
   {
    "duration": 115,
    "start_time": "2023-06-16T16:49:11.837Z"
   },
   {
    "duration": 1259,
    "start_time": "2023-06-16T16:49:11.954Z"
   },
   {
    "duration": 53,
    "start_time": "2023-06-16T16:49:13.214Z"
   },
   {
    "duration": 35,
    "start_time": "2023-06-16T16:49:13.268Z"
   },
   {
    "duration": 1179,
    "start_time": "2023-06-16T16:49:13.304Z"
   },
   {
    "duration": 341,
    "start_time": "2023-06-16T16:49:14.485Z"
   },
   {
    "duration": 435,
    "start_time": "2023-06-16T16:49:14.828Z"
   },
   {
    "duration": 104,
    "start_time": "2023-06-16T16:49:15.265Z"
   },
   {
    "duration": 97,
    "start_time": "2023-06-16T16:49:15.371Z"
   },
   {
    "duration": 256,
    "start_time": "2023-06-16T16:49:15.470Z"
   },
   {
    "duration": 1644,
    "start_time": "2023-06-16T17:04:23.888Z"
   },
   {
    "duration": 5,
    "start_time": "2023-06-16T17:04:25.536Z"
   },
   {
    "duration": 7279,
    "start_time": "2023-06-16T17:04:25.544Z"
   },
   {
    "duration": 46,
    "start_time": "2023-06-16T17:04:32.826Z"
   },
   {
    "duration": 18,
    "start_time": "2023-06-16T17:04:32.874Z"
   },
   {
    "duration": 73,
    "start_time": "2023-06-16T17:04:32.894Z"
   },
   {
    "duration": 136,
    "start_time": "2023-06-16T17:04:32.969Z"
   },
   {
    "duration": 13,
    "start_time": "2023-06-16T17:04:33.108Z"
   },
   {
    "duration": 114,
    "start_time": "2023-06-16T17:04:33.123Z"
   },
   {
    "duration": 1389,
    "start_time": "2023-06-16T17:04:33.240Z"
   },
   {
    "duration": 57,
    "start_time": "2023-06-16T17:04:34.630Z"
   },
   {
    "duration": 43,
    "start_time": "2023-06-16T17:04:34.689Z"
   },
   {
    "duration": 1179,
    "start_time": "2023-06-16T17:04:34.733Z"
   },
   {
    "duration": 342,
    "start_time": "2023-06-16T17:04:35.914Z"
   },
   {
    "duration": 524,
    "start_time": "2023-06-16T17:04:36.258Z"
   },
   {
    "duration": 105,
    "start_time": "2023-06-16T17:04:36.784Z"
   },
   {
    "duration": 116,
    "start_time": "2023-06-16T17:04:36.891Z"
   },
   {
    "duration": 223,
    "start_time": "2023-06-16T17:04:37.009Z"
   },
   {
    "duration": 84,
    "start_time": "2023-06-16T17:05:23.711Z"
   },
   {
    "duration": 122,
    "start_time": "2023-06-16T17:06:23.907Z"
   },
   {
    "duration": 1310,
    "start_time": "2023-06-16T19:02:02.488Z"
   },
   {
    "duration": 4,
    "start_time": "2023-06-16T19:02:03.800Z"
   },
   {
    "duration": 1378,
    "start_time": "2023-06-16T19:02:17.482Z"
   },
   {
    "duration": 3,
    "start_time": "2023-06-16T19:02:18.862Z"
   },
   {
    "duration": 14388,
    "start_time": "2023-06-16T19:02:18.866Z"
   },
   {
    "duration": 55,
    "start_time": "2023-06-16T19:02:33.255Z"
   },
   {
    "duration": 13,
    "start_time": "2023-06-16T19:02:33.312Z"
   },
   {
    "duration": 72,
    "start_time": "2023-06-16T19:02:33.327Z"
   },
   {
    "duration": 129,
    "start_time": "2023-06-16T19:02:33.401Z"
   },
   {
    "duration": 10,
    "start_time": "2023-06-16T19:02:33.532Z"
   },
   {
    "duration": 114,
    "start_time": "2023-06-16T19:02:33.544Z"
   },
   {
    "duration": 1365,
    "start_time": "2023-06-16T19:02:33.659Z"
   },
   {
    "duration": 59,
    "start_time": "2023-06-16T19:02:35.026Z"
   },
   {
    "duration": 36,
    "start_time": "2023-06-16T19:02:35.087Z"
   },
   {
    "duration": 1240,
    "start_time": "2023-06-16T19:02:35.124Z"
   },
   {
    "duration": 349,
    "start_time": "2023-06-16T19:02:36.366Z"
   },
   {
    "duration": 399,
    "start_time": "2023-06-16T19:02:36.717Z"
   },
   {
    "duration": 103,
    "start_time": "2023-06-16T19:02:37.117Z"
   },
   {
    "duration": 112,
    "start_time": "2023-06-16T19:02:37.223Z"
   },
   {
    "duration": 85,
    "start_time": "2023-06-16T19:02:37.337Z"
   }
  ],
  "colab": {
   "provenance": []
  },
  "kernelspec": {
   "display_name": "Python 3 (ipykernel)",
   "language": "python",
   "name": "python3"
  },
  "language_info": {
   "codemirror_mode": {
    "name": "ipython",
    "version": 3
   },
   "file_extension": ".py",
   "mimetype": "text/x-python",
   "name": "python",
   "nbconvert_exporter": "python",
   "pygments_lexer": "ipython3",
   "version": "3.9.12"
  },
  "toc": {
   "base_numbering": 1,
   "nav_menu": {},
   "number_sections": true,
   "sideBar": true,
   "skip_h1_title": true,
   "title_cell": "Table of Contents",
   "title_sidebar": "Contents",
   "toc_cell": false,
   "toc_position": {},
   "toc_section_display": true,
   "toc_window_display": false
  }
 },
 "nbformat": 4,
 "nbformat_minor": 1
}
