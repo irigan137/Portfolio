{
 "cells": [
  {
   "cell_type": "markdown",
   "metadata": {},
   "source": [
    "# Project Description\n",
    "\n",
    "The following research needs to be done for an online store: \n",
    "\n",
    "1. Prioritize the hypotheses using ICE and RICE frameworks.\n",
    "2. Analyze the results of the conducted A/B test and give recommendations."
   ]
  },
  {
   "cell_type": "code",
   "execution_count": 1,
   "metadata": {},
   "outputs": [],
   "source": [
    "# importing libraries\n",
    "\n",
    "import pandas as pd\n",
    "import datetime as dt\n",
    "import numpy as np\n",
    "import scipy.stats as stats\n",
    "import matplotlib.pyplot as plt\n",
    "from pandas.plotting import register_matplotlib_converters\n",
    "import warnings\n",
    "  \n",
    "register_matplotlib_converters()"
   ]
  },
  {
   "cell_type": "markdown",
   "metadata": {},
   "source": [
    "# Prioritization of hypotheses"
   ]
  },
  {
   "cell_type": "code",
   "execution_count": 2,
   "metadata": {},
   "outputs": [],
   "source": [
    "# creating dataframe with hypotheses\n",
    "\n",
    "hypotheses = pd.read_csv('hypothesis.csv')"
   ]
  },
  {
   "cell_type": "code",
   "execution_count": 3,
   "metadata": {},
   "outputs": [],
   "source": [
    "# setting the column display width\n",
    "\n",
    "pd.options.display.max_colwidth = 200"
   ]
  },
  {
   "cell_type": "code",
   "execution_count": 4,
   "metadata": {},
   "outputs": [
    {
     "data": {
      "text/html": [
       "<div>\n",
       "<style scoped>\n",
       "    .dataframe tbody tr th:only-of-type {\n",
       "        vertical-align: middle;\n",
       "    }\n",
       "\n",
       "    .dataframe tbody tr th {\n",
       "        vertical-align: top;\n",
       "    }\n",
       "\n",
       "    .dataframe thead th {\n",
       "        text-align: right;\n",
       "    }\n",
       "</style>\n",
       "<table border=\"1\" class=\"dataframe\">\n",
       "  <thead>\n",
       "    <tr style=\"text-align: right;\">\n",
       "      <th></th>\n",
       "      <th>Hypothesis</th>\n",
       "      <th>Reach</th>\n",
       "      <th>Impact</th>\n",
       "      <th>Confidence</th>\n",
       "      <th>Efforts</th>\n",
       "    </tr>\n",
       "  </thead>\n",
       "  <tbody>\n",
       "    <tr>\n",
       "      <th>0</th>\n",
       "      <td>Добавить два новых канала привлечения трафика, что позволит привлекать на 30% больше пользователей</td>\n",
       "      <td>3</td>\n",
       "      <td>10</td>\n",
       "      <td>8</td>\n",
       "      <td>6</td>\n",
       "    </tr>\n",
       "    <tr>\n",
       "      <th>1</th>\n",
       "      <td>Запустить собственную службу доставки, что сократит срок доставки заказов</td>\n",
       "      <td>2</td>\n",
       "      <td>5</td>\n",
       "      <td>4</td>\n",
       "      <td>10</td>\n",
       "    </tr>\n",
       "    <tr>\n",
       "      <th>2</th>\n",
       "      <td>Добавить блоки рекомендаций товаров на сайт интернет магазина, чтобы повысить конверсию и средний чек заказа</td>\n",
       "      <td>8</td>\n",
       "      <td>3</td>\n",
       "      <td>7</td>\n",
       "      <td>3</td>\n",
       "    </tr>\n",
       "    <tr>\n",
       "      <th>3</th>\n",
       "      <td>Изменить структура категорий, что увеличит конверсию, т.к. пользователи быстрее найдут нужный товар</td>\n",
       "      <td>8</td>\n",
       "      <td>3</td>\n",
       "      <td>3</td>\n",
       "      <td>8</td>\n",
       "    </tr>\n",
       "    <tr>\n",
       "      <th>4</th>\n",
       "      <td>Изменить цвет фона главной страницы, чтобы увеличить вовлеченность пользователей</td>\n",
       "      <td>3</td>\n",
       "      <td>1</td>\n",
       "      <td>1</td>\n",
       "      <td>1</td>\n",
       "    </tr>\n",
       "    <tr>\n",
       "      <th>5</th>\n",
       "      <td>Добавить страницу отзывов клиентов о магазине, что позволит увеличить количество заказов</td>\n",
       "      <td>3</td>\n",
       "      <td>2</td>\n",
       "      <td>2</td>\n",
       "      <td>3</td>\n",
       "    </tr>\n",
       "    <tr>\n",
       "      <th>6</th>\n",
       "      <td>Показать на главной странице баннеры с актуальными акциями и распродажами, чтобы увеличить конверсию</td>\n",
       "      <td>5</td>\n",
       "      <td>3</td>\n",
       "      <td>8</td>\n",
       "      <td>3</td>\n",
       "    </tr>\n",
       "    <tr>\n",
       "      <th>7</th>\n",
       "      <td>Добавить форму подписки на все основные страницы, чтобы собрать базу клиентов для email-рассылок</td>\n",
       "      <td>10</td>\n",
       "      <td>7</td>\n",
       "      <td>8</td>\n",
       "      <td>5</td>\n",
       "    </tr>\n",
       "    <tr>\n",
       "      <th>8</th>\n",
       "      <td>Запустить акцию, дающую скидку на товар в день рождения</td>\n",
       "      <td>1</td>\n",
       "      <td>9</td>\n",
       "      <td>9</td>\n",
       "      <td>5</td>\n",
       "    </tr>\n",
       "  </tbody>\n",
       "</table>\n",
       "</div>"
      ],
      "text/plain": [
       "                                                                                                     Hypothesis  \\\n",
       "0            Добавить два новых канала привлечения трафика, что позволит привлекать на 30% больше пользователей   \n",
       "1                                     Запустить собственную службу доставки, что сократит срок доставки заказов   \n",
       "2  Добавить блоки рекомендаций товаров на сайт интернет магазина, чтобы повысить конверсию и средний чек заказа   \n",
       "3           Изменить структура категорий, что увеличит конверсию, т.к. пользователи быстрее найдут нужный товар   \n",
       "4                              Изменить цвет фона главной страницы, чтобы увеличить вовлеченность пользователей   \n",
       "5                      Добавить страницу отзывов клиентов о магазине, что позволит увеличить количество заказов   \n",
       "6          Показать на главной странице баннеры с актуальными акциями и распродажами, чтобы увеличить конверсию   \n",
       "7              Добавить форму подписки на все основные страницы, чтобы собрать базу клиентов для email-рассылок   \n",
       "8                                                       Запустить акцию, дающую скидку на товар в день рождения   \n",
       "\n",
       "   Reach  Impact  Confidence  Efforts  \n",
       "0      3      10           8        6  \n",
       "1      2       5           4       10  \n",
       "2      8       3           7        3  \n",
       "3      8       3           3        8  \n",
       "4      3       1           1        1  \n",
       "5      3       2           2        3  \n",
       "6      5       3           8        3  \n",
       "7     10       7           8        5  \n",
       "8      1       9           9        5  "
      ]
     },
     "execution_count": 4,
     "metadata": {},
     "output_type": "execute_result"
    }
   ],
   "source": [
    "# displaying the 9 hypotheses\n",
    "\n",
    "hypotheses"
   ]
  },
  {
   "cell_type": "markdown",
   "metadata": {},
   "source": [
    "The hypotheses in English:\n",
    "\n",
    "0. Add two new channels to attract traffic, which will allow to attract 30% more users;\n",
    "1. Launch own delivery service, which will shorten the delivery time of orders;\n",
    "2. Add product recommendation blocks to the website to increase conversion rate and average check;\n",
    "3. Change the structure of categories, which will increase conversion, because users will find the desired product faster 8 3 3 3 8\n",
    "4. Change the background color of the homepage to increase user engagement;\n",
    "5. Add a page of customer reviews about the store, which will increase the number of orders;\n",
    "6. Show banners with current promotions and sales on the homepage to increase conversion;\n",
    "7. Add a subscription form to all main pages to build a customer base for email newsletters;\n",
    "8. Launch a promotion to give a discount on customer's birthday."
   ]
  },
  {
   "cell_type": "code",
   "execution_count": 5,
   "metadata": {},
   "outputs": [],
   "source": [
    "# Applying ICE framework\n",
    "hypotheses['ice_score'] = (hypotheses['Impact'] * hypotheses['Confidence'] / hypotheses['Efforts']).round()"
   ]
  },
  {
   "cell_type": "code",
   "execution_count": 6,
   "metadata": {},
   "outputs": [
    {
     "data": {
      "text/html": [
       "<div>\n",
       "<style scoped>\n",
       "    .dataframe tbody tr th:only-of-type {\n",
       "        vertical-align: middle;\n",
       "    }\n",
       "\n",
       "    .dataframe tbody tr th {\n",
       "        vertical-align: top;\n",
       "    }\n",
       "\n",
       "    .dataframe thead th {\n",
       "        text-align: right;\n",
       "    }\n",
       "</style>\n",
       "<table border=\"1\" class=\"dataframe\">\n",
       "  <thead>\n",
       "    <tr style=\"text-align: right;\">\n",
       "      <th></th>\n",
       "      <th>Hypothesis</th>\n",
       "      <th>Reach</th>\n",
       "      <th>Impact</th>\n",
       "      <th>Confidence</th>\n",
       "      <th>Efforts</th>\n",
       "      <th>ice_score</th>\n",
       "    </tr>\n",
       "  </thead>\n",
       "  <tbody>\n",
       "    <tr>\n",
       "      <th>8</th>\n",
       "      <td>Запустить акцию, дающую скидку на товар в день рождения</td>\n",
       "      <td>1</td>\n",
       "      <td>9</td>\n",
       "      <td>9</td>\n",
       "      <td>5</td>\n",
       "      <td>16.0</td>\n",
       "    </tr>\n",
       "    <tr>\n",
       "      <th>0</th>\n",
       "      <td>Добавить два новых канала привлечения трафика, что позволит привлекать на 30% больше пользователей</td>\n",
       "      <td>3</td>\n",
       "      <td>10</td>\n",
       "      <td>8</td>\n",
       "      <td>6</td>\n",
       "      <td>13.0</td>\n",
       "    </tr>\n",
       "    <tr>\n",
       "      <th>7</th>\n",
       "      <td>Добавить форму подписки на все основные страницы, чтобы собрать базу клиентов для email-рассылок</td>\n",
       "      <td>10</td>\n",
       "      <td>7</td>\n",
       "      <td>8</td>\n",
       "      <td>5</td>\n",
       "      <td>11.0</td>\n",
       "    </tr>\n",
       "    <tr>\n",
       "      <th>6</th>\n",
       "      <td>Показать на главной странице баннеры с актуальными акциями и распродажами, чтобы увеличить конверсию</td>\n",
       "      <td>5</td>\n",
       "      <td>3</td>\n",
       "      <td>8</td>\n",
       "      <td>3</td>\n",
       "      <td>8.0</td>\n",
       "    </tr>\n",
       "    <tr>\n",
       "      <th>2</th>\n",
       "      <td>Добавить блоки рекомендаций товаров на сайт интернет магазина, чтобы повысить конверсию и средний чек заказа</td>\n",
       "      <td>8</td>\n",
       "      <td>3</td>\n",
       "      <td>7</td>\n",
       "      <td>3</td>\n",
       "      <td>7.0</td>\n",
       "    </tr>\n",
       "  </tbody>\n",
       "</table>\n",
       "</div>"
      ],
      "text/plain": [
       "                                                                                                     Hypothesis  \\\n",
       "8                                                       Запустить акцию, дающую скидку на товар в день рождения   \n",
       "0            Добавить два новых канала привлечения трафика, что позволит привлекать на 30% больше пользователей   \n",
       "7              Добавить форму подписки на все основные страницы, чтобы собрать базу клиентов для email-рассылок   \n",
       "6          Показать на главной странице баннеры с актуальными акциями и распродажами, чтобы увеличить конверсию   \n",
       "2  Добавить блоки рекомендаций товаров на сайт интернет магазина, чтобы повысить конверсию и средний чек заказа   \n",
       "\n",
       "   Reach  Impact  Confidence  Efforts  ice_score  \n",
       "8      1       9           9        5       16.0  \n",
       "0      3      10           8        6       13.0  \n",
       "7     10       7           8        5       11.0  \n",
       "6      5       3           8        3        8.0  \n",
       "2      8       3           7        3        7.0  "
      ]
     },
     "execution_count": 6,
     "metadata": {},
     "output_type": "execute_result"
    }
   ],
   "source": [
    "# Sorting the hypotheses by ICE score\n",
    "\n",
    "hypotheses.sort_values(by='ice_score', ascending=False).head()"
   ]
  },
  {
   "cell_type": "code",
   "execution_count": 7,
   "metadata": {},
   "outputs": [],
   "source": [
    "# Applying RICE framework\n",
    "\n",
    "hypotheses['rice_score'] = (\n",
    "    (hypotheses['Reach'] * hypotheses['Impact'] * hypotheses['Confidence'] / hypotheses['Efforts'])\n",
    "    .round()\n",
    ")"
   ]
  },
  {
   "cell_type": "code",
   "execution_count": 8,
   "metadata": {},
   "outputs": [
    {
     "data": {
      "text/html": [
       "<div>\n",
       "<style scoped>\n",
       "    .dataframe tbody tr th:only-of-type {\n",
       "        vertical-align: middle;\n",
       "    }\n",
       "\n",
       "    .dataframe tbody tr th {\n",
       "        vertical-align: top;\n",
       "    }\n",
       "\n",
       "    .dataframe thead th {\n",
       "        text-align: right;\n",
       "    }\n",
       "</style>\n",
       "<table border=\"1\" class=\"dataframe\">\n",
       "  <thead>\n",
       "    <tr style=\"text-align: right;\">\n",
       "      <th></th>\n",
       "      <th>Hypothesis</th>\n",
       "      <th>Reach</th>\n",
       "      <th>Impact</th>\n",
       "      <th>Confidence</th>\n",
       "      <th>Efforts</th>\n",
       "      <th>ice_score</th>\n",
       "      <th>rice_score</th>\n",
       "    </tr>\n",
       "  </thead>\n",
       "  <tbody>\n",
       "    <tr>\n",
       "      <th>7</th>\n",
       "      <td>Добавить форму подписки на все основные страницы, чтобы собрать базу клиентов для email-рассылок</td>\n",
       "      <td>10</td>\n",
       "      <td>7</td>\n",
       "      <td>8</td>\n",
       "      <td>5</td>\n",
       "      <td>11.0</td>\n",
       "      <td>112.0</td>\n",
       "    </tr>\n",
       "    <tr>\n",
       "      <th>2</th>\n",
       "      <td>Добавить блоки рекомендаций товаров на сайт интернет магазина, чтобы повысить конверсию и средний чек заказа</td>\n",
       "      <td>8</td>\n",
       "      <td>3</td>\n",
       "      <td>7</td>\n",
       "      <td>3</td>\n",
       "      <td>7.0</td>\n",
       "      <td>56.0</td>\n",
       "    </tr>\n",
       "    <tr>\n",
       "      <th>0</th>\n",
       "      <td>Добавить два новых канала привлечения трафика, что позволит привлекать на 30% больше пользователей</td>\n",
       "      <td>3</td>\n",
       "      <td>10</td>\n",
       "      <td>8</td>\n",
       "      <td>6</td>\n",
       "      <td>13.0</td>\n",
       "      <td>40.0</td>\n",
       "    </tr>\n",
       "    <tr>\n",
       "      <th>6</th>\n",
       "      <td>Показать на главной странице баннеры с актуальными акциями и распродажами, чтобы увеличить конверсию</td>\n",
       "      <td>5</td>\n",
       "      <td>3</td>\n",
       "      <td>8</td>\n",
       "      <td>3</td>\n",
       "      <td>8.0</td>\n",
       "      <td>40.0</td>\n",
       "    </tr>\n",
       "    <tr>\n",
       "      <th>8</th>\n",
       "      <td>Запустить акцию, дающую скидку на товар в день рождения</td>\n",
       "      <td>1</td>\n",
       "      <td>9</td>\n",
       "      <td>9</td>\n",
       "      <td>5</td>\n",
       "      <td>16.0</td>\n",
       "      <td>16.0</td>\n",
       "    </tr>\n",
       "  </tbody>\n",
       "</table>\n",
       "</div>"
      ],
      "text/plain": [
       "                                                                                                     Hypothesis  \\\n",
       "7              Добавить форму подписки на все основные страницы, чтобы собрать базу клиентов для email-рассылок   \n",
       "2  Добавить блоки рекомендаций товаров на сайт интернет магазина, чтобы повысить конверсию и средний чек заказа   \n",
       "0            Добавить два новых канала привлечения трафика, что позволит привлекать на 30% больше пользователей   \n",
       "6          Показать на главной странице баннеры с актуальными акциями и распродажами, чтобы увеличить конверсию   \n",
       "8                                                       Запустить акцию, дающую скидку на товар в день рождения   \n",
       "\n",
       "   Reach  Impact  Confidence  Efforts  ice_score  rice_score  \n",
       "7     10       7           8        5       11.0       112.0  \n",
       "2      8       3           7        3        7.0        56.0  \n",
       "0      3      10           8        6       13.0        40.0  \n",
       "6      5       3           8        3        8.0        40.0  \n",
       "8      1       9           9        5       16.0        16.0  "
      ]
     },
     "execution_count": 8,
     "metadata": {},
     "output_type": "execute_result"
    }
   ],
   "source": [
    "# Sorting the hypotheses by RICE score\n",
    "\n",
    "hypotheses.sort_values(by='rice_score', ascending=False).head()"
   ]
  },
  {
   "cell_type": "markdown",
   "metadata": {},
   "source": [
    "## summary\n",
    "The prioritization of hypotheses changed when RICE was applied - due to the wide coverage, hypotheses about subscription form and recommendation blocks took the 1st and 2nd places, respectively. At the same time, the set of hypotheses in the top 5 after applying both frameworks remained the same."
   ]
  },
  {
   "cell_type": "markdown",
   "metadata": {},
   "source": [
    "# A/B test analysis"
   ]
  },
  {
   "cell_type": "code",
   "execution_count": 9,
   "metadata": {
    "scrolled": true
   },
   "outputs": [
    {
     "data": {
      "text/html": [
       "<div>\n",
       "<style scoped>\n",
       "    .dataframe tbody tr th:only-of-type {\n",
       "        vertical-align: middle;\n",
       "    }\n",
       "\n",
       "    .dataframe tbody tr th {\n",
       "        vertical-align: top;\n",
       "    }\n",
       "\n",
       "    .dataframe thead th {\n",
       "        text-align: right;\n",
       "    }\n",
       "</style>\n",
       "<table border=\"1\" class=\"dataframe\">\n",
       "  <thead>\n",
       "    <tr style=\"text-align: right;\">\n",
       "      <th></th>\n",
       "      <th>transactionId</th>\n",
       "      <th>visitorId</th>\n",
       "      <th>date</th>\n",
       "      <th>revenue</th>\n",
       "      <th>group</th>\n",
       "    </tr>\n",
       "  </thead>\n",
       "  <tbody>\n",
       "    <tr>\n",
       "      <th>0</th>\n",
       "      <td>3667963787</td>\n",
       "      <td>3312258926</td>\n",
       "      <td>2019-08-15</td>\n",
       "      <td>1650</td>\n",
       "      <td>B</td>\n",
       "    </tr>\n",
       "    <tr>\n",
       "      <th>1</th>\n",
       "      <td>2804400009</td>\n",
       "      <td>3642806036</td>\n",
       "      <td>2019-08-15</td>\n",
       "      <td>730</td>\n",
       "      <td>B</td>\n",
       "    </tr>\n",
       "    <tr>\n",
       "      <th>2</th>\n",
       "      <td>2961555356</td>\n",
       "      <td>4069496402</td>\n",
       "      <td>2019-08-15</td>\n",
       "      <td>400</td>\n",
       "      <td>A</td>\n",
       "    </tr>\n",
       "    <tr>\n",
       "      <th>3</th>\n",
       "      <td>3797467345</td>\n",
       "      <td>1196621759</td>\n",
       "      <td>2019-08-15</td>\n",
       "      <td>9759</td>\n",
       "      <td>B</td>\n",
       "    </tr>\n",
       "    <tr>\n",
       "      <th>4</th>\n",
       "      <td>2282983706</td>\n",
       "      <td>2322279887</td>\n",
       "      <td>2019-08-15</td>\n",
       "      <td>2308</td>\n",
       "      <td>B</td>\n",
       "    </tr>\n",
       "  </tbody>\n",
       "</table>\n",
       "</div>"
      ],
      "text/plain": [
       "   transactionId   visitorId        date  revenue group\n",
       "0     3667963787  3312258926  2019-08-15     1650     B\n",
       "1     2804400009  3642806036  2019-08-15      730     B\n",
       "2     2961555356  4069496402  2019-08-15      400     A\n",
       "3     3797467345  1196621759  2019-08-15     9759     B\n",
       "4     2282983706  2322279887  2019-08-15     2308     B"
      ]
     },
     "execution_count": 9,
     "metadata": {},
     "output_type": "execute_result"
    }
   ],
   "source": [
    "# creating the dataset with orders\n",
    "\n",
    "orders = pd.read_csv('orders.csv') \n",
    "orders.head()"
   ]
  },
  {
   "cell_type": "code",
   "execution_count": 10,
   "metadata": {
    "scrolled": true
   },
   "outputs": [
    {
     "data": {
      "text/html": [
       "<div>\n",
       "<style scoped>\n",
       "    .dataframe tbody tr th:only-of-type {\n",
       "        vertical-align: middle;\n",
       "    }\n",
       "\n",
       "    .dataframe tbody tr th {\n",
       "        vertical-align: top;\n",
       "    }\n",
       "\n",
       "    .dataframe thead th {\n",
       "        text-align: right;\n",
       "    }\n",
       "</style>\n",
       "<table border=\"1\" class=\"dataframe\">\n",
       "  <thead>\n",
       "    <tr style=\"text-align: right;\">\n",
       "      <th></th>\n",
       "      <th>date</th>\n",
       "      <th>group</th>\n",
       "      <th>visitors</th>\n",
       "    </tr>\n",
       "  </thead>\n",
       "  <tbody>\n",
       "    <tr>\n",
       "      <th>0</th>\n",
       "      <td>2019-08-01</td>\n",
       "      <td>A</td>\n",
       "      <td>719</td>\n",
       "    </tr>\n",
       "    <tr>\n",
       "      <th>1</th>\n",
       "      <td>2019-08-02</td>\n",
       "      <td>A</td>\n",
       "      <td>619</td>\n",
       "    </tr>\n",
       "    <tr>\n",
       "      <th>2</th>\n",
       "      <td>2019-08-03</td>\n",
       "      <td>A</td>\n",
       "      <td>507</td>\n",
       "    </tr>\n",
       "    <tr>\n",
       "      <th>3</th>\n",
       "      <td>2019-08-04</td>\n",
       "      <td>A</td>\n",
       "      <td>717</td>\n",
       "    </tr>\n",
       "    <tr>\n",
       "      <th>4</th>\n",
       "      <td>2019-08-05</td>\n",
       "      <td>A</td>\n",
       "      <td>756</td>\n",
       "    </tr>\n",
       "  </tbody>\n",
       "</table>\n",
       "</div>"
      ],
      "text/plain": [
       "         date group  visitors\n",
       "0  2019-08-01     A       719\n",
       "1  2019-08-02     A       619\n",
       "2  2019-08-03     A       507\n",
       "3  2019-08-04     A       717\n",
       "4  2019-08-05     A       756"
      ]
     },
     "execution_count": 10,
     "metadata": {},
     "output_type": "execute_result"
    }
   ],
   "source": [
    "# creating the dataset with visits\n",
    "\n",
    "visitors = pd.read_csv('visitors.csv')\n",
    "visitors.head()"
   ]
  },
  {
   "cell_type": "code",
   "execution_count": 11,
   "metadata": {
    "scrolled": true
   },
   "outputs": [
    {
     "name": "stdout",
     "output_type": "stream",
     "text": [
      "<class 'pandas.core.frame.DataFrame'>\n",
      "RangeIndex: 1197 entries, 0 to 1196\n",
      "Data columns (total 5 columns):\n",
      " #   Column         Non-Null Count  Dtype \n",
      "---  ------         --------------  ----- \n",
      " 0   transactionId  1197 non-null   int64 \n",
      " 1   visitorId      1197 non-null   int64 \n",
      " 2   date           1197 non-null   object\n",
      " 3   revenue        1197 non-null   int64 \n",
      " 4   group          1197 non-null   object\n",
      "dtypes: int64(3), object(2)\n",
      "memory usage: 46.9+ KB\n",
      "<class 'pandas.core.frame.DataFrame'>\n",
      "RangeIndex: 62 entries, 0 to 61\n",
      "Data columns (total 3 columns):\n",
      " #   Column    Non-Null Count  Dtype \n",
      "---  ------    --------------  ----- \n",
      " 0   date      62 non-null     object\n",
      " 1   group     62 non-null     object\n",
      " 2   visitors  62 non-null     int64 \n",
      "dtypes: int64(1), object(2)\n",
      "memory usage: 1.6+ KB\n"
     ]
    },
    {
     "data": {
      "text/plain": [
       "(None, None)"
      ]
     },
     "execution_count": 11,
     "metadata": {},
     "output_type": "execute_result"
    }
   ],
   "source": [
    "# checking dataframe information\n",
    "\n",
    "orders.info(), visitors.info()"
   ]
  },
  {
   "cell_type": "code",
   "execution_count": 12,
   "metadata": {
    "scrolled": true
   },
   "outputs": [
    {
     "data": {
      "text/plain": [
       "(transactionId    0\n",
       " visitorId        0\n",
       " date             0\n",
       " revenue          0\n",
       " group            0\n",
       " dtype: int64,\n",
       " 0)"
      ]
     },
     "execution_count": 12,
     "metadata": {},
     "output_type": "execute_result"
    }
   ],
   "source": [
    "# checking for missing values and duplicates in orders\n",
    "\n",
    "orders.isna().sum(), orders.duplicated().sum()"
   ]
  },
  {
   "cell_type": "code",
   "execution_count": 13,
   "metadata": {},
   "outputs": [
    {
     "data": {
      "text/plain": [
       "(date        0\n",
       " group       0\n",
       " visitors    0\n",
       " dtype: int64,\n",
       " 0)"
      ]
     },
     "execution_count": 13,
     "metadata": {},
     "output_type": "execute_result"
    }
   ],
   "source": [
    "# checking for missing values and duplicates in visitors\n",
    "\n",
    "visitors.isna().sum(), visitors.duplicated().sum()"
   ]
  },
  {
   "cell_type": "code",
   "execution_count": 14,
   "metadata": {},
   "outputs": [],
   "source": [
    "# setting the right format for columns with dates\n",
    "\n",
    "orders['date'] = orders['date'].map(\n",
    "    lambda x: dt.datetime.strptime(x, '%Y-%m-%d')\n",
    ")"
   ]
  },
  {
   "cell_type": "code",
   "execution_count": 15,
   "metadata": {},
   "outputs": [],
   "source": [
    "visitors['date'] = visitors['date'].map(\n",
    "    lambda x: dt.datetime.strptime(x, '%Y-%m-%d')\n",
    ")"
   ]
  },
  {
   "cell_type": "code",
   "execution_count": 16,
   "metadata": {
    "scrolled": false
   },
   "outputs": [
    {
     "data": {
      "text/plain": [
       "transactionId    557\n",
       "visitorId        557\n",
       "date             557\n",
       "revenue          557\n",
       "group            557\n",
       "dtype: int64"
      ]
     },
     "metadata": {},
     "output_type": "display_data"
    },
    {
     "data": {
      "text/plain": [
       "transactionId    640\n",
       "visitorId        640\n",
       "date             640\n",
       "revenue          640\n",
       "group            640\n",
       "dtype: int64"
      ]
     },
     "execution_count": 16,
     "metadata": {},
     "output_type": "execute_result"
    }
   ],
   "source": [
    "# checking if groups A and B are equal in orders\n",
    "\n",
    "display(orders[orders['group'] == 'A'].count())\n",
    "orders[orders['group'] == 'B'].count()"
   ]
  },
  {
   "cell_type": "code",
   "execution_count": 17,
   "metadata": {
    "scrolled": true
   },
   "outputs": [
    {
     "data": {
      "text/plain": [
       "58"
      ]
     },
     "execution_count": 17,
     "metadata": {},
     "output_type": "execute_result"
    }
   ],
   "source": [
    "# checking if there are users who got into both test groups \n",
    "\n",
    "visitors_grouped = orders.groupby('visitorId')['group'].nunique().reset_index()\n",
    "visitors_w_two_groups = visitors_grouped[visitors_grouped['group'] == 2]\n",
    "visitors_w_two_groups['group'].count()"
   ]
  },
  {
   "cell_type": "markdown",
   "metadata": {},
   "source": [
    "The sizes of groups A and B in the order table do not match, and that there are 58 users who got into both test groups."
   ]
  },
  {
   "cell_type": "code",
   "execution_count": 18,
   "metadata": {},
   "outputs": [
    {
     "data": {
      "text/plain": [
       "18736"
      ]
     },
     "metadata": {},
     "output_type": "display_data"
    },
    {
     "data": {
      "text/plain": [
       "18916"
      ]
     },
     "execution_count": 18,
     "metadata": {},
     "output_type": "execute_result"
    }
   ],
   "source": [
    "# checking the number of visitors in each group \n",
    "\n",
    "display(visitors.query('group == \"A\"')['visitors'].sum())\n",
    "visitors.query('group == \"B\"')['visitors'].sum()"
   ]
  },
  {
   "cell_type": "markdown",
   "metadata": {},
   "source": [
    "Let's assume that visitors from the visitors dataframe are unique. Note that the number of visitors in group B is larger than in group A by about 1%."
   ]
  },
  {
   "cell_type": "code",
   "execution_count": 19,
   "metadata": {},
   "outputs": [],
   "source": [
    "# aggregated tables with orders and visitors\n",
    "\n",
    "datesGroups = orders[['date', 'group']].drop_duplicates()\n",
    "\n",
    "ordersAggregated = datesGroups.apply(\n",
    "    lambda x: orders[\n",
    "        np.logical_and(\n",
    "            orders['date'] <= x['date'], orders['group'] == x['group']\n",
    "        )\n",
    "    ].agg(\n",
    "        {\n",
    "            'date': 'max',\n",
    "            'group': 'max',\n",
    "            'transactionId': 'nunique',\n",
    "            'visitorId': 'nunique',\n",
    "            'revenue': 'sum',\n",
    "        }\n",
    "    ),\n",
    "    axis=1,\n",
    ").sort_values(by=['date', 'group'])\n",
    "\n",
    "visitorsAggregated = datesGroups.apply(\n",
    "    lambda x: visitors[\n",
    "        np.logical_and(\n",
    "            visitors['date'] <= x['date'], visitors['group'] == x['group']\n",
    "        )\n",
    "    ].agg({'date': 'max', 'group': 'max', 'visitors': 'sum'}),\n",
    "    axis=1,\n",
    ").sort_values(by=['date', 'group'])"
   ]
  },
  {
   "cell_type": "code",
   "execution_count": 20,
   "metadata": {},
   "outputs": [],
   "source": [
    "# merging ordersAggregated and visitorsAggregated \n",
    "\n",
    "cumulativeData = ordersAggregated.merge(\n",
    "    visitorsAggregated, left_on=['date', 'group'], right_on=['date', 'group']\n",
    ")\n",
    "\n",
    "cumulativeData.columns = [\n",
    "    'date',\n",
    "    'group',\n",
    "    'orders',\n",
    "    'buyers',\n",
    "    'revenue',\n",
    "    'visitors',\n",
    "]"
   ]
  },
  {
   "cell_type": "code",
   "execution_count": 21,
   "metadata": {},
   "outputs": [],
   "source": [
    "# cumulative revenue by group\n",
    "\n",
    "cumulativeRevenueA = cumulativeData[cumulativeData['group'] == 'A'][['date','revenue', 'orders']]\n",
    "\n",
    "cumulativeRevenueB = cumulativeData[cumulativeData['group'] == 'B'][['date','revenue', 'orders']]"
   ]
  },
  {
   "cell_type": "code",
   "execution_count": 22,
   "metadata": {
    "scrolled": true
   },
   "outputs": [
    {
     "data": {
      "image/png": "[encoded data removed]",
      "text/plain": [
       "<Figure size 432x288 with 1 Axes>"
      ]
     },
     "metadata": {
      "needs_background": "light"
     },
     "output_type": "display_data"
    }
   ],
   "source": [
    "# visualizing cumulative revenue by group\n",
    "\n",
    "plt.plot(cumulativeRevenueA['date'], cumulativeRevenueA['revenue'], label='A')\n",
    "\n",
    "plt.plot(cumulativeRevenueB['date'], cumulativeRevenueB['revenue'], label='B')\n",
    "\n",
    "plt.title('Average cumulative revenue by group')\n",
    "plt.xticks(rotation=90)\n",
    "plt.legend();"
   ]
  },
  {
   "cell_type": "markdown",
   "metadata": {},
   "source": [
    "From about the second week of the test, group B took the lead and was in the lead until the end of the period under review. It is also worth noting the jump in group B revenue around August 19 - it may have been due to a surge."
   ]
  },
  {
   "cell_type": "code",
   "execution_count": 23,
   "metadata": {
    "scrolled": true
   },
   "outputs": [
    {
     "data": {
      "image/png": "[encoded data removed]",
      "text/plain": [
       "<Figure size 432x288 with 1 Axes>"
      ]
     },
     "metadata": {
      "needs_background": "light"
     },
     "output_type": "display_data"
    }
   ],
   "source": [
    "# visualizing cumulative average check by group\n",
    "\n",
    "plt.plot(cumulativeRevenueA['date'], cumulativeRevenueA['revenue']/cumulativeRevenueA['orders'], label='A')\n",
    "plt.plot(cumulativeRevenueB['date'], cumulativeRevenueB['revenue']/cumulativeRevenueB['orders'], label='B')\n",
    "plt.title('Cumulative average check by group')\n",
    "plt.xticks(rotation=45)\n",
    "plt.legend();"
   ]
  },
  {
   "cell_type": "markdown",
   "metadata": {},
   "source": [
    "According to the cumulative average check, we see that group B was in the lead throughout the test period, except for a short interval around August 13. Note also the surge in group B around August 19, after which the gap between the groups increased significantly. "
   ]
  },
  {
   "cell_type": "code",
   "execution_count": 24,
   "metadata": {},
   "outputs": [],
   "source": [
    "# graph of relative change in cumulative average check of group B to group A\n",
    "mergedCumulativeRevenue = \\\n",
    "cumulativeRevenueA.merge(cumulativeRevenueB, left_on='date', right_on='date', how='left', suffixes=['A', 'B'])"
   ]
  },
  {
   "cell_type": "code",
   "execution_count": 25,
   "metadata": {
    "scrolled": true
   },
   "outputs": [
    {
     "data": {
      "image/png": "[encoded data removed]",
      "text/plain": [
       "<Figure size 432x288 with 1 Axes>"
      ]
     },
     "metadata": {
      "needs_background": "light"
     },
     "output_type": "display_data"
    }
   ],
   "source": [
    "# plotting the ratio of average checks\n",
    "plt.plot(mergedCumulativeRevenue['date'], (mergedCumulativeRevenue['revenueB']/mergedCumulativeRevenue['ordersB'])/(mergedCumulativeRevenue['revenueA']/mergedCumulativeRevenue['ordersA'])-1)\n",
    "plt.xticks(rotation=45)\n",
    "plt.title('Ratio of average checks')\n",
    "\n",
    "# adding X-axis\n",
    "plt.axhline(y=0, color='black', linestyle='--');"
   ]
  },
  {
   "cell_type": "markdown",
   "metadata": {},
   "source": [
    "We can see from the plot of the relative difference in average checks that there were significant changes over the course of the test."
   ]
  },
  {
   "cell_type": "code",
   "execution_count": 26,
   "metadata": {},
   "outputs": [
    {
     "data": {
      "text/plain": [
       "(18109.0, 18139.0, 0.0, 0.05)"
      ]
     },
     "execution_count": 26,
     "metadata": {},
     "output_type": "execute_result"
    },
    {
     "data": {
      "image/png": "[encoded data removed]",
      "text/plain": [
       "<Figure size 432x288 with 1 Axes>"
      ]
     },
     "metadata": {
      "needs_background": "light"
     },
     "output_type": "display_data"
    }
   ],
   "source": [
    "# cumulative conversion\n",
    "cumulativeData['conversion'] = cumulativeData['orders']/cumulativeData['visitors']\n",
    "\n",
    "# filtering data for group A\n",
    "cumulativeDataA = cumulativeData[cumulativeData['group']=='A']\n",
    "\n",
    "# filtering data for group B\n",
    "cumulativeDataB = cumulativeData[cumulativeData['group']=='B']\n",
    "\n",
    "# visualizing\n",
    "plt.plot(cumulativeDataA['date'], cumulativeDataA['conversion'], label='A')\n",
    "plt.plot(cumulativeDataB['date'], cumulativeDataB['conversion'], label='B')\n",
    "plt.xticks(rotation=45)\n",
    "plt.legend()\n",
    "\n",
    "plt.axis([dt.datetime(2019, 8, 1), dt.datetime(2019, 8, 31), 0, 0.05])"
   ]
  },
  {
   "cell_type": "markdown",
   "metadata": {},
   "source": [
    "At the beginning of the test group A had a higher conversion rate, but after roughly the first week the conversion rate of segment B increased, stayed at about the same value and remained steadily higher than that of group A until the end of the test. "
   ]
  },
  {
   "cell_type": "code",
   "execution_count": 27,
   "metadata": {},
   "outputs": [
    {
     "data": {
      "text/plain": [
       "(18109.0, 18138.0, -0.5, 0.5)"
      ]
     },
     "execution_count": 27,
     "metadata": {},
     "output_type": "execute_result"
    },
    {
     "data": {
      "image/png": "[encoded data removed]",
      "text/plain": [
       "<Figure size 432x288 with 1 Axes>"
      ]
     },
     "metadata": {
      "needs_background": "light"
     },
     "output_type": "display_data"
    }
   ],
   "source": [
    "# plotting merged conversions\n",
    "\n",
    "mergedCumulativeConversions = cumulativeDataA[[\"date\", \"conversion\"]].merge(cumulativeDataB[[\"date\", \"conversion\"]], left_on = \"date\", right_on = \"date\", how=\"left\", suffixes=[\"A\", \"B\"])\n",
    "\n",
    "plt.plot(mergedCumulativeConversions['date'], mergedCumulativeConversions['conversionB']/mergedCumulativeConversions['conversionA']-1)\n",
    "plt.axhline(y=0, color=\"black\", linestyle=\"--\")\n",
    "plt.axhline(y=0.2, color=\"grey\", linestyle=\"--\")\n",
    "plt.xticks(rotation=45)\n",
    "plt.axis([\"2019-08-01\", '2019-08-30', -0.5, 0.5])\n"
   ]
  },
  {
   "cell_type": "markdown",
   "metadata": {},
   "source": [
    "Segment B also leads almost throughout the entire test. At the same time, it can be noted that the peak of the gap falls in the middle of the period, and towards the end of the month the gap narrows and amounts to ca. 15%."
   ]
  },
  {
   "cell_type": "code",
   "execution_count": 28,
   "metadata": {},
   "outputs": [
    {
     "data": {
      "text/html": [
       "<div>\n",
       "<style scoped>\n",
       "    .dataframe tbody tr th:only-of-type {\n",
       "        vertical-align: middle;\n",
       "    }\n",
       "\n",
       "    .dataframe tbody tr th {\n",
       "        vertical-align: top;\n",
       "    }\n",
       "\n",
       "    .dataframe thead th {\n",
       "        text-align: right;\n",
       "    }\n",
       "</style>\n",
       "<table border=\"1\" class=\"dataframe\">\n",
       "  <thead>\n",
       "    <tr style=\"text-align: right;\">\n",
       "      <th></th>\n",
       "      <th>visitorId</th>\n",
       "      <th>orders</th>\n",
       "    </tr>\n",
       "  </thead>\n",
       "  <tbody>\n",
       "    <tr>\n",
       "      <th>1023</th>\n",
       "      <td>4256040402</td>\n",
       "      <td>11</td>\n",
       "    </tr>\n",
       "    <tr>\n",
       "      <th>591</th>\n",
       "      <td>2458001652</td>\n",
       "      <td>11</td>\n",
       "    </tr>\n",
       "    <tr>\n",
       "      <th>569</th>\n",
       "      <td>2378935119</td>\n",
       "      <td>9</td>\n",
       "    </tr>\n",
       "    <tr>\n",
       "      <th>487</th>\n",
       "      <td>2038680547</td>\n",
       "      <td>8</td>\n",
       "    </tr>\n",
       "    <tr>\n",
       "      <th>44</th>\n",
       "      <td>199603092</td>\n",
       "      <td>5</td>\n",
       "    </tr>\n",
       "    <tr>\n",
       "      <th>744</th>\n",
       "      <td>3062433592</td>\n",
       "      <td>5</td>\n",
       "    </tr>\n",
       "    <tr>\n",
       "      <th>55</th>\n",
       "      <td>237748145</td>\n",
       "      <td>5</td>\n",
       "    </tr>\n",
       "    <tr>\n",
       "      <th>917</th>\n",
       "      <td>3803269165</td>\n",
       "      <td>5</td>\n",
       "    </tr>\n",
       "    <tr>\n",
       "      <th>299</th>\n",
       "      <td>1230306981</td>\n",
       "      <td>5</td>\n",
       "    </tr>\n",
       "    <tr>\n",
       "      <th>897</th>\n",
       "      <td>3717692402</td>\n",
       "      <td>5</td>\n",
       "    </tr>\n",
       "  </tbody>\n",
       "</table>\n",
       "</div>"
      ],
      "text/plain": [
       "       visitorId  orders\n",
       "1023  4256040402      11\n",
       "591   2458001652      11\n",
       "569   2378935119       9\n",
       "487   2038680547       8\n",
       "44     199603092       5\n",
       "744   3062433592       5\n",
       "55     237748145       5\n",
       "917   3803269165       5\n",
       "299   1230306981       5\n",
       "897   3717692402       5"
      ]
     },
     "execution_count": 28,
     "metadata": {},
     "output_type": "execute_result"
    }
   ],
   "source": [
    "# users with most orders\n",
    "\n",
    "ordersByUsers = (\n",
    "    orders.groupby('visitorId', as_index=False)\n",
    "    .agg({'transactionId': 'nunique'})\n",
    ")\n",
    "ordersByUsers.columns = ['visitorId', 'orders']\n",
    "\n",
    "ordersByUsers.sort_values(by='orders', ascending=False).head(10)"
   ]
  },
  {
   "cell_type": "code",
   "execution_count": 29,
   "metadata": {},
   "outputs": [
    {
     "data": {
      "image/png": "[encoded data removed]",
      "text/plain": [
       "<Figure size 432x288 with 1 Axes>"
      ]
     },
     "metadata": {
      "needs_background": "light"
     },
     "output_type": "display_data"
    }
   ],
   "source": [
    "# scatterplot for the number of orders per user\n",
    "\n",
    "x_values = pd.Series(range(0, len(ordersByUsers)))\n",
    "plt.scatter(x_values, ordersByUsers['orders']);"
   ]
  },
  {
   "cell_type": "markdown",
   "metadata": {},
   "source": [
    "Most users make 1 order. The number of users with more than 2 orders is also small. Finally, there are clear outliers with 8 orders or more."
   ]
  },
  {
   "cell_type": "code",
   "execution_count": 30,
   "metadata": {},
   "outputs": [
    {
     "data": {
      "text/plain": [
       "array([1., 2., 4.])"
      ]
     },
     "execution_count": 30,
     "metadata": {},
     "output_type": "execute_result"
    }
   ],
   "source": [
    "# the number of orders for the 90th, 95th and 99th percentiles\n",
    "\n",
    "np.percentile(ordersByUsers['orders'], [90, 95, 99])"
   ]
  },
  {
   "cell_type": "markdown",
   "metadata": {},
   "source": [
    "No more than 5% of users make more than 2 orders, and no more than 1% make more than 4 orders. For the next steps, we will take as abnormal users those who made 3 orders or more."
   ]
  },
  {
   "cell_type": "code",
   "execution_count": 31,
   "metadata": {},
   "outputs": [
    {
     "data": {
      "image/png": "[encoded data removed]",
      "text/plain": [
       "<Figure size 432x288 with 1 Axes>"
      ]
     },
     "metadata": {
      "needs_background": "light"
     },
     "output_type": "display_data"
    }
   ],
   "source": [
    "# scatterplot for the prices of orders\n",
    "\n",
    "x_values = pd.Series(range(0, len(orders)))\n",
    "plt.scatter(x_values, orders['revenue']);"
   ]
  },
  {
   "cell_type": "markdown",
   "metadata": {},
   "source": [
    "There are 2 outliers: an order with a value of approx. 200,000 and 1,200,000."
   ]
  },
  {
   "cell_type": "code",
   "execution_count": 32,
   "metadata": {},
   "outputs": [
    {
     "data": {
      "text/plain": [
       "array([18168. , 28000. , 58233.2])"
      ]
     },
     "execution_count": 32,
     "metadata": {},
     "output_type": "execute_result"
    }
   ],
   "source": [
    "# prices for the 90th, 95th and 99th percentiles\n",
    "\n",
    "np.percentile(orders['revenue'], [90, 95, 99])"
   ]
  },
  {
   "cell_type": "markdown",
   "metadata": {},
   "source": [
    "No more than 5% of orders have a cost exceeding 28000, and no more than 1% have a cost exceeding 58233 rubles. For the next steps, let's take the revenue of the hundredth percentile as an abnormal value and filter it out of the dataframe. "
   ]
  },
  {
   "cell_type": "markdown",
   "metadata": {},
   "source": [
    "Let's formulate hypotheses on the average number of orders per visitor for the raw data:\n",
    "- **H0**: there are no differences in the number of orders per visitor between groups A and B\n",
    "- **H1**: there are differences in the number of orders per visitor between groups A and B.\n",
    "\n",
    "Significance level α = 0.05"
   ]
  },
  {
   "cell_type": "code",
   "execution_count": 33,
   "metadata": {},
   "outputs": [
    {
     "data": {
      "text/html": [
       "<div>\n",
       "<style scoped>\n",
       "    .dataframe tbody tr th:only-of-type {\n",
       "        vertical-align: middle;\n",
       "    }\n",
       "\n",
       "    .dataframe tbody tr th {\n",
       "        vertical-align: top;\n",
       "    }\n",
       "\n",
       "    .dataframe thead th {\n",
       "        text-align: right;\n",
       "    }\n",
       "</style>\n",
       "<table border=\"1\" class=\"dataframe\">\n",
       "  <thead>\n",
       "    <tr style=\"text-align: right;\">\n",
       "      <th></th>\n",
       "      <th>date</th>\n",
       "      <th>ordersPerDateA</th>\n",
       "      <th>revenuePerDateA</th>\n",
       "      <th>ordersPerDateB</th>\n",
       "      <th>revenuePerDateB</th>\n",
       "      <th>ordersCumulativeA</th>\n",
       "      <th>revenueCumulativeA</th>\n",
       "      <th>ordersCumulativeB</th>\n",
       "      <th>revenueCumulativeB</th>\n",
       "      <th>visitorsPerDateA</th>\n",
       "      <th>visitorsPerDateB</th>\n",
       "      <th>visitorsCumulativeA</th>\n",
       "      <th>visitorsCumulativeB</th>\n",
       "    </tr>\n",
       "  </thead>\n",
       "  <tbody>\n",
       "    <tr>\n",
       "      <th>0</th>\n",
       "      <td>2019-08-01</td>\n",
       "      <td>24</td>\n",
       "      <td>148579</td>\n",
       "      <td>21</td>\n",
       "      <td>101217</td>\n",
       "      <td>24</td>\n",
       "      <td>148579</td>\n",
       "      <td>21</td>\n",
       "      <td>101217</td>\n",
       "      <td>719</td>\n",
       "      <td>713</td>\n",
       "      <td>719</td>\n",
       "      <td>713</td>\n",
       "    </tr>\n",
       "    <tr>\n",
       "      <th>1</th>\n",
       "      <td>2019-08-02</td>\n",
       "      <td>20</td>\n",
       "      <td>93822</td>\n",
       "      <td>24</td>\n",
       "      <td>165531</td>\n",
       "      <td>44</td>\n",
       "      <td>242401</td>\n",
       "      <td>45</td>\n",
       "      <td>266748</td>\n",
       "      <td>619</td>\n",
       "      <td>581</td>\n",
       "      <td>1338</td>\n",
       "      <td>1294</td>\n",
       "    </tr>\n",
       "    <tr>\n",
       "      <th>2</th>\n",
       "      <td>2019-08-03</td>\n",
       "      <td>24</td>\n",
       "      <td>112473</td>\n",
       "      <td>16</td>\n",
       "      <td>114248</td>\n",
       "      <td>68</td>\n",
       "      <td>354874</td>\n",
       "      <td>61</td>\n",
       "      <td>380996</td>\n",
       "      <td>507</td>\n",
       "      <td>509</td>\n",
       "      <td>1845</td>\n",
       "      <td>1803</td>\n",
       "    </tr>\n",
       "    <tr>\n",
       "      <th>3</th>\n",
       "      <td>2019-08-04</td>\n",
       "      <td>16</td>\n",
       "      <td>70825</td>\n",
       "      <td>17</td>\n",
       "      <td>108571</td>\n",
       "      <td>84</td>\n",
       "      <td>425699</td>\n",
       "      <td>78</td>\n",
       "      <td>489567</td>\n",
       "      <td>717</td>\n",
       "      <td>770</td>\n",
       "      <td>2562</td>\n",
       "      <td>2573</td>\n",
       "    </tr>\n",
       "    <tr>\n",
       "      <th>4</th>\n",
       "      <td>2019-08-05</td>\n",
       "      <td>25</td>\n",
       "      <td>124218</td>\n",
       "      <td>23</td>\n",
       "      <td>92428</td>\n",
       "      <td>109</td>\n",
       "      <td>549917</td>\n",
       "      <td>101</td>\n",
       "      <td>581995</td>\n",
       "      <td>756</td>\n",
       "      <td>707</td>\n",
       "      <td>3318</td>\n",
       "      <td>3280</td>\n",
       "    </tr>\n",
       "  </tbody>\n",
       "</table>\n",
       "</div>"
      ],
      "text/plain": [
       "        date  ordersPerDateA  revenuePerDateA  ordersPerDateB  \\\n",
       "0 2019-08-01              24           148579              21   \n",
       "1 2019-08-02              20            93822              24   \n",
       "2 2019-08-03              24           112473              16   \n",
       "3 2019-08-04              16            70825              17   \n",
       "4 2019-08-05              25           124218              23   \n",
       "\n",
       "   revenuePerDateB  ordersCumulativeA  revenueCumulativeA  ordersCumulativeB  \\\n",
       "0           101217                 24              148579                 21   \n",
       "1           165531                 44              242401                 45   \n",
       "2           114248                 68              354874                 61   \n",
       "3           108571                 84              425699                 78   \n",
       "4            92428                109              549917                101   \n",
       "\n",
       "   revenueCumulativeB  visitorsPerDateA  visitorsPerDateB  \\\n",
       "0              101217               719               713   \n",
       "1              266748               619               581   \n",
       "2              380996               507               509   \n",
       "3              489567               717               770   \n",
       "4              581995               756               707   \n",
       "\n",
       "   visitorsCumulativeA  visitorsCumulativeB  \n",
       "0                  719                  713  \n",
       "1                 1338                 1294  \n",
       "2                 1845                 1803  \n",
       "3                 2562                 2573  \n",
       "4                 3318                 3280  "
      ]
     },
     "metadata": {},
     "output_type": "display_data"
    },
    {
     "name": "stdout",
     "output_type": "stream",
     "text": [
      "P-value: 0.01679\n",
      "Relative increase in the average number of Group B orders: 0.138\n"
     ]
    }
   ],
   "source": [
    "# statistical significance of differences in the average number of orders per visitor between groups based on \"raw\" data\n",
    "\n",
    "visitorsADaily = visitors[visitors['group'] == 'A'][['date', 'visitors']]\n",
    "visitorsADaily.columns = ['date', 'visitorsPerDateA']\n",
    "\n",
    "visitorsACumulative = visitorsADaily.apply(\n",
    "    lambda x: visitorsADaily[visitorsADaily['date'] <= x['date']].agg(\n",
    "        {'date': 'max', 'visitorsPerDateA': 'sum'}\n",
    "    ),\n",
    "    axis=1,\n",
    ")\n",
    "visitorsACumulative.columns = ['date', 'visitorsCumulativeA']\n",
    "\n",
    "visitorsBDaily = visitors[visitors['group'] == 'B'][['date', 'visitors']]\n",
    "visitorsBDaily.columns = ['date', 'visitorsPerDateB']\n",
    "\n",
    "visitorsBCumulative = visitorsBDaily.apply(\n",
    "    lambda x: visitorsBDaily[visitorsBDaily['date'] <= x['date']].agg(\n",
    "        {'date': 'max', 'visitorsPerDateB': 'sum'}\n",
    "    ),\n",
    "    axis=1,\n",
    ")\n",
    "visitorsBCumulative.columns = ['date', 'visitorsCumulativeB']\n",
    "\n",
    "ordersADaily = (\n",
    "    orders[orders['group'] == 'A'][['date', 'transactionId', 'visitorId', 'revenue']]\n",
    "    .groupby('date', as_index=False)\n",
    "    .agg({'transactionId': pd.Series.nunique, 'revenue': 'sum'})\n",
    ")\n",
    "ordersADaily.columns = ['date', 'ordersPerDateA', 'revenuePerDateA']\n",
    "\n",
    "ordersACumulative = ordersADaily.apply(\n",
    "    lambda x: ordersADaily[ordersADaily['date'] <= x['date']].agg(\n",
    "        {'date': 'max', 'ordersPerDateA': 'sum', 'revenuePerDateA': 'sum'}\n",
    "    ),\n",
    "    axis=1,\n",
    ").sort_values(by=['date'])\n",
    "ordersACumulative.columns = [\n",
    "    'date',\n",
    "    'ordersCumulativeA',\n",
    "    'revenueCumulativeA',\n",
    "]\n",
    "\n",
    "ordersBDaily = (\n",
    "    orders[orders['group'] == 'B'][['date', 'transactionId', 'visitorId', 'revenue']]\n",
    "    .groupby('date', as_index=False)\n",
    "    .agg({'transactionId': pd.Series.nunique, 'revenue': 'sum'})\n",
    ")\n",
    "ordersBDaily.columns = ['date', 'ordersPerDateB', 'revenuePerDateB']\n",
    "\n",
    "ordersBCumulative = ordersBDaily.apply(\n",
    "    lambda x: ordersBDaily[ordersBDaily['date'] <= x['date']].agg(\n",
    "        {'date': 'max', 'ordersPerDateB': 'sum', 'revenuePerDateB': 'sum'}\n",
    "    ),\n",
    "    axis=1,\n",
    ").sort_values(by=['date'])\n",
    "ordersBCumulative.columns = [\n",
    "    'date',\n",
    "    'ordersCumulativeB',\n",
    "    'revenueCumulativeB',\n",
    "]\n",
    "\n",
    "data = (\n",
    "    ordersADaily.merge(\n",
    "        ordersBDaily, left_on='date', right_on='date', how='left'\n",
    "    )\n",
    "    .merge(ordersACumulative, left_on='date', right_on='date', how='left')\n",
    "    .merge(ordersBCumulative, left_on='date', right_on='date', how='left')\n",
    "    .merge(visitorsADaily, left_on='date', right_on='date', how='left')\n",
    "    .merge(visitorsBDaily, left_on='date', right_on='date', how='left')\n",
    "    .merge(visitorsACumulative, left_on='date', right_on='date', how='left')\n",
    "    .merge(visitorsBCumulative, left_on='date', right_on='date', how='left')\n",
    ")\n",
    "\n",
    "display(data.head(5))\n",
    "\n",
    "ordersByUsersA = (\n",
    "    orders[orders['group'] == 'A']\n",
    "    .groupby('visitorId', as_index=False)\n",
    "    .agg({'transactionId': pd.Series.nunique})\n",
    ")\n",
    "ordersByUsersA.columns = ['userId', 'orders']\n",
    "\n",
    "ordersByUsersB = (\n",
    "    orders[orders['group'] == 'B']\n",
    "    .groupby('visitorId', as_index=False)\n",
    "    .agg({'transactionId': pd.Series.nunique})\n",
    ")\n",
    "ordersByUsersB.columns = ['userId', 'orders'] \n",
    "\n",
    "sampleA = pd.concat([ordersByUsersA['orders'],pd.Series(0, index=np.arange(data['visitorsPerDateA'].sum() - len(ordersByUsersA['orders'])), name='orders')],axis=0)\n",
    "\n",
    "sampleB = pd.concat([ordersByUsersB['orders'],pd.Series(0, index=np.arange(data['visitorsPerDateB'].sum() - len(ordersByUsersB['orders'])), name='orders')],axis=0)\n",
    "\n",
    "print(\"P-value: {0:.5f}\".format(stats.mannwhitneyu(sampleA, sampleB)[1]))\n",
    "\n",
    "print(\"Relative increase in the average number of Group B orders: {0:.3f}\".format(sampleB.mean() / sampleA.mean() - 1))"
   ]
  },
  {
   "cell_type": "markdown",
   "metadata": {},
   "source": [
    "P-value is less than 0.05 - we conclude that there are statistically significant differences in the average number of orders per visitor between the groups in the \"raw\" data. "
   ]
  },
  {
   "cell_type": "markdown",
   "metadata": {},
   "source": [
    "Let's formulate hypotheses on average check for raw data:\n",
    "- **H0**: there is no difference in the average check between groups A and B\n",
    "- **H1**: there are differences in the average check between groups A and B\n",
    "\n",
    "Significance level α = 0.05"
   ]
  },
  {
   "cell_type": "code",
   "execution_count": 34,
   "metadata": {},
   "outputs": [
    {
     "name": "stdout",
     "output_type": "stream",
     "text": [
      "P-value: 0.729\n",
      "Relative check differences between groups: 0.259\n"
     ]
    }
   ],
   "source": [
    "print('P-value: {0:.3f}'.format(stats.mannwhitneyu(orders[orders['group']=='A']['revenue'], orders[orders['group']=='B']['revenue'])[1]))\n",
    "print('Relative check differences between groups: {0:.3f}'.format(orders[orders['group']=='B']['revenue'].mean()/orders[orders['group']=='A']['revenue'].mean()-1))"
   ]
  },
  {
   "cell_type": "markdown",
   "metadata": {},
   "source": [
    "P-value is greater than 0.05 - we conclude that there are no statistically significant differences between the groups in the \"raw\" data. The relative difference of the check between the groups is ca. 26%."
   ]
  },
  {
   "cell_type": "code",
   "execution_count": 35,
   "metadata": {},
   "outputs": [],
   "source": [
    "# variables that will filter out outliers in the number of orders and revenue\n",
    "outlier_orders = np.percentile(ordersByUsers['orders'], 99)\n",
    "outlier_revenues = np.percentile(orders['revenue'], 99)"
   ]
  },
  {
   "cell_type": "code",
   "execution_count": 36,
   "metadata": {},
   "outputs": [
    {
     "data": {
      "text/plain": [
       "1099     148427295\n",
       "949      887908475\n",
       "744      888512513\n",
       "1103    1164614297\n",
       "1136    1307669133\n",
       "dtype: int64"
      ]
     },
     "execution_count": 36,
     "metadata": {},
     "output_type": "execute_result"
    }
   ],
   "source": [
    "# abnormalUsers table with outliers from users\n",
    "\n",
    "usersWithManyOrders = pd.concat(\n",
    "    [\n",
    "        ordersByUsersA[ordersByUsersA['orders'] > outlier_orders]['userId'],\n",
    "        ordersByUsersB[ordersByUsersB['orders'] > outlier_orders]['userId'],\n",
    "    ],\n",
    "    axis=0,\n",
    ")\n",
    "\n",
    "usersWithExpensiveOrders = orders[orders['revenue'] > outlier_revenues]['visitorId']\n",
    "\n",
    "abnormalUsers = (\n",
    "    pd.concat([usersWithManyOrders, usersWithExpensiveOrders], axis=0)\n",
    "    .drop_duplicates()\n",
    "    .sort_values()\n",
    ")\n",
    "\n",
    "abnormalUsers.head(5)"
   ]
  },
  {
   "cell_type": "markdown",
   "metadata": {},
   "source": [
    "Let's formulate similar hypotheses for the average number of orders per visitor for the filtered data:\n",
    "- **H0**: there are no differences in the number of orders per visitor between groups A and B\n",
    "- **H1**: there are differences in the number of orders per visitor between groups A and B.\n",
    "\n",
    "Significance level α = 0.05"
   ]
  },
  {
   "cell_type": "code",
   "execution_count": 37,
   "metadata": {},
   "outputs": [
    {
     "name": "stdout",
     "output_type": "stream",
     "text": [
      "P-value: 0.01438\n",
      "Relative growth in the average number of Group B orders in the cleaned data: 0.153\n"
     ]
    }
   ],
   "source": [
    "# statistical significance of differences in the average number of orders per visitor between groups on \"clean\" data\n",
    "\n",
    "sampleAFiltered = pd.concat(\n",
    "    [\n",
    "        ordersByUsersA[\n",
    "            np.logical_not(ordersByUsersA['userId'].isin(abnormalUsers))\n",
    "        ]['orders'],\n",
    "        pd.Series(\n",
    "            0,\n",
    "            index=np.arange(\n",
    "                data['visitorsPerDateA'].sum() - len(ordersByUsersA['orders'])\n",
    "            ),\n",
    "            name='orders',\n",
    "        ),\n",
    "    ],\n",
    "    axis=0,\n",
    ")\n",
    "\n",
    "sampleBFiltered = pd.concat(\n",
    "    [\n",
    "        ordersByUsersB[\n",
    "            np.logical_not(ordersByUsersB['userId'].isin(abnormalUsers))\n",
    "        ]['orders'],\n",
    "        pd.Series(\n",
    "            0,\n",
    "            index=np.arange(\n",
    "                data['visitorsPerDateB'].sum() - len(ordersByUsersB['orders'])\n",
    "            ),\n",
    "            name='orders',\n",
    "        ),\n",
    "    ],\n",
    "    axis=0,\n",
    ")\n",
    "\n",
    "print('P-value: {0:.5f}'.format(stats.mannwhitneyu(sampleAFiltered, sampleBFiltered)[1]))\n",
    "print('Relative growth in the average number of Group B orders in the cleaned data: {0:.3f}'.format(sampleBFiltered.mean()/sampleAFiltered.mean()-1))"
   ]
  },
  {
   "cell_type": "markdown",
   "metadata": {},
   "source": [
    "The P-value is again less than 0.05 - we conclude that there are also statistically significant differences in the average number of orders per visitor between the groups in the \"cleaned\" data. "
   ]
  },
  {
   "cell_type": "markdown",
   "metadata": {},
   "source": [
    "Let's formulate similar hypotheses on the average check for the filtered data:\n",
    "- **H0**: there are no differences in the average check between groups A and B\n",
    "- **H1**: there are differences in the average check between groups A and B.\n",
    "\n",
    "Significance level α = 0.05\n"
   ]
  },
  {
   "cell_type": "code",
   "execution_count": 38,
   "metadata": {},
   "outputs": [
    {
     "name": "stdout",
     "output_type": "stream",
     "text": [
      "P-value: 0.851\n",
      "Relative check differences between groups: -0.006\n"
     ]
    }
   ],
   "source": [
    "#  statistical significance of differences in average check between groups based on \"clean\" data\n",
    "print(\n",
    "    'P-value: {0:.3f}'.format(\n",
    "        stats.mannwhitneyu(\n",
    "            orders[\n",
    "                np.logical_and(\n",
    "                    orders['group'] == 'A',\n",
    "                    np.logical_not(orders['visitorId'].isin(abnormalUsers)),\n",
    "                )\n",
    "            ]['revenue'],\n",
    "            orders[\n",
    "                np.logical_and(\n",
    "                    orders['group'] == 'B',\n",
    "                    np.logical_not(orders['visitorId'].isin(abnormalUsers)),\n",
    "                )\n",
    "            ]['revenue'],\n",
    "        )[1]\n",
    "    )\n",
    ")\n",
    "\n",
    "print(\n",
    "    \"Relative check differences between groups: {0:.3f}\".format(\n",
    "        orders[\n",
    "            np.logical_and(\n",
    "                orders['group'] == 'B',\n",
    "                np.logical_not(orders['visitorId'].isin(abnormalUsers)),\n",
    "            )\n",
    "        ]['revenue'].mean()\n",
    "        / orders[\n",
    "            np.logical_and(\n",
    "                orders['group'] == 'A',\n",
    "                np.logical_not(orders['visitorId'].isin(abnormalUsers)),\n",
    "            )\n",
    "        ]['revenue'].mean()\n",
    "        - 1\n",
    "    )\n",
    ")"
   ]
  },
  {
   "cell_type": "markdown",
   "metadata": {},
   "source": [
    "P-value is greater than 0.05 - we conclude that there are no statistically significant differences between the groups in the \"cleaned\" data. At the same time, the relative difference of the check between the groups has decreased and is ca. 0,2%."
   ]
  },
  {
   "cell_type": "markdown",
   "metadata": {},
   "source": [
    "## Interpreting the results of the test"
   ]
  },
  {
   "cell_type": "markdown",
   "metadata": {},
   "source": [
    "Based on the A/B test conducted, it is recommended that the test be stopped with Group B as the winner of the test.\n",
    "\n",
    "This decision is based on the following findings of the study:\n",
    "\n",
    "1. The conversion rate of group B was consistently higher than that of group A almost throughout the entire test. Statistical significance in the difference in the average number of orders per visitor was found in both raw and cleaned data.\n",
    "\n",
    "2. No statistical significance was found in the differences in the average check in either the raw or cleaned data. "
   ]
  },
  {
   "cell_type": "code",
   "execution_count": null,
   "metadata": {},
   "outputs": [],
   "source": []
  }
 ],
 "metadata": {
  "ExecuteTimeLog": [
   {
    "duration": 460,
    "start_time": "2023-07-28T13:38:37.013Z"
   },
   {
    "duration": 68,
    "start_time": "2023-07-28T13:38:50.366Z"
   },
   {
    "duration": 16,
    "start_time": "2023-07-28T13:38:56.728Z"
   },
   {
    "duration": 9,
    "start_time": "2023-07-28T13:39:06.093Z"
   },
   {
    "duration": 28,
    "start_time": "2023-07-28T13:41:19.041Z"
   },
   {
    "duration": 13,
    "start_time": "2023-07-28T13:41:22.838Z"
   },
   {
    "duration": 8,
    "start_time": "2023-07-28T13:42:48.237Z"
   },
   {
    "duration": 11,
    "start_time": "2023-07-28T13:43:27.546Z"
   },
   {
    "duration": 5,
    "start_time": "2023-07-28T13:44:40.060Z"
   },
   {
    "duration": 12,
    "start_time": "2023-07-28T13:44:42.659Z"
   },
   {
    "duration": 270,
    "start_time": "2023-07-28T13:45:38.842Z"
   },
   {
    "duration": 5,
    "start_time": "2023-07-28T13:45:45.694Z"
   },
   {
    "duration": 17,
    "start_time": "2023-07-28T13:45:59.235Z"
   },
   {
    "duration": 6,
    "start_time": "2023-07-28T13:46:47.718Z"
   },
   {
    "duration": 19,
    "start_time": "2023-07-28T13:46:49.094Z"
   },
   {
    "duration": 45,
    "start_time": "2023-07-29T10:35:16.367Z"
   },
   {
    "duration": 364,
    "start_time": "2023-07-29T10:35:22.493Z"
   },
   {
    "duration": 90,
    "start_time": "2023-07-29T10:35:22.859Z"
   },
   {
    "duration": 18,
    "start_time": "2023-07-29T10:35:22.951Z"
   },
   {
    "duration": 10,
    "start_time": "2023-07-29T10:35:22.972Z"
   },
   {
    "duration": 12,
    "start_time": "2023-07-29T10:35:22.984Z"
   },
   {
    "duration": 12,
    "start_time": "2023-07-29T10:35:22.998Z"
   },
   {
    "duration": 5,
    "start_time": "2023-07-29T10:35:23.012Z"
   },
   {
    "duration": 13,
    "start_time": "2023-07-29T10:35:31.279Z"
   },
   {
    "duration": 11,
    "start_time": "2023-07-29T10:36:30.471Z"
   },
   {
    "duration": 13,
    "start_time": "2023-07-29T10:36:38.998Z"
   },
   {
    "duration": 46,
    "start_time": "2023-07-31T10:50:32.861Z"
   },
   {
    "duration": 369,
    "start_time": "2023-07-31T10:50:39.818Z"
   },
   {
    "duration": 69,
    "start_time": "2023-07-31T10:50:40.189Z"
   },
   {
    "duration": 19,
    "start_time": "2023-07-31T10:50:40.262Z"
   },
   {
    "duration": 7,
    "start_time": "2023-07-31T10:50:40.284Z"
   },
   {
    "duration": 18,
    "start_time": "2023-07-31T10:50:40.293Z"
   },
   {
    "duration": 25,
    "start_time": "2023-07-31T10:50:40.313Z"
   },
   {
    "duration": 35,
    "start_time": "2023-07-31T10:50:40.341Z"
   },
   {
    "duration": 79,
    "start_time": "2023-07-31T10:50:40.378Z"
   },
   {
    "duration": 60,
    "start_time": "2023-07-31T10:50:49.407Z"
   },
   {
    "duration": 67,
    "start_time": "2023-07-31T10:51:39.954Z"
   },
   {
    "duration": 31,
    "start_time": "2023-07-31T10:51:45.903Z"
   },
   {
    "duration": 52,
    "start_time": "2023-07-31T10:53:26.812Z"
   },
   {
    "duration": 34,
    "start_time": "2023-07-31T10:53:29.862Z"
   },
   {
    "duration": 12,
    "start_time": "2023-07-31T11:05:27.807Z"
   },
   {
    "duration": 7,
    "start_time": "2023-07-31T11:05:32.793Z"
   },
   {
    "duration": 11,
    "start_time": "2023-07-31T11:05:48.418Z"
   },
   {
    "duration": 16,
    "start_time": "2023-07-31T11:06:00.554Z"
   },
   {
    "duration": 9,
    "start_time": "2023-07-31T11:06:22.354Z"
   },
   {
    "duration": 6,
    "start_time": "2023-07-31T11:06:26.882Z"
   },
   {
    "duration": 9,
    "start_time": "2023-07-31T11:08:45.345Z"
   },
   {
    "duration": 6,
    "start_time": "2023-07-31T11:09:29.468Z"
   },
   {
    "duration": 8,
    "start_time": "2023-07-31T11:10:52.756Z"
   },
   {
    "duration": 7,
    "start_time": "2023-07-31T11:11:29.350Z"
   },
   {
    "duration": 13,
    "start_time": "2023-07-31T11:11:50.006Z"
   },
   {
    "duration": 5,
    "start_time": "2023-07-31T11:13:19.868Z"
   },
   {
    "duration": 67,
    "start_time": "2023-07-31T11:13:36.766Z"
   },
   {
    "duration": 12,
    "start_time": "2023-07-31T11:13:41.846Z"
   },
   {
    "duration": 7,
    "start_time": "2023-07-31T11:14:17.750Z"
   },
   {
    "duration": 14,
    "start_time": "2023-07-31T11:14:35.280Z"
   },
   {
    "duration": 10,
    "start_time": "2023-07-31T11:15:13.382Z"
   },
   {
    "duration": 4,
    "start_time": "2023-07-31T11:15:58.950Z"
   },
   {
    "duration": 13,
    "start_time": "2023-07-31T11:17:00.904Z"
   },
   {
    "duration": 74,
    "start_time": "2023-07-31T11:29:41.046Z"
   },
   {
    "duration": 90,
    "start_time": "2023-07-31T11:29:53.150Z"
   },
   {
    "duration": 4,
    "start_time": "2023-07-31T11:30:05.042Z"
   },
   {
    "duration": 10,
    "start_time": "2023-07-31T11:30:27.777Z"
   },
   {
    "duration": 4,
    "start_time": "2023-07-31T11:31:02.050Z"
   },
   {
    "duration": 11,
    "start_time": "2023-07-31T11:31:03.646Z"
   },
   {
    "duration": 7,
    "start_time": "2023-07-31T11:31:14.903Z"
   },
   {
    "duration": 10,
    "start_time": "2023-07-31T11:31:22.974Z"
   },
   {
    "duration": 11,
    "start_time": "2023-07-31T11:32:10.373Z"
   },
   {
    "duration": 4,
    "start_time": "2023-07-31T11:32:22.252Z"
   },
   {
    "duration": 9,
    "start_time": "2023-07-31T11:32:23.650Z"
   },
   {
    "duration": 14,
    "start_time": "2023-07-31T11:33:13.457Z"
   },
   {
    "duration": 19,
    "start_time": "2023-07-31T11:33:14.606Z"
   },
   {
    "duration": 4,
    "start_time": "2023-07-31T11:34:22.908Z"
   },
   {
    "duration": 19,
    "start_time": "2023-07-31T11:34:30.461Z"
   },
   {
    "duration": 8,
    "start_time": "2023-07-31T11:35:29.383Z"
   },
   {
    "duration": 7,
    "start_time": "2023-07-31T11:35:42.449Z"
   },
   {
    "duration": 12,
    "start_time": "2023-07-31T11:36:13.754Z"
   },
   {
    "duration": 13,
    "start_time": "2023-07-31T11:36:47.194Z"
   },
   {
    "duration": 6,
    "start_time": "2023-07-31T13:06:20.986Z"
   },
   {
    "duration": 10,
    "start_time": "2023-07-31T13:06:37.286Z"
   },
   {
    "duration": 5,
    "start_time": "2023-07-31T13:12:57.497Z"
   },
   {
    "duration": 5,
    "start_time": "2023-07-31T13:13:56.842Z"
   },
   {
    "duration": 8,
    "start_time": "2023-07-31T13:14:07.254Z"
   },
   {
    "duration": 6,
    "start_time": "2023-07-31T13:14:16.545Z"
   },
   {
    "duration": 6,
    "start_time": "2023-07-31T13:14:20.309Z"
   },
   {
    "duration": 27,
    "start_time": "2023-07-31T13:20:24.755Z"
   },
   {
    "duration": 15,
    "start_time": "2023-07-31T13:20:50.001Z"
   },
   {
    "duration": 10,
    "start_time": "2023-07-31T13:21:11.955Z"
   },
   {
    "duration": 400,
    "start_time": "2023-07-31T20:37:17.107Z"
   },
   {
    "duration": 70,
    "start_time": "2023-07-31T20:37:17.509Z"
   },
   {
    "duration": 21,
    "start_time": "2023-07-31T20:37:17.581Z"
   },
   {
    "duration": 6,
    "start_time": "2023-07-31T20:37:17.604Z"
   },
   {
    "duration": 29,
    "start_time": "2023-07-31T20:37:17.613Z"
   },
   {
    "duration": 9,
    "start_time": "2023-07-31T20:37:17.644Z"
   },
   {
    "duration": 21,
    "start_time": "2023-07-31T20:37:17.655Z"
   },
   {
    "duration": 152,
    "start_time": "2023-07-31T20:37:17.678Z"
   },
   {
    "duration": 14,
    "start_time": "2023-07-31T20:37:17.833Z"
   },
   {
    "duration": 20,
    "start_time": "2023-07-31T20:37:17.849Z"
   },
   {
    "duration": 21,
    "start_time": "2023-07-31T20:37:17.870Z"
   },
   {
    "duration": 65,
    "start_time": "2023-07-31T20:37:17.893Z"
   },
   {
    "duration": 14,
    "start_time": "2023-07-31T20:37:17.959Z"
   },
   {
    "duration": 113,
    "start_time": "2023-07-31T20:37:17.976Z"
   },
   {
    "duration": 28,
    "start_time": "2023-07-31T20:37:18.091Z"
   },
   {
    "duration": 8,
    "start_time": "2023-07-31T20:37:18.121Z"
   },
   {
    "duration": 12,
    "start_time": "2023-07-31T20:37:18.131Z"
   },
   {
    "duration": 34,
    "start_time": "2023-07-31T20:37:35.557Z"
   },
   {
    "duration": 22,
    "start_time": "2023-07-31T20:39:30.508Z"
   },
   {
    "duration": 4,
    "start_time": "2023-07-31T20:39:53.901Z"
   },
   {
    "duration": 9,
    "start_time": "2023-07-31T20:44:11.960Z"
   },
   {
    "duration": 9,
    "start_time": "2023-07-31T20:45:40.832Z"
   },
   {
    "duration": 6,
    "start_time": "2023-07-31T20:46:39.338Z"
   },
   {
    "duration": 8,
    "start_time": "2023-07-31T20:47:17.948Z"
   },
   {
    "duration": 18,
    "start_time": "2023-07-31T20:47:29.856Z"
   },
   {
    "duration": 16,
    "start_time": "2023-07-31T20:48:25.503Z"
   },
   {
    "duration": 8,
    "start_time": "2023-07-31T20:48:38.152Z"
   },
   {
    "duration": 5,
    "start_time": "2023-07-31T20:48:56.838Z"
   },
   {
    "duration": 17,
    "start_time": "2023-07-31T20:49:13.668Z"
   },
   {
    "duration": 9,
    "start_time": "2023-07-31T20:49:37.021Z"
   },
   {
    "duration": 6,
    "start_time": "2023-07-31T20:49:41.617Z"
   },
   {
    "duration": 12,
    "start_time": "2023-07-31T20:50:21.717Z"
   },
   {
    "duration": 1622,
    "start_time": "2023-07-31T20:51:30.717Z"
   },
   {
    "duration": 12,
    "start_time": "2023-07-31T20:51:50.746Z"
   },
   {
    "duration": 10,
    "start_time": "2023-07-31T20:52:18.964Z"
   },
   {
    "duration": 5,
    "start_time": "2023-07-31T20:57:19.648Z"
   },
   {
    "duration": 4,
    "start_time": "2023-07-31T20:57:41.759Z"
   },
   {
    "duration": 11,
    "start_time": "2023-07-31T21:01:45.120Z"
   },
   {
    "duration": 4,
    "start_time": "2023-07-31T21:02:03.264Z"
   },
   {
    "duration": 29,
    "start_time": "2023-07-31T21:08:23.509Z"
   },
   {
    "duration": 37,
    "start_time": "2023-07-31T21:08:40.721Z"
   },
   {
    "duration": 31,
    "start_time": "2023-07-31T21:08:42.463Z"
   },
   {
    "duration": 16,
    "start_time": "2023-07-31T21:16:05.669Z"
   },
   {
    "duration": 10,
    "start_time": "2023-07-31T21:20:54.820Z"
   },
   {
    "duration": 10,
    "start_time": "2023-07-31T21:21:38.009Z"
   },
   {
    "duration": 13,
    "start_time": "2023-07-31T21:21:53.291Z"
   },
   {
    "duration": 18,
    "start_time": "2023-07-31T21:22:07.957Z"
   },
   {
    "duration": 57,
    "start_time": "2023-08-01T10:11:19.346Z"
   },
   {
    "duration": 458,
    "start_time": "2023-08-01T10:11:25.277Z"
   },
   {
    "duration": 61,
    "start_time": "2023-08-01T10:11:25.738Z"
   },
   {
    "duration": 18,
    "start_time": "2023-08-01T10:11:25.800Z"
   },
   {
    "duration": 22,
    "start_time": "2023-08-01T10:11:25.819Z"
   },
   {
    "duration": 75,
    "start_time": "2023-08-01T10:11:25.844Z"
   },
   {
    "duration": 20,
    "start_time": "2023-08-01T10:11:25.921Z"
   },
   {
    "duration": 28,
    "start_time": "2023-08-01T10:11:25.943Z"
   },
   {
    "duration": 110,
    "start_time": "2023-08-01T10:11:25.974Z"
   },
   {
    "duration": 60,
    "start_time": "2023-08-01T10:11:26.086Z"
   },
   {
    "duration": 31,
    "start_time": "2023-08-01T10:11:26.148Z"
   },
   {
    "duration": 26,
    "start_time": "2023-08-01T10:11:26.181Z"
   },
   {
    "duration": 7,
    "start_time": "2023-08-01T10:11:26.209Z"
   },
   {
    "duration": 72,
    "start_time": "2023-08-01T10:11:26.218Z"
   },
   {
    "duration": 63,
    "start_time": "2023-08-01T10:11:26.293Z"
   },
   {
    "duration": 29,
    "start_time": "2023-08-01T10:11:26.357Z"
   },
   {
    "duration": 29,
    "start_time": "2023-08-01T10:11:26.388Z"
   },
   {
    "duration": 5,
    "start_time": "2023-08-01T10:13:36.344Z"
   },
   {
    "duration": 75,
    "start_time": "2023-08-01T10:14:57.811Z"
   },
   {
    "duration": 9,
    "start_time": "2023-08-01T10:15:03.345Z"
   },
   {
    "duration": 4,
    "start_time": "2023-08-01T10:15:08.643Z"
   },
   {
    "duration": 512,
    "start_time": "2023-08-01T10:25:10.275Z"
   },
   {
    "duration": 474,
    "start_time": "2023-08-01T10:26:33.496Z"
   },
   {
    "duration": 9,
    "start_time": "2023-08-01T10:27:01.579Z"
   },
   {
    "duration": 7,
    "start_time": "2023-08-01T10:27:20.537Z"
   },
   {
    "duration": 29,
    "start_time": "2023-08-01T10:27:31.904Z"
   },
   {
    "duration": 23,
    "start_time": "2023-08-01T10:29:29.429Z"
   },
   {
    "duration": 22,
    "start_time": "2023-08-01T10:29:59.208Z"
   },
   {
    "duration": 164,
    "start_time": "2023-08-01T10:30:36.719Z"
   },
   {
    "duration": 125,
    "start_time": "2023-08-01T10:30:55.577Z"
   },
   {
    "duration": 16,
    "start_time": "2023-08-01T10:31:09.579Z"
   },
   {
    "duration": 810,
    "start_time": "2023-08-01T10:32:35.776Z"
   },
   {
    "duration": 12,
    "start_time": "2023-08-01T10:32:51.968Z"
   },
   {
    "duration": 746,
    "start_time": "2023-08-01T10:33:26.299Z"
   },
   {
    "duration": 748,
    "start_time": "2023-08-01T10:34:19.887Z"
   },
   {
    "duration": 27,
    "start_time": "2023-08-01T10:34:20.637Z"
   },
   {
    "duration": 11,
    "start_time": "2023-08-01T10:34:20.666Z"
   },
   {
    "duration": 6,
    "start_time": "2023-08-01T10:34:20.679Z"
   },
   {
    "duration": 16,
    "start_time": "2023-08-01T10:34:20.687Z"
   },
   {
    "duration": 15,
    "start_time": "2023-08-01T10:34:20.704Z"
   },
   {
    "duration": 32,
    "start_time": "2023-08-01T10:34:20.720Z"
   },
   {
    "duration": 57,
    "start_time": "2023-08-01T10:34:20.754Z"
   },
   {
    "duration": 22,
    "start_time": "2023-08-01T10:34:20.813Z"
   },
   {
    "duration": 26,
    "start_time": "2023-08-01T10:34:20.838Z"
   },
   {
    "duration": 15,
    "start_time": "2023-08-01T10:34:20.865Z"
   },
   {
    "duration": 14,
    "start_time": "2023-08-01T10:34:20.882Z"
   },
   {
    "duration": 16,
    "start_time": "2023-08-01T10:34:20.897Z"
   },
   {
    "duration": 43,
    "start_time": "2023-08-01T10:34:20.917Z"
   },
   {
    "duration": 8,
    "start_time": "2023-08-01T10:34:20.962Z"
   },
   {
    "duration": 14,
    "start_time": "2023-08-01T10:34:20.972Z"
   },
   {
    "duration": 25,
    "start_time": "2023-08-01T10:34:20.988Z"
   },
   {
    "duration": 11,
    "start_time": "2023-08-01T10:34:21.015Z"
   },
   {
    "duration": 259,
    "start_time": "2023-08-01T10:34:21.028Z"
   },
   {
    "duration": 148,
    "start_time": "2023-08-01T10:34:21.289Z"
   },
   {
    "duration": 15,
    "start_time": "2023-08-01T10:34:21.439Z"
   },
   {
    "duration": 7,
    "start_time": "2023-08-01T10:34:35.046Z"
   },
   {
    "duration": 3,
    "start_time": "2023-08-01T10:35:01.286Z"
   },
   {
    "duration": 8,
    "start_time": "2023-08-01T10:36:13.179Z"
   },
   {
    "duration": 265,
    "start_time": "2023-08-01T10:36:24.520Z"
   },
   {
    "duration": 188,
    "start_time": "2023-08-01T10:37:18.639Z"
   },
   {
    "duration": 183,
    "start_time": "2023-08-01T10:38:43.172Z"
   },
   {
    "duration": 246,
    "start_time": "2023-08-01T10:38:52.778Z"
   },
   {
    "duration": 172,
    "start_time": "2023-08-01T10:40:43.977Z"
   },
   {
    "duration": 186,
    "start_time": "2023-08-01T10:40:48.443Z"
   },
   {
    "duration": 183,
    "start_time": "2023-08-01T10:41:06.113Z"
   },
   {
    "duration": 215,
    "start_time": "2023-08-01T10:43:20.807Z"
   },
   {
    "duration": 185,
    "start_time": "2023-08-01T10:43:36.496Z"
   },
   {
    "duration": 183,
    "start_time": "2023-08-01T10:43:56.560Z"
   },
   {
    "duration": 7,
    "start_time": "2023-08-01T10:45:32.731Z"
   },
   {
    "duration": 290,
    "start_time": "2023-08-01T10:45:54.667Z"
   },
   {
    "duration": 288,
    "start_time": "2023-08-01T10:46:15.907Z"
   },
   {
    "duration": 314,
    "start_time": "2023-08-01T10:46:22.821Z"
   },
   {
    "duration": 296,
    "start_time": "2023-08-01T10:46:49.713Z"
   },
   {
    "duration": 1129,
    "start_time": "2023-08-02T13:35:16.474Z"
   },
   {
    "duration": 64,
    "start_time": "2023-08-02T13:35:17.606Z"
   },
   {
    "duration": 50,
    "start_time": "2023-08-02T13:35:17.672Z"
   },
   {
    "duration": 13,
    "start_time": "2023-08-02T13:35:17.724Z"
   },
   {
    "duration": 46,
    "start_time": "2023-08-02T13:35:17.738Z"
   },
   {
    "duration": 48,
    "start_time": "2023-08-02T13:35:17.785Z"
   },
   {
    "duration": 22,
    "start_time": "2023-08-02T13:35:17.835Z"
   },
   {
    "duration": 97,
    "start_time": "2023-08-02T13:35:17.859Z"
   },
   {
    "duration": 61,
    "start_time": "2023-08-02T13:35:17.958Z"
   },
   {
    "duration": 21,
    "start_time": "2023-08-02T13:35:18.022Z"
   },
   {
    "duration": 13,
    "start_time": "2023-08-02T13:35:18.045Z"
   },
   {
    "duration": 32,
    "start_time": "2023-08-02T13:35:18.059Z"
   },
   {
    "duration": 69,
    "start_time": "2023-08-02T13:35:18.092Z"
   },
   {
    "duration": 39,
    "start_time": "2023-08-02T13:35:18.163Z"
   },
   {
    "duration": 42,
    "start_time": "2023-08-02T13:35:18.204Z"
   },
   {
    "duration": 139,
    "start_time": "2023-08-02T13:35:18.248Z"
   },
   {
    "duration": 73,
    "start_time": "2023-08-02T13:35:18.388Z"
   },
   {
    "duration": 114,
    "start_time": "2023-08-02T13:35:18.463Z"
   },
   {
    "duration": 212,
    "start_time": "2023-08-02T13:35:18.578Z"
   },
   {
    "duration": 127,
    "start_time": "2023-08-02T13:35:18.791Z"
   },
   {
    "duration": 8,
    "start_time": "2023-08-02T13:35:18.919Z"
   },
   {
    "duration": 39,
    "start_time": "2023-08-02T13:35:18.929Z"
   },
   {
    "duration": 96,
    "start_time": "2023-08-02T13:35:18.970Z"
   },
   {
    "duration": 448,
    "start_time": "2023-08-02T13:35:19.068Z"
   },
   {
    "duration": 193,
    "start_time": "2023-08-02T13:35:19.518Z"
   },
   {
    "duration": 6,
    "start_time": "2023-08-02T13:35:19.713Z"
   },
   {
    "duration": 504,
    "start_time": "2023-08-02T13:35:19.721Z"
   },
   {
    "duration": 251,
    "start_time": "2023-08-02T13:35:20.228Z"
   },
   {
    "duration": 5,
    "start_time": "2023-08-02T13:35:56.429Z"
   },
   {
    "duration": 5,
    "start_time": "2023-08-02T13:36:11.649Z"
   },
   {
    "duration": 5,
    "start_time": "2023-08-02T13:36:18.747Z"
   },
   {
    "duration": 184,
    "start_time": "2023-08-02T13:38:10.846Z"
   },
   {
    "duration": 177,
    "start_time": "2023-08-02T13:38:28.438Z"
   },
   {
    "duration": 251,
    "start_time": "2023-08-02T13:45:13.618Z"
   },
   {
    "duration": 286,
    "start_time": "2023-08-02T13:46:27.001Z"
   },
   {
    "duration": 711,
    "start_time": "2023-08-02T14:03:35.012Z"
   },
   {
    "duration": 31,
    "start_time": "2023-08-02T14:03:35.726Z"
   },
   {
    "duration": 59,
    "start_time": "2023-08-02T14:03:35.760Z"
   },
   {
    "duration": 74,
    "start_time": "2023-08-02T14:03:35.824Z"
   },
   {
    "duration": 76,
    "start_time": "2023-08-02T14:03:35.901Z"
   },
   {
    "duration": 71,
    "start_time": "2023-08-02T14:03:35.979Z"
   },
   {
    "duration": 36,
    "start_time": "2023-08-02T14:03:36.053Z"
   },
   {
    "duration": 52,
    "start_time": "2023-08-02T14:03:36.091Z"
   },
   {
    "duration": 4,
    "start_time": "2023-08-02T14:03:36.145Z"
   },
   {
    "duration": 57,
    "start_time": "2023-08-02T14:03:36.151Z"
   },
   {
    "duration": 52,
    "start_time": "2023-08-02T14:03:36.210Z"
   },
   {
    "duration": 26,
    "start_time": "2023-08-02T14:03:36.264Z"
   },
   {
    "duration": 19,
    "start_time": "2023-08-02T14:03:36.291Z"
   },
   {
    "duration": 33,
    "start_time": "2023-08-02T14:03:36.314Z"
   },
   {
    "duration": 44,
    "start_time": "2023-08-02T14:03:36.349Z"
   },
   {
    "duration": 125,
    "start_time": "2023-08-02T14:03:36.394Z"
   },
   {
    "duration": 22,
    "start_time": "2023-08-02T14:03:36.521Z"
   },
   {
    "duration": 21,
    "start_time": "2023-08-02T14:03:36.545Z"
   },
   {
    "duration": 24,
    "start_time": "2023-08-02T14:03:36.568Z"
   },
   {
    "duration": 194,
    "start_time": "2023-08-02T14:03:36.595Z"
   },
   {
    "duration": 126,
    "start_time": "2023-08-02T14:03:36.791Z"
   },
   {
    "duration": 58,
    "start_time": "2023-08-02T14:03:36.919Z"
   },
   {
    "duration": 177,
    "start_time": "2023-08-02T14:03:36.978Z"
   },
   {
    "duration": 136,
    "start_time": "2023-08-02T14:03:37.157Z"
   },
   {
    "duration": 382,
    "start_time": "2023-08-02T14:03:37.295Z"
   },
   {
    "duration": 208,
    "start_time": "2023-08-02T14:03:37.678Z"
   },
   {
    "duration": 6,
    "start_time": "2023-08-02T14:03:37.888Z"
   },
   {
    "duration": 324,
    "start_time": "2023-08-02T14:03:37.896Z"
   },
   {
    "duration": 261,
    "start_time": "2023-08-02T14:03:38.221Z"
   },
   {
    "duration": 294,
    "start_time": "2023-08-02T14:03:38.484Z"
   },
   {
    "duration": 185,
    "start_time": "2023-08-02T14:03:54.218Z"
   },
   {
    "duration": 267,
    "start_time": "2023-08-02T14:04:12.253Z"
   },
   {
    "duration": 293,
    "start_time": "2023-08-02T14:04:30.821Z"
   },
   {
    "duration": 12,
    "start_time": "2023-08-02T14:10:49.683Z"
   },
   {
    "duration": 7,
    "start_time": "2023-08-02T14:11:01.807Z"
   },
   {
    "duration": 13,
    "start_time": "2023-08-02T14:11:39.933Z"
   },
   {
    "duration": 117,
    "start_time": "2023-08-02T14:12:04.723Z"
   },
   {
    "duration": 108,
    "start_time": "2023-08-02T14:12:09.208Z"
   },
   {
    "duration": 6,
    "start_time": "2023-08-02T14:15:54.593Z"
   },
   {
    "duration": 124,
    "start_time": "2023-08-02T14:21:44.222Z"
   },
   {
    "duration": 131,
    "start_time": "2023-08-02T14:22:06.999Z"
   },
   {
    "duration": 5,
    "start_time": "2023-08-02T14:25:51.857Z"
   },
   {
    "duration": 8,
    "start_time": "2023-08-02T14:48:25.313Z"
   },
   {
    "duration": 404,
    "start_time": "2023-08-02T14:54:54.086Z"
   },
   {
    "duration": 482,
    "start_time": "2023-08-02T14:55:30.118Z"
   },
   {
    "duration": 353,
    "start_time": "2023-08-02T14:55:36.730Z"
   },
   {
    "duration": 12,
    "start_time": "2023-08-02T14:56:28.245Z"
   },
   {
    "duration": 52,
    "start_time": "2023-08-03T09:55:36.864Z"
   },
   {
    "duration": 1312,
    "start_time": "2023-08-03T09:55:47.893Z"
   },
   {
    "duration": 59,
    "start_time": "2023-08-03T09:55:49.208Z"
   },
   {
    "duration": 13,
    "start_time": "2023-08-03T09:55:49.269Z"
   },
   {
    "duration": 24,
    "start_time": "2023-08-03T09:55:49.284Z"
   },
   {
    "duration": 46,
    "start_time": "2023-08-03T09:55:49.311Z"
   },
   {
    "duration": 31,
    "start_time": "2023-08-03T09:55:49.359Z"
   },
   {
    "duration": 52,
    "start_time": "2023-08-03T09:55:49.392Z"
   },
   {
    "duration": 143,
    "start_time": "2023-08-03T09:55:49.446Z"
   },
   {
    "duration": 5,
    "start_time": "2023-08-03T09:55:49.591Z"
   },
   {
    "duration": 86,
    "start_time": "2023-08-03T09:55:49.598Z"
   },
   {
    "duration": 23,
    "start_time": "2023-08-03T09:55:49.686Z"
   },
   {
    "duration": 43,
    "start_time": "2023-08-03T09:55:49.711Z"
   },
   {
    "duration": 43,
    "start_time": "2023-08-03T09:55:49.756Z"
   },
   {
    "duration": 28,
    "start_time": "2023-08-03T09:55:49.803Z"
   },
   {
    "duration": 36,
    "start_time": "2023-08-03T09:55:49.833Z"
   },
   {
    "duration": 15,
    "start_time": "2023-08-03T09:55:49.870Z"
   },
   {
    "duration": 49,
    "start_time": "2023-08-03T09:55:49.887Z"
   },
   {
    "duration": 51,
    "start_time": "2023-08-03T09:55:49.938Z"
   },
   {
    "duration": 26,
    "start_time": "2023-08-03T09:55:49.990Z"
   },
   {
    "duration": 193,
    "start_time": "2023-08-03T09:55:50.018Z"
   },
   {
    "duration": 126,
    "start_time": "2023-08-03T09:55:50.213Z"
   },
   {
    "duration": 6,
    "start_time": "2023-08-03T09:55:50.341Z"
   },
   {
    "duration": 30,
    "start_time": "2023-08-03T09:55:50.349Z"
   },
   {
    "duration": 23,
    "start_time": "2023-08-03T09:55:50.381Z"
   },
   {
    "duration": 300,
    "start_time": "2023-08-03T09:55:50.405Z"
   },
   {
    "duration": 194,
    "start_time": "2023-08-03T09:55:50.706Z"
   },
   {
    "duration": 7,
    "start_time": "2023-08-03T09:55:50.902Z"
   },
   {
    "duration": 366,
    "start_time": "2023-08-03T09:55:50.911Z"
   },
   {
    "duration": 198,
    "start_time": "2023-08-03T09:55:51.279Z"
   },
   {
    "duration": 290,
    "start_time": "2023-08-03T09:55:51.478Z"
   },
   {
    "duration": 18,
    "start_time": "2023-08-03T09:55:51.770Z"
   },
   {
    "duration": 24,
    "start_time": "2023-08-03T09:55:51.790Z"
   },
   {
    "duration": 140,
    "start_time": "2023-08-03T09:55:51.816Z"
   },
   {
    "duration": 6,
    "start_time": "2023-08-03T09:55:51.958Z"
   },
   {
    "duration": 158,
    "start_time": "2023-08-03T09:55:51.965Z"
   },
   {
    "duration": 5,
    "start_time": "2023-08-03T09:55:52.125Z"
   },
   {
    "duration": 68,
    "start_time": "2023-08-03T09:55:52.132Z"
   },
   {
    "duration": 393,
    "start_time": "2023-08-03T09:55:52.202Z"
   },
   {
    "duration": 10,
    "start_time": "2023-08-03T09:55:52.597Z"
   },
   {
    "duration": 3362,
    "start_time": "2023-08-03T09:55:52.609Z"
   },
   {
    "duration": 2050,
    "start_time": "2023-08-03T09:58:42.830Z"
   },
   {
    "duration": 1717,
    "start_time": "2023-08-03T09:59:04.934Z"
   },
   {
    "duration": 9,
    "start_time": "2023-08-03T09:59:38.090Z"
   },
   {
    "duration": 11,
    "start_time": "2023-08-03T09:59:50.502Z"
   },
   {
    "duration": 33,
    "start_time": "2023-08-03T10:02:10.275Z"
   },
   {
    "duration": 2562,
    "start_time": "2023-08-03T10:04:09.714Z"
   },
   {
    "duration": 22,
    "start_time": "2023-08-03T10:04:45.023Z"
   },
   {
    "duration": 5,
    "start_time": "2023-08-03T10:21:22.941Z"
   },
   {
    "duration": 15,
    "start_time": "2023-08-03T10:22:20.635Z"
   },
   {
    "duration": 265,
    "start_time": "2023-08-03T10:25:45.513Z"
   },
   {
    "duration": 266,
    "start_time": "2023-08-03T10:27:51.394Z"
   },
   {
    "duration": 7,
    "start_time": "2023-08-03T10:27:52.525Z"
   },
   {
    "duration": 4,
    "start_time": "2023-08-03T10:34:36.218Z"
   },
   {
    "duration": 5,
    "start_time": "2023-08-03T10:34:48.720Z"
   },
   {
    "duration": 5,
    "start_time": "2023-08-03T10:35:08.780Z"
   },
   {
    "duration": 73,
    "start_time": "2023-08-05T13:05:55.150Z"
   },
   {
    "duration": 1693,
    "start_time": "2023-08-05T13:06:01.395Z"
   },
   {
    "duration": 98,
    "start_time": "2023-08-05T13:06:03.091Z"
   },
   {
    "duration": 40,
    "start_time": "2023-08-05T13:06:03.191Z"
   },
   {
    "duration": 54,
    "start_time": "2023-08-05T13:06:03.235Z"
   },
   {
    "duration": 26,
    "start_time": "2023-08-05T13:06:03.291Z"
   },
   {
    "duration": 6,
    "start_time": "2023-08-05T13:06:03.319Z"
   },
   {
    "duration": 23,
    "start_time": "2023-08-05T13:06:03.327Z"
   },
   {
    "duration": 190,
    "start_time": "2023-08-05T13:06:03.352Z"
   },
   {
    "duration": 93,
    "start_time": "2023-08-05T13:06:03.544Z"
   },
   {
    "duration": 41,
    "start_time": "2023-08-05T13:06:03.641Z"
   },
   {
    "duration": 35,
    "start_time": "2023-08-05T13:06:03.684Z"
   },
   {
    "duration": 14,
    "start_time": "2023-08-05T13:06:03.721Z"
   },
   {
    "duration": 6,
    "start_time": "2023-08-05T13:06:03.737Z"
   },
   {
    "duration": 46,
    "start_time": "2023-08-05T13:06:03.745Z"
   },
   {
    "duration": 13,
    "start_time": "2023-08-05T13:06:03.794Z"
   },
   {
    "duration": 34,
    "start_time": "2023-08-05T13:06:03.810Z"
   },
   {
    "duration": 385,
    "start_time": "2023-08-05T13:06:03.846Z"
   },
   {
    "duration": 9,
    "start_time": "2023-08-05T13:06:04.233Z"
   },
   {
    "duration": 37,
    "start_time": "2023-08-05T13:06:04.244Z"
   },
   {
    "duration": 397,
    "start_time": "2023-08-05T13:06:04.286Z"
   },
   {
    "duration": 261,
    "start_time": "2023-08-05T13:06:04.701Z"
   },
   {
    "duration": 26,
    "start_time": "2023-08-05T13:06:04.964Z"
   },
   {
    "duration": 345,
    "start_time": "2023-08-05T13:06:04.991Z"
   },
   {
    "duration": 229,
    "start_time": "2023-08-05T13:06:05.337Z"
   },
   {
    "duration": 322,
    "start_time": "2023-08-05T13:06:05.568Z"
   },
   {
    "duration": 19,
    "start_time": "2023-08-05T13:06:05.896Z"
   },
   {
    "duration": 14,
    "start_time": "2023-08-05T13:06:05.917Z"
   },
   {
    "duration": 162,
    "start_time": "2023-08-05T13:06:05.936Z"
   },
   {
    "duration": 7,
    "start_time": "2023-08-05T13:06:06.104Z"
   },
   {
    "duration": 158,
    "start_time": "2023-08-05T13:06:06.113Z"
   },
   {
    "duration": 7,
    "start_time": "2023-08-05T13:06:06.273Z"
   },
   {
    "duration": 11,
    "start_time": "2023-08-05T13:06:06.282Z"
   },
   {
    "duration": 487,
    "start_time": "2023-08-05T13:06:06.295Z"
   },
   {
    "duration": 13,
    "start_time": "2023-08-05T13:06:06.784Z"
   },
   {
    "duration": 15,
    "start_time": "2023-08-05T13:06:06.799Z"
   },
   {
    "duration": 18,
    "start_time": "2023-08-05T13:06:06.817Z"
   },
   {
    "duration": 29,
    "start_time": "2023-08-05T13:06:06.837Z"
   },
   {
    "duration": 42,
    "start_time": "2023-08-05T13:06:06.869Z"
   },
   {
    "duration": 15,
    "start_time": "2023-08-05T13:06:06.913Z"
   },
   {
    "duration": 26,
    "start_time": "2023-08-05T13:16:52.384Z"
   },
   {
    "duration": 366,
    "start_time": "2023-08-05T13:17:32.914Z"
   },
   {
    "duration": 332,
    "start_time": "2023-08-05T13:18:05.979Z"
   },
   {
    "duration": 147,
    "start_time": "2023-08-05T13:39:02.579Z"
   },
   {
    "duration": 46,
    "start_time": "2023-08-06T18:09:41.968Z"
   },
   {
    "duration": 1233,
    "start_time": "2023-08-06T18:09:49.310Z"
   },
   {
    "duration": 70,
    "start_time": "2023-08-06T18:09:50.545Z"
   },
   {
    "duration": 12,
    "start_time": "2023-08-06T18:09:50.617Z"
   },
   {
    "duration": 5,
    "start_time": "2023-08-06T18:09:50.631Z"
   },
   {
    "duration": 17,
    "start_time": "2023-08-06T18:09:50.637Z"
   },
   {
    "duration": 4,
    "start_time": "2023-08-06T18:09:50.656Z"
   },
   {
    "duration": 15,
    "start_time": "2023-08-06T18:09:50.661Z"
   },
   {
    "duration": 77,
    "start_time": "2023-08-06T18:09:50.678Z"
   },
   {
    "duration": 61,
    "start_time": "2023-08-06T18:09:50.756Z"
   },
   {
    "duration": 20,
    "start_time": "2023-08-06T18:09:50.820Z"
   },
   {
    "duration": 13,
    "start_time": "2023-08-06T18:09:50.841Z"
   },
   {
    "duration": 12,
    "start_time": "2023-08-06T18:09:50.855Z"
   },
   {
    "duration": 8,
    "start_time": "2023-08-06T18:09:50.869Z"
   },
   {
    "duration": 26,
    "start_time": "2023-08-06T18:09:50.878Z"
   },
   {
    "duration": 17,
    "start_time": "2023-08-06T18:09:50.905Z"
   },
   {
    "duration": 11,
    "start_time": "2023-08-06T18:09:50.924Z"
   },
   {
    "duration": 280,
    "start_time": "2023-08-06T18:09:50.936Z"
   },
   {
    "duration": 7,
    "start_time": "2023-08-06T18:09:51.217Z"
   },
   {
    "duration": 19,
    "start_time": "2023-08-06T18:09:51.225Z"
   },
   {
    "duration": 268,
    "start_time": "2023-08-06T18:09:51.245Z"
   },
   {
    "duration": 183,
    "start_time": "2023-08-06T18:09:51.515Z"
   },
   {
    "duration": 6,
    "start_time": "2023-08-06T18:09:51.700Z"
   },
   {
    "duration": 357,
    "start_time": "2023-08-06T18:09:51.707Z"
   },
   {
    "duration": 179,
    "start_time": "2023-08-06T18:09:52.065Z"
   },
   {
    "duration": 276,
    "start_time": "2023-08-06T18:09:52.246Z"
   },
   {
    "duration": 13,
    "start_time": "2023-08-06T18:09:52.523Z"
   },
   {
    "duration": 123,
    "start_time": "2023-08-06T18:09:52.537Z"
   },
   {
    "duration": 6,
    "start_time": "2023-08-06T18:09:52.664Z"
   },
   {
    "duration": 150,
    "start_time": "2023-08-06T18:09:52.672Z"
   },
   {
    "duration": 6,
    "start_time": "2023-08-06T18:09:52.824Z"
   },
   {
    "duration": 370,
    "start_time": "2023-08-06T18:09:52.832Z"
   },
   {
    "duration": 10,
    "start_time": "2023-08-06T18:09:53.204Z"
   },
   {
    "duration": 9,
    "start_time": "2023-08-06T18:09:53.216Z"
   },
   {
    "duration": 54,
    "start_time": "2023-08-06T18:09:53.227Z"
   },
   {
    "duration": 12,
    "start_time": "2023-08-06T18:09:53.283Z"
   },
   {
    "duration": 10,
    "start_time": "2023-08-06T18:10:23.464Z"
   },
   {
    "duration": 3,
    "start_time": "2023-08-06T18:11:10.519Z"
   },
   {
    "duration": 11,
    "start_time": "2023-08-06T18:39:46.110Z"
   },
   {
    "duration": 406,
    "start_time": "2023-08-06T18:53:06.585Z"
   },
   {
    "duration": 450,
    "start_time": "2023-08-06T19:00:01.477Z"
   },
   {
    "duration": 10,
    "start_time": "2023-08-06T19:02:41.391Z"
   },
   {
    "duration": 13,
    "start_time": "2023-08-06T19:03:01.725Z"
   },
   {
    "duration": 30,
    "start_time": "2023-08-06T19:04:24.632Z"
   },
   {
    "duration": 28,
    "start_time": "2023-08-06T19:05:19.097Z"
   },
   {
    "duration": 15,
    "start_time": "2023-08-06T19:06:22.005Z"
   },
   {
    "duration": 102,
    "start_time": "2023-08-06T19:08:38.881Z"
   },
   {
    "duration": 4,
    "start_time": "2023-08-06T19:09:17.107Z"
   },
   {
    "duration": 5,
    "start_time": "2023-08-06T19:10:06.264Z"
   },
   {
    "duration": 6,
    "start_time": "2023-08-06T19:10:20.496Z"
   },
   {
    "duration": 11,
    "start_time": "2023-08-06T19:11:18.322Z"
   },
   {
    "duration": 61,
    "start_time": "2023-08-06T19:13:09.384Z"
   },
   {
    "duration": 70,
    "start_time": "2023-08-06T19:14:43.131Z"
   }
  ],
  "kernelspec": {
   "display_name": "Python 3 (ipykernel)",
   "language": "python",
   "name": "python3"
  },
  "language_info": {
   "codemirror_mode": {
    "name": "ipython",
    "version": 3
   },
   "file_extension": ".py",
   "mimetype": "text/x-python",
   "name": "python",
   "nbconvert_exporter": "python",
   "pygments_lexer": "ipython3",
   "version": "3.9.12"
  },
  "toc": {
   "base_numbering": 1,
   "nav_menu": {},
   "number_sections": true,
   "sideBar": true,
   "skip_h1_title": true,
   "title_cell": "Table of Contents",
   "title_sidebar": "Contents",
   "toc_cell": false,
   "toc_position": {},
   "toc_section_display": true,
   "toc_window_display": false
  }
 },
 "nbformat": 4,
 "nbformat_minor": 2
}
