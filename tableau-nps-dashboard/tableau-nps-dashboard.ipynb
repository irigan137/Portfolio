{
 "cells": [
  {
   "cell_type": "markdown",
   "id": "8758a2dc",
   "metadata": {},
   "source": [
    "# **[Tableau dashboard for the current clients NPS level](https://public.tableau.com/app/profile/irina.ganina5744/viz/NPS_Dashboard_16825385674160/NPSDashboard)**"
   ]
  },
  {
   "cell_type": "code",
   "execution_count": 9,
   "id": "fc7efa54",
   "metadata": {},
   "outputs": [],
   "source": [
    "# importing libraries \n",
    "\n",
    "import os\n",
    "import pandas as pd\n",
    "import numpy as np\n",
    "\n",
    "from sqlalchemy import create_engine, text "
   ]
  },
  {
   "cell_type": "code",
   "execution_count": 13,
   "id": "0017f8e7",
   "metadata": {},
   "outputs": [],
   "source": [
    "# configuring the database connection\n",
    "\n",
    "path_to_db_local = 'telecomm_csi.db'\n",
    "path_to_db_platform = 'https:/datasets/telecomm_csi.db'\n",
    "path_to_db = None\n",
    "\n",
    "if os.path.exists(path_to_db_local):\n",
    "    path_to_db = path_to_db_local\n",
    "elif os.path.exists(path_to_db_platform):\n",
    "    path_to_db = path_to_db_platform\n",
    "else:\n",
    "    raise Exception('Файл с базой данных SQLite не найден!')\n",
    "\n",
    "if path_to_db:\n",
    "    engine = create_engine(f'sqlite:///{path_to_db}', echo=False)\n",
    "    conn = engine.connect()"
   ]
  },
  {
   "cell_type": "code",
   "execution_count": 14,
   "id": "84ebad43",
   "metadata": {},
   "outputs": [],
   "source": [
    "# sql query to form the dataframe\n",
    "\n",
    "query = text(\"\"\"\n",
    "WITH\n",
    "is_new AS (SELECT user_id,\n",
    "            CASE\n",
    "                WHEN lt_day < 366 THEN 'yes'\n",
    "                ELSE 'no'\n",
    "            END AS is_new\n",
    "            FROM user\n",
    "            WHERE lt_day IS NOT NULL),\n",
    "nps AS (SELECT user_id,\n",
    "            CASE\n",
    "                WHEN nps_score > 8 THEN 'promoter'\n",
    "                WHEN nps_score == 7 or nps_score == 8 THEN 'passive'\n",
    "                ELSE 'detractor'\n",
    "            END AS nps_group\n",
    "            FROM user\n",
    "            WHERE nps_score IS NOT NULL),\n",
    "gender AS (SELECT user_id,\n",
    "            CASE\n",
    "                WHEN gender_segment == 1 THEN 'female'\n",
    "                ELSE 'male'\n",
    "            END AS gender_segment\n",
    "            FROM user\n",
    "            WHERE gender_segment IS NOT NULL)\n",
    "                \n",
    "SELECT user.user_id,\n",
    "    user.lt_day,\n",
    "    is_new.is_new,\n",
    "    user.age,\n",
    "    gender.gender_segment,\n",
    "    user.os_name,\n",
    "    user.cpe_type_name,\n",
    "    location.country,\n",
    "    location.city,\n",
    "    age_segment.title AS age_segment,\n",
    "    traffic_segment.title AS traffic_segment,\n",
    "    lifetime_segment.title AS lifetime_segment,\n",
    "    user.nps_score,\n",
    "    nps.nps_group\n",
    "    \n",
    "FROM user LEFT JOIN location ON user.location_id = location.location_id\n",
    "    LEFT JOIN age_segment ON user.age_gr_id = age_segment.age_gr_id\n",
    "    LEFT JOIN traffic_segment ON user.tr_gr_id = traffic_segment.tr_gr_id\n",
    "    LEFT JOIN lifetime_segment ON user.lt_gr_id = lifetime_segment.lt_gr_id\n",
    "    LEFT JOIN is_new ON user.user_id = is_new.user_id\n",
    "    LEFT JOIN nps ON user.user_id = nps.user_id\n",
    "    LEFT JOIN gender ON user.user_id = gender.user_id\n",
    "\"\"\")"
   ]
  },
  {
   "cell_type": "code",
   "execution_count": 16,
   "id": "3965faf2",
   "metadata": {},
   "outputs": [
    {
     "data": {
      "text/html": [
       "<div>\n",
       "<style scoped>\n",
       "    .dataframe tbody tr th:only-of-type {\n",
       "        vertical-align: middle;\n",
       "    }\n",
       "\n",
       "    .dataframe tbody tr th {\n",
       "        vertical-align: top;\n",
       "    }\n",
       "\n",
       "    .dataframe thead th {\n",
       "        text-align: right;\n",
       "    }\n",
       "</style>\n",
       "<table border=\"1\" class=\"dataframe\">\n",
       "  <thead>\n",
       "    <tr style=\"text-align: right;\">\n",
       "      <th></th>\n",
       "      <th>user_id</th>\n",
       "      <th>lt_day</th>\n",
       "      <th>is_new</th>\n",
       "      <th>age</th>\n",
       "      <th>gender_segment</th>\n",
       "      <th>os_name</th>\n",
       "      <th>cpe_type_name</th>\n",
       "      <th>country</th>\n",
       "      <th>city</th>\n",
       "      <th>age_segment</th>\n",
       "      <th>traffic_segment</th>\n",
       "      <th>lifetime_segment</th>\n",
       "      <th>nps_score</th>\n",
       "      <th>nps_group</th>\n",
       "    </tr>\n",
       "  </thead>\n",
       "  <tbody>\n",
       "    <tr>\n",
       "      <th>0</th>\n",
       "      <td>A001A2</td>\n",
       "      <td>2320</td>\n",
       "      <td>no</td>\n",
       "      <td>45.0</td>\n",
       "      <td>female</td>\n",
       "      <td>ANDROID</td>\n",
       "      <td>SMARTPHONE</td>\n",
       "      <td>Россия</td>\n",
       "      <td>Уфа</td>\n",
       "      <td>05 45-54</td>\n",
       "      <td>04 1-5</td>\n",
       "      <td>08 36+</td>\n",
       "      <td>10</td>\n",
       "      <td>promoter</td>\n",
       "    </tr>\n",
       "    <tr>\n",
       "      <th>1</th>\n",
       "      <td>A001WF</td>\n",
       "      <td>2344</td>\n",
       "      <td>no</td>\n",
       "      <td>53.0</td>\n",
       "      <td>male</td>\n",
       "      <td>ANDROID</td>\n",
       "      <td>SMARTPHONE</td>\n",
       "      <td>Россия</td>\n",
       "      <td>Киров</td>\n",
       "      <td>05 45-54</td>\n",
       "      <td>04 1-5</td>\n",
       "      <td>08 36+</td>\n",
       "      <td>10</td>\n",
       "      <td>promoter</td>\n",
       "    </tr>\n",
       "    <tr>\n",
       "      <th>2</th>\n",
       "      <td>A003Q7</td>\n",
       "      <td>467</td>\n",
       "      <td>no</td>\n",
       "      <td>57.0</td>\n",
       "      <td>male</td>\n",
       "      <td>ANDROID</td>\n",
       "      <td>SMARTPHONE</td>\n",
       "      <td>Россия</td>\n",
       "      <td>Москва</td>\n",
       "      <td>06 55-64</td>\n",
       "      <td>08 20-25</td>\n",
       "      <td>06 13-24</td>\n",
       "      <td>10</td>\n",
       "      <td>promoter</td>\n",
       "    </tr>\n",
       "    <tr>\n",
       "      <th>3</th>\n",
       "      <td>A004TB</td>\n",
       "      <td>4190</td>\n",
       "      <td>no</td>\n",
       "      <td>44.0</td>\n",
       "      <td>female</td>\n",
       "      <td>IOS</td>\n",
       "      <td>SMARTPHONE</td>\n",
       "      <td>Россия</td>\n",
       "      <td>РостовнаДону</td>\n",
       "      <td>04 35-44</td>\n",
       "      <td>03 0.1-1</td>\n",
       "      <td>08 36+</td>\n",
       "      <td>10</td>\n",
       "      <td>promoter</td>\n",
       "    </tr>\n",
       "    <tr>\n",
       "      <th>4</th>\n",
       "      <td>A004XT</td>\n",
       "      <td>1163</td>\n",
       "      <td>no</td>\n",
       "      <td>24.0</td>\n",
       "      <td>male</td>\n",
       "      <td>ANDROID</td>\n",
       "      <td>SMARTPHONE</td>\n",
       "      <td>Россия</td>\n",
       "      <td>Рязань</td>\n",
       "      <td>02 16-24</td>\n",
       "      <td>05 5-10</td>\n",
       "      <td>08 36+</td>\n",
       "      <td>10</td>\n",
       "      <td>promoter</td>\n",
       "    </tr>\n",
       "  </tbody>\n",
       "</table>\n",
       "</div>"
      ],
      "text/plain": [
       "  user_id  lt_day is_new   age gender_segment  os_name cpe_type_name country  \\\n",
       "0  A001A2    2320     no  45.0         female  ANDROID    SMARTPHONE  Россия   \n",
       "1  A001WF    2344     no  53.0           male  ANDROID    SMARTPHONE  Россия   \n",
       "2  A003Q7     467     no  57.0           male  ANDROID    SMARTPHONE  Россия   \n",
       "3  A004TB    4190     no  44.0         female      IOS    SMARTPHONE  Россия   \n",
       "4  A004XT    1163     no  24.0           male  ANDROID    SMARTPHONE  Россия   \n",
       "\n",
       "           city age_segment traffic_segment lifetime_segment  nps_score  \\\n",
       "0           Уфа    05 45-54          04 1-5           08 36+         10   \n",
       "1         Киров    05 45-54          04 1-5           08 36+         10   \n",
       "2        Москва    06 55-64        08 20-25         06 13-24         10   \n",
       "3  РостовнаДону    04 35-44        03 0.1-1           08 36+         10   \n",
       "4        Рязань    02 16-24         05 5-10           08 36+         10   \n",
       "\n",
       "  nps_group  \n",
       "0  promoter  \n",
       "1  promoter  \n",
       "2  promoter  \n",
       "3  promoter  \n",
       "4  promoter  "
      ]
     },
     "execution_count": 16,
     "metadata": {},
     "output_type": "execute_result"
    }
   ],
   "source": [
    "# creating a pandas dataframe\n",
    "\n",
    "df = pd.read_sql(query, conn)\n",
    "df.head()"
   ]
  },
  {
   "cell_type": "code",
   "execution_count": 17,
   "id": "ca5b021f",
   "metadata": {},
   "outputs": [
    {
     "name": "stdout",
     "output_type": "stream",
     "text": [
      "<class 'pandas.core.frame.DataFrame'>\n",
      "RangeIndex: 502493 entries, 0 to 502492\n",
      "Data columns (total 14 columns):\n",
      " #   Column            Non-Null Count   Dtype  \n",
      "---  ------            --------------   -----  \n",
      " 0   user_id           502493 non-null  object \n",
      " 1   lt_day            502493 non-null  int64  \n",
      " 2   is_new            502493 non-null  object \n",
      " 3   age               501939 non-null  float64\n",
      " 4   gender_segment    501192 non-null  object \n",
      " 5   os_name           502493 non-null  object \n",
      " 6   cpe_type_name     502493 non-null  object \n",
      " 7   country           502493 non-null  object \n",
      " 8   city              502493 non-null  object \n",
      " 9   age_segment       502493 non-null  object \n",
      " 10  traffic_segment   502493 non-null  object \n",
      " 11  lifetime_segment  502493 non-null  object \n",
      " 12  nps_score         502493 non-null  int64  \n",
      " 13  nps_group         502493 non-null  object \n",
      "dtypes: float64(1), int64(2), object(11)\n",
      "memory usage: 53.7+ MB\n"
     ]
    }
   ],
   "source": [
    "# checking df info\n",
    "\n",
    "df.info()"
   ]
  },
  {
   "cell_type": "code",
   "execution_count": 18,
   "id": "dfd94fb5",
   "metadata": {},
   "outputs": [
    {
     "data": {
      "text/plain": [
       "0"
      ]
     },
     "execution_count": 18,
     "metadata": {},
     "output_type": "execute_result"
    }
   ],
   "source": [
    "# checking for duplicates\n",
    "\n",
    "df.duplicated().sum()"
   ]
  },
  {
   "cell_type": "code",
   "execution_count": 19,
   "id": "5672303c",
   "metadata": {},
   "outputs": [
    {
     "data": {
      "text/plain": [
       "user_id                0\n",
       "lt_day                 0\n",
       "is_new                 0\n",
       "age                  554\n",
       "gender_segment      1301\n",
       "os_name                0\n",
       "cpe_type_name          0\n",
       "country                0\n",
       "city                   0\n",
       "age_segment            0\n",
       "traffic_segment        0\n",
       "lifetime_segment       0\n",
       "nps_score              0\n",
       "nps_group              0\n",
       "dtype: int64"
      ]
     },
     "execution_count": 19,
     "metadata": {},
     "output_type": "execute_result"
    }
   ],
   "source": [
    "# checking for missing values\n",
    "\n",
    "df.isna().sum()"
   ]
  },
  {
   "cell_type": "markdown",
   "id": "f2793160",
   "metadata": {},
   "source": [
    "Since the project description does not provide for data preprocessing, I will move on to creating a dashboard in Tableau based on the obtained table. Note that there are gaps in the age and gender_segment columns, but we will not fill them in."
   ]
  }
 ],
 "metadata": {
  "ExecuteTimeLog": [
   {
    "duration": 11,
    "start_time": "2023-04-23T10:32:42.223Z"
   },
   {
    "duration": 53,
    "start_time": "2023-04-23T10:32:47.222Z"
   },
   {
    "duration": 529,
    "start_time": "2023-04-23T10:32:57.918Z"
   },
   {
    "duration": 96,
    "start_time": "2023-04-23T10:32:58.449Z"
   },
   {
    "duration": 3,
    "start_time": "2023-04-23T10:32:58.546Z"
   },
   {
    "duration": 4973,
    "start_time": "2023-04-23T10:32:58.551Z"
   },
   {
    "duration": 3,
    "start_time": "2023-04-23T10:33:03.526Z"
   },
   {
    "duration": 2,
    "start_time": "2023-04-23T15:54:29.863Z"
   },
   {
    "duration": 520,
    "start_time": "2023-04-23T15:54:40.076Z"
   },
   {
    "duration": 3,
    "start_time": "2023-04-23T15:59:39.364Z"
   },
   {
    "duration": 515,
    "start_time": "2023-04-23T15:59:40.961Z"
   },
   {
    "duration": 3,
    "start_time": "2023-04-23T16:00:15.318Z"
   },
   {
    "duration": 527,
    "start_time": "2023-04-23T16:00:16.723Z"
   },
   {
    "duration": 517,
    "start_time": "2023-04-23T16:00:26.032Z"
   },
   {
    "duration": 2,
    "start_time": "2023-04-23T16:01:57.820Z"
   },
   {
    "duration": 3509,
    "start_time": "2023-04-23T16:01:59.759Z"
   },
   {
    "duration": 497,
    "start_time": "2023-04-23T21:32:42.838Z"
   },
   {
    "duration": 110,
    "start_time": "2023-04-23T21:32:43.337Z"
   },
   {
    "duration": 3,
    "start_time": "2023-04-23T21:32:43.449Z"
   },
   {
    "duration": 757,
    "start_time": "2023-04-23T21:32:43.453Z"
   },
   {
    "duration": 0,
    "start_time": "2023-04-23T21:32:44.212Z"
   },
   {
    "duration": 436,
    "start_time": "2023-04-23T21:33:38.515Z"
   },
   {
    "duration": 65,
    "start_time": "2023-04-23T21:33:38.953Z"
   },
   {
    "duration": 4,
    "start_time": "2023-04-23T21:33:39.020Z"
   },
   {
    "duration": 633,
    "start_time": "2023-04-23T21:33:39.025Z"
   },
   {
    "duration": 1,
    "start_time": "2023-04-23T21:33:39.659Z"
   },
   {
    "duration": 467,
    "start_time": "2023-04-23T21:34:33.473Z"
   },
   {
    "duration": 72,
    "start_time": "2023-04-23T21:34:33.941Z"
   },
   {
    "duration": 3,
    "start_time": "2023-04-23T21:34:34.014Z"
   },
   {
    "duration": 624,
    "start_time": "2023-04-23T21:34:34.018Z"
   },
   {
    "duration": 0,
    "start_time": "2023-04-23T21:34:34.643Z"
   },
   {
    "duration": 3,
    "start_time": "2023-04-23T21:34:49.545Z"
   },
   {
    "duration": 7408,
    "start_time": "2023-04-23T21:34:53.636Z"
   },
   {
    "duration": 3461,
    "start_time": "2023-04-23T21:35:36.630Z"
   },
   {
    "duration": 49,
    "start_time": "2023-04-24T08:52:13.200Z"
   },
   {
    "duration": 498,
    "start_time": "2023-04-24T08:52:20.181Z"
   },
   {
    "duration": 245,
    "start_time": "2023-04-24T08:52:20.681Z"
   },
   {
    "duration": 4,
    "start_time": "2023-04-24T08:52:20.928Z"
   },
   {
    "duration": 7923,
    "start_time": "2023-04-24T08:52:20.934Z"
   },
   {
    "duration": 4181,
    "start_time": "2023-04-24T08:52:28.859Z"
   },
   {
    "duration": 425,
    "start_time": "2023-04-24T08:53:11.800Z"
   },
   {
    "duration": 1117,
    "start_time": "2023-04-24T08:53:44.759Z"
   },
   {
    "duration": 1107,
    "start_time": "2023-04-24T08:53:52.081Z"
   },
   {
    "duration": 6562,
    "start_time": "2023-04-24T08:54:18.886Z"
   },
   {
    "duration": 1175,
    "start_time": "2023-04-24T08:55:19.293Z"
   },
   {
    "duration": 1122,
    "start_time": "2023-04-24T09:11:11.728Z"
   },
   {
    "duration": 4,
    "start_time": "2023-04-24T09:23:44.746Z"
   },
   {
    "duration": 6590,
    "start_time": "2023-04-24T09:23:47.691Z"
   },
   {
    "duration": 434,
    "start_time": "2023-04-24T09:24:17.285Z"
   },
   {
    "duration": 3,
    "start_time": "2023-04-24T09:31:30.552Z"
   },
   {
    "duration": 6580,
    "start_time": "2023-04-24T09:31:35.995Z"
   },
   {
    "duration": 437,
    "start_time": "2023-04-24T09:31:47.085Z"
   },
   {
    "duration": 1187,
    "start_time": "2023-04-24T09:31:51.777Z"
   },
   {
    "duration": 424,
    "start_time": "2023-04-24T09:31:55.041Z"
   },
   {
    "duration": 6531,
    "start_time": "2023-04-24T09:33:31.137Z"
   },
   {
    "duration": 51,
    "start_time": "2023-04-24T17:38:02.442Z"
   },
   {
    "duration": 456,
    "start_time": "2023-04-24T17:38:08.198Z"
   },
   {
    "duration": 109,
    "start_time": "2023-04-24T17:38:08.655Z"
   },
   {
    "duration": 4,
    "start_time": "2023-04-24T17:38:08.765Z"
   },
   {
    "duration": 7865,
    "start_time": "2023-04-24T17:38:08.770Z"
   },
   {
    "duration": 3,
    "start_time": "2023-04-24T17:38:16.636Z"
   },
   {
    "duration": 455,
    "start_time": "2023-04-24T17:38:16.640Z"
   },
   {
    "duration": 1191,
    "start_time": "2023-04-24T17:38:17.096Z"
   },
   {
    "duration": 444,
    "start_time": "2023-04-24T17:38:18.289Z"
   },
   {
    "duration": 68,
    "start_time": "2023-04-24T17:38:18.735Z"
   },
   {
    "duration": 584,
    "start_time": "2023-04-27T06:06:32.858Z"
   },
   {
    "duration": 118,
    "start_time": "2023-04-27T06:06:33.445Z"
   },
   {
    "duration": 3,
    "start_time": "2023-04-27T06:06:33.565Z"
   },
   {
    "duration": 7872,
    "start_time": "2023-04-27T06:06:33.569Z"
   },
   {
    "duration": 2,
    "start_time": "2023-04-27T06:06:41.444Z"
   },
   {
    "duration": 549,
    "start_time": "2023-04-27T06:06:41.447Z"
   },
   {
    "duration": 1578,
    "start_time": "2023-04-27T06:06:41.998Z"
   },
   {
    "duration": 521,
    "start_time": "2023-04-27T06:06:43.578Z"
   },
   {
    "duration": 545,
    "start_time": "2023-04-28T23:12:47.839Z"
   },
   {
    "duration": 100,
    "start_time": "2023-04-28T23:12:48.387Z"
   },
   {
    "duration": 4,
    "start_time": "2023-04-28T23:12:48.488Z"
   },
   {
    "duration": 9434,
    "start_time": "2023-04-28T23:12:48.494Z"
   },
   {
    "duration": 2,
    "start_time": "2023-04-28T23:12:57.930Z"
   },
   {
    "duration": 563,
    "start_time": "2023-04-28T23:12:57.934Z"
   },
   {
    "duration": 1632,
    "start_time": "2023-04-28T23:12:58.499Z"
   },
   {
    "duration": 555,
    "start_time": "2023-04-28T23:13:00.133Z"
   },
   {
    "duration": 4,
    "start_time": "2023-04-28T23:22:52.890Z"
   },
   {
    "duration": 586,
    "start_time": "2023-06-15T20:18:35.527Z"
   },
   {
    "duration": 106,
    "start_time": "2023-06-15T20:18:36.115Z"
   },
   {
    "duration": 4,
    "start_time": "2023-06-15T20:18:36.223Z"
   },
   {
    "duration": 9292,
    "start_time": "2023-06-15T20:18:36.229Z"
   },
   {
    "duration": 3,
    "start_time": "2023-06-15T20:18:45.523Z"
   },
   {
    "duration": 583,
    "start_time": "2023-06-15T20:18:45.527Z"
   },
   {
    "duration": 1746,
    "start_time": "2023-06-15T20:18:46.112Z"
   },
   {
    "duration": 589,
    "start_time": "2023-06-15T20:18:47.860Z"
   },
   {
    "duration": 520,
    "start_time": "2023-11-03T07:52:54.800Z"
   },
   {
    "duration": 87,
    "start_time": "2023-11-03T07:52:55.965Z"
   },
   {
    "duration": 5,
    "start_time": "2023-11-03T07:52:58.171Z"
   },
   {
    "duration": 8580,
    "start_time": "2023-11-03T07:53:03.397Z"
   },
   {
    "duration": 2,
    "start_time": "2023-11-03T07:53:16.546Z"
   },
   {
    "duration": 501,
    "start_time": "2023-11-03T07:53:17.103Z"
   },
   {
    "duration": 1381,
    "start_time": "2023-11-03T07:53:18.305Z"
   },
   {
    "duration": 513,
    "start_time": "2023-11-03T07:53:19.688Z"
   },
   {
    "duration": 538,
    "start_time": "2023-11-30T11:14:27.110Z"
   },
   {
    "duration": 91,
    "start_time": "2023-11-30T11:14:27.650Z"
   },
   {
    "duration": 4,
    "start_time": "2023-11-30T11:14:27.742Z"
   },
   {
    "duration": 8512,
    "start_time": "2023-11-30T11:14:27.747Z"
   },
   {
    "duration": 2,
    "start_time": "2023-11-30T11:14:36.260Z"
   },
   {
    "duration": 487,
    "start_time": "2023-11-30T11:14:36.264Z"
   },
   {
    "duration": 1336,
    "start_time": "2023-11-30T11:14:36.753Z"
   },
   {
    "duration": 483,
    "start_time": "2023-11-30T11:14:38.090Z"
   }
  ],
  "kernelspec": {
   "display_name": "Python 3 (ipykernel)",
   "language": "python",
   "name": "python3"
  },
  "language_info": {
   "codemirror_mode": {
    "name": "ipython",
    "version": 3
   },
   "file_extension": ".py",
   "mimetype": "text/x-python",
   "name": "python",
   "nbconvert_exporter": "python",
   "pygments_lexer": "ipython3",
   "version": "3.9.12"
  },
  "toc": {
   "base_numbering": 1,
   "nav_menu": {},
   "number_sections": true,
   "sideBar": true,
   "skip_h1_title": true,
   "title_cell": "Table of Contents",
   "title_sidebar": "Contents",
   "toc_cell": false,
   "toc_position": {},
   "toc_section_display": true,
   "toc_window_display": false
  }
 },
 "nbformat": 4,
 "nbformat_minor": 5
}
